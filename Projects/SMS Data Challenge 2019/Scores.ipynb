{
 "cells": [
  {
   "cell_type": "code",
   "execution_count": null,
   "metadata": {
    "pycharm": {
     "name": "#%%\n"
    }
   },
   "outputs": [],
   "source": [
    "\"\"\"\n",
    "                                                            MY LEADERBOARD\n",
    "\n",
    "\n",
    "! 0.32    KNeighborsClassifier(weights= 'uniform', p=1, n_neighbors=3, leaf_size=10, algorithm  = 'ball_tree')  \n",
    "! 0.3184  ExtraTreesClassifier(n_estimators = 75) \n",
    "! 0.3109  RandomForestClassifier(n_estimators= 7, max_features= None, criterion= 'entropy', class_weight=None)\n",
    "! 0.30 OneVsRestClassifier( xgb.XGBClassifier(booster= 'gbtree', colsample_bytree= 0.8095632951174561,  gamma= 0.2520958161210098,\n",
    "                            learning_rate=0.3017490596517869, max_depth= 13, min_child_weight=7, n_estimators = 141,\n",
    "                            objective='binary:logistic', subsample=0.6052065454109774)\n",
    "0.2548  DecisionTreeClassifier()\n",
    "0.1436  SGDClassifier( max_iter=40, loss= 'modified_huber', learning_rate= 'adaptive', eta0 = 0.001)\n",
    "0.1371  Perceptron( max_iter= 300)\n",
    "\n",
    "!0.291  OneVsRestClassifier(  xgb.XGBClassifier(n_jobs=4, colsample_bytree=0.8874283813129753, gamma=0.16793292857491754,\n",
    "                     learning_rate=0.27753219942679797, max_depth=4, n_estimators=122, subsample=0.6136912443282116) )\n",
    "!0.363 (+/- 0.007)  KERAS NN   (4 layer best)\n",
    "\n",
    "\"\"\""
   ]
  },
  {
   "cell_type": "code",
   "execution_count": null,
   "metadata": {
    "pycharm": {
     "name": "#%%\n"
    }
   },
   "outputs": [],
   "source": [
    "# 4*400   TOP\n",
    "    input1 = Input(shape=(29,) , name='material_weight')\n",
    "    dense1 = Dense(400, activation=\"relu\")(input1)\n",
    "    bn1 = BatchNormalization()(dense1)\n",
    "    \n",
    "    dense2 = Dense(400, activation=\"relu\")(bn1)##########\n",
    "    bn2 = BatchNormalization()(dense2)#\n",
    "    \n",
    "    dense3 = Dense(400, activation=\"relu\")(bn2)#\n",
    "    bn3 = BatchNormalization()(dense3)##################\n",
    "    \n",
    "    dense4 = Dense(400, activation=\"relu\")(bn3)#\n",
    "    bn4 = BatchNormalization()(dense4)##################\n",
    "    \n",
    "    output = Dense(123, activation=\"sigmoid\")(bn4)\n",
    "    model_CV =  Model(inputs=input1, outputs=output)\n",
    "\n",
    "    model_CV.compile(loss='binary_crossentropy',\n",
    "                    optimizer='adam',\n",
    "                    metrics=['accuracy'])\n",
    "\n",
    "    model_CV.fit(X[train], Y[train], batch_size=64, epochs=35,verbose=0 ) #,  callbacks=[early_stop,reduce_lr]\n",
    "\n",
    "# 0.363 (+/- 0.007)\n",
    "# you can also try кegularization"
   ]
  },
  {
   "cell_type": "code",
   "execution_count": null,
   "metadata": {
    "pycharm": {
     "name": "#%%\n"
    }
   },
   "outputs": [],
   "source": [
    "#  0.363                Keras NN\n",
    "\n",
    "\n",
    "\n",
    "#  0.26062126849528430  Perceptron\n",
    "#  0.25115253557827216  DecisionTreeClassifier() \n",
    "#  0.21921581335061570  SGDClassifier(loss=\"hinge\", penalty=\"l2\", max_iter=250)\n",
    "\n",
    "#  0.23290870488322718  MLPClassifier()  under-trained...\n",
    "\n",
    "#  0.14670446491849750  AdaBoostClassifier( ?DecisionTreeClassifier(max_depth=2)?,n_estimators=50)   \n",
    "#  0.10380388841927304  GradientBoostingClassifier\n",
    "#  0.09927175162897661  SVC(kernel='rbf', gamma = 'scale')\n",
    "#  0.08258459185624165  RidgeClassifier\n",
    "#  0.06174427085332616  MultinomialNB\n",
    "\n",
    "#BAGGING  0.18 ....."
   ]
  },
  {
   "cell_type": "code",
   "execution_count": null,
   "metadata": {
    "pycharm": {
     "name": "#%%\n"
    }
   },
   "outputs": [],
   "source": [
    "relu\n",
    "0.364 (+/- 0.005)\n",
    "\n",
    "adadelta + elu\n",
    "0.368 (+/- 0.005)\n",
    "\n",
    "Adam + elu\n",
    "0.369 (+/- 0.003)"
   ]
  },
  {
   "cell_type": "code",
   "execution_count": null,
   "metadata": {
    "pycharm": {
     "name": "#%%\n"
    }
   },
   "outputs": [],
   "source": [
    "Adam\n",
    "0.364 (+/- 0.005)\n",
    "\n",
    "Adadelta\n",
    "0.361 (+/- 0.005)"
   ]
  },
  {
   "cell_type": "code",
   "execution_count": null,
   "metadata": {
    "pycharm": {
     "name": "#%%\n"
    }
   },
   "outputs": [],
   "source": [
    "batch 16\n",
    "0.362 (+/- 0.007)\n",
    "\n",
    "batch 32\n",
    "0.364 (+/- 0.005)\n",
    "\n",
    "batch 64\n",
    "0.361 (+/- 0.006)"
   ]
  },
  {
   "cell_type": "code",
   "execution_count": null,
   "metadata": {
    "pycharm": {
     "name": "#%%\n"
    }
   },
   "outputs": [],
   "source": [
    "epo 3\n",
    "0.362 (+/- 0.003)\n",
    "\n",
    "epo 4\n",
    "0.364 (+/- 0.005)\n",
    "\n",
    "epo 5\n",
    "0.362 (+/- 0.004)"
   ]
  }
 ],
 "metadata": {
  "kernelspec": {
   "display_name": "Python 3",
   "language": "python",
   "name": "python3"
  },
  "language_info": {
   "codemirror_mode": {
    "name": "ipython",
    "version": 3
   },
   "file_extension": ".py",
   "mimetype": "text/x-python",
   "name": "python",
   "nbconvert_exporter": "python",
   "pygments_lexer": "ipython3",
   "version": "3.7.4"
  }
 },
 "nbformat": 4,
 "nbformat_minor": 4
}