{
 "cells": [
  {
   "cell_type": "markdown",
   "metadata": {
    "pycharm": {
     "name": "#%% md\n"
    }
   },
   "source": [
    "# SVM without descriptors"
   ]
  },
  {
   "cell_type": "code",
   "execution_count": 1,
   "metadata": {
    "pycharm": {
     "name": "#%%\n"
    }
   },
   "outputs": [],
   "source": [
    "import matplotlib.pyplot as plt\n",
    "from sklearn.preprocessing import StandardScaler\n",
    "from sklearn.model_selection import train_test_split\n",
    "import numpy as np\n",
    "from tdc.single_pred import Tox\n",
    "from rdkit import Chem, DataStructs\n",
    "from rdkit.Chem import PandasTools, AllChem\n",
    "import pandas as pd\n",
    "from sklearn.dummy import DummyRegressor\n",
    "from sklearn.metrics import explained_variance_score, max_error, \\\n",
    "                     mean_absolute_error, mean_squared_error, r2_score"
   ]
  },
  {
   "cell_type": "code",
   "execution_count": 2,
   "metadata": {
    "pycharm": {
     "name": "#%%\n"
    }
   },
   "outputs": [
    {
     "name": "stderr",
     "output_type": "stream",
     "text": [
      "Found local copy...\n",
      "Loading...\n",
      "Done!\n"
     ]
    }
   ],
   "source": [
    "data = Tox(name='LD50_Zhu').get_data()"
   ]
  },
  {
   "cell_type": "code",
   "execution_count": 3,
   "metadata": {
    "pycharm": {
     "name": "#%%\n"
    }
   },
   "outputs": [
    {
     "data": {
      "text/html": [
       "<div>\n",
       "<style scoped>\n",
       "    .dataframe tbody tr th:only-of-type {\n",
       "        vertical-align: middle;\n",
       "    }\n",
       "\n",
       "    .dataframe tbody tr th {\n",
       "        vertical-align: top;\n",
       "    }\n",
       "\n",
       "    .dataframe thead th {\n",
       "        text-align: right;\n",
       "    }\n",
       "</style>\n",
       "<table border=\"1\" class=\"dataframe\">\n",
       "  <thead>\n",
       "    <tr style=\"text-align: right;\">\n",
       "      <th></th>\n",
       "      <th>Drug_ID</th>\n",
       "      <th>Drug</th>\n",
       "      <th>Y</th>\n",
       "    </tr>\n",
       "  </thead>\n",
       "  <tbody>\n",
       "    <tr>\n",
       "      <th>0</th>\n",
       "      <td>Diazene, diphenyl-, 1-oxide</td>\n",
       "      <td>[O-][N+](=Nc1ccccc1)c1ccccc1</td>\n",
       "      <td>2.505</td>\n",
       "    </tr>\n",
       "    <tr>\n",
       "      <th>1</th>\n",
       "      <td>Methane, tribromo-</td>\n",
       "      <td>BrC(Br)Br</td>\n",
       "      <td>2.343</td>\n",
       "    </tr>\n",
       "    <tr>\n",
       "      <th>2</th>\n",
       "      <td>Bromoethene (9CI)</td>\n",
       "      <td>C=CBr</td>\n",
       "      <td>2.330</td>\n",
       "    </tr>\n",
       "    <tr>\n",
       "      <th>3</th>\n",
       "      <td>1,1'-Biphenyl, hexabromo-</td>\n",
       "      <td>Brc1ccc(-c2ccc(Br)c(Br)c2Br)c(Br)c1Br</td>\n",
       "      <td>1.465</td>\n",
       "    </tr>\n",
       "    <tr>\n",
       "      <th>4</th>\n",
       "      <td>Isothiocyanic acid, p-bromophenyl ester</td>\n",
       "      <td>S=C=Nc1ccc(Br)cc1</td>\n",
       "      <td>2.729</td>\n",
       "    </tr>\n",
       "    <tr>\n",
       "      <th>...</th>\n",
       "      <td>...</td>\n",
       "      <td>...</td>\n",
       "      <td>...</td>\n",
       "    </tr>\n",
       "    <tr>\n",
       "      <th>7380</th>\n",
       "      <td>Isocyanic acid, (alpha,alpha,alpha-trifluoro-o...</td>\n",
       "      <td>O=C=Nc1ccccc1C(F)(F)F</td>\n",
       "      <td>1.427</td>\n",
       "    </tr>\n",
       "    <tr>\n",
       "      <th>7381</th>\n",
       "      <td>1,3-Benzenediamine, 4-(1,1,2,2-tetrafluoroetho...</td>\n",
       "      <td>Nc1ccc(OC(F)(F)C(F)F)c(N)c1</td>\n",
       "      <td>2.321</td>\n",
       "    </tr>\n",
       "    <tr>\n",
       "      <th>7382</th>\n",
       "      <td>Propanenitrile, 3-((2-(acetyloxy)ethyl)phenyla...</td>\n",
       "      <td>CC(=O)OCCN(CCC#N)c1ccccc1</td>\n",
       "      <td>2.050</td>\n",
       "    </tr>\n",
       "    <tr>\n",
       "      <th>7383</th>\n",
       "      <td>IH-Indene-1,3(2H)-dione, 2-(2-methyl-1-(2-(1-p...</td>\n",
       "      <td>CC1=CC(=C2C(=O)c3ccccc3C2=O)C=CN1CCN1CCCCC1</td>\n",
       "      <td>2.951</td>\n",
       "    </tr>\n",
       "    <tr>\n",
       "      <th>7384</th>\n",
       "      <td>1-Propanone, 1-(2,4,6-trihydroxyphenyl)-</td>\n",
       "      <td>CCC(=O)c1c(O)cc(O)cc1O</td>\n",
       "      <td>1.884</td>\n",
       "    </tr>\n",
       "  </tbody>\n",
       "</table>\n",
       "<p>7385 rows × 3 columns</p>\n",
       "</div>"
      ],
      "text/plain": [
       "                                                Drug_ID  \\\n",
       "0                           Diazene, diphenyl-, 1-oxide   \n",
       "1                                    Methane, tribromo-   \n",
       "2                                     Bromoethene (9CI)   \n",
       "3                             1,1'-Biphenyl, hexabromo-   \n",
       "4               Isothiocyanic acid, p-bromophenyl ester   \n",
       "...                                                 ...   \n",
       "7380  Isocyanic acid, (alpha,alpha,alpha-trifluoro-o...   \n",
       "7381  1,3-Benzenediamine, 4-(1,1,2,2-tetrafluoroetho...   \n",
       "7382  Propanenitrile, 3-((2-(acetyloxy)ethyl)phenyla...   \n",
       "7383  IH-Indene-1,3(2H)-dione, 2-(2-methyl-1-(2-(1-p...   \n",
       "7384           1-Propanone, 1-(2,4,6-trihydroxyphenyl)-   \n",
       "\n",
       "                                             Drug      Y  \n",
       "0                    [O-][N+](=Nc1ccccc1)c1ccccc1  2.505  \n",
       "1                                       BrC(Br)Br  2.343  \n",
       "2                                           C=CBr  2.330  \n",
       "3           Brc1ccc(-c2ccc(Br)c(Br)c2Br)c(Br)c1Br  1.465  \n",
       "4                               S=C=Nc1ccc(Br)cc1  2.729  \n",
       "...                                           ...    ...  \n",
       "7380                        O=C=Nc1ccccc1C(F)(F)F  1.427  \n",
       "7381                  Nc1ccc(OC(F)(F)C(F)F)c(N)c1  2.321  \n",
       "7382                    CC(=O)OCCN(CCC#N)c1ccccc1  2.050  \n",
       "7383  CC1=CC(=C2C(=O)c3ccccc3C2=O)C=CN1CCN1CCCCC1  2.951  \n",
       "7384                       CCC(=O)c1c(O)cc(O)cc1O  1.884  \n",
       "\n",
       "[7385 rows x 3 columns]"
      ]
     },
     "execution_count": 3,
     "metadata": {},
     "output_type": "execute_result"
    }
   ],
   "source": [
    "data"
   ]
  },
  {
   "cell_type": "code",
   "execution_count": 4,
   "metadata": {
    "pycharm": {
     "name": "#%%\n"
    }
   },
   "outputs": [
    {
     "name": "stdout",
     "output_type": "stream",
     "text": [
      "Smiles loaded\n"
     ]
    }
   ],
   "source": [
    "PandasTools.AddMoleculeColumnToFrame(data,'Drug','Molecule')\n",
    "if data.Molecule.isna().sum() == 0:\n",
    "    print('Smiles loaded')"
   ]
  },
  {
   "cell_type": "code",
   "execution_count": 5,
   "metadata": {
    "pycharm": {
     "name": "#%%\n"
    }
   },
   "outputs": [
    {
     "data": {
      "text/html": [
       "<div>\n",
       "<style scoped>\n",
       "    .dataframe tbody tr th:only-of-type {\n",
       "        vertical-align: middle;\n",
       "    }\n",
       "\n",
       "    .dataframe tbody tr th {\n",
       "        vertical-align: top;\n",
       "    }\n",
       "\n",
       "    .dataframe thead th {\n",
       "        text-align: right;\n",
       "    }\n",
       "</style>\n",
       "<table border=\"1\" class=\"dataframe\">\n",
       "  <thead>\n",
       "    <tr style=\"text-align: right;\">\n",
       "      <th></th>\n",
       "      <th>Drug_ID</th>\n",
       "      <th>Drug</th>\n",
       "      <th>Y</th>\n",
       "      <th>Molecule</th>\n",
       "    </tr>\n",
       "  </thead>\n",
       "  <tbody>\n",
       "    <tr>\n",
       "      <th>1003</th>\n",
       "      <td>Hexanal, 3-ethoxy-, diethyl acetal</td>\n",
       "      <td>CCCC(CC(OCC)OCC)OCC</td>\n",
       "      <td>1.109</td>\n",
       "      <td><img data-content=\"rdkit/molecule\" src=\"data:image/png;base64,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\" alt=\"Mol\"/></td>\n",
       "    </tr>\n",
       "    <tr>\n",
       "      <th>2792</th>\n",
       "      <td>Ether, 2-chloro-alpha,alpha,alpha-trifluoro-p-...</td>\n",
       "      <td>O=[N+]([O-])c1ccc(Oc2ccc(C(F)(F)F)cc2Cl)cc1</td>\n",
       "      <td>2.502</td>\n",
       "      <td><img data-content=\"rdkit/molecule\" src=\"data:image/png;base64,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\" alt=\"Mol\"/></td>\n",
       "    </tr>\n",
       "    <tr>\n",
       "      <th>1952</th>\n",
       "      <td>3-Azabicyclo(3.1.0)hexane-2,4-dione, 1-(4-chlo...</td>\n",
       "      <td>O=C1NC(=O)C2(c3ccc(Cl)cc3)CC12</td>\n",
       "      <td>2.155</td>\n",
       "      <td><img data-content=\"rdkit/molecule\" src=\"data:image/png;base64,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\" alt=\"Mol\"/></td>\n",
       "    </tr>\n",
       "  </tbody>\n",
       "</table>\n",
       "</div>"
      ],
      "text/plain": [
       "                                                Drug_ID  \\\n",
       "1003                 Hexanal, 3-ethoxy-, diethyl acetal   \n",
       "2792  Ether, 2-chloro-alpha,alpha,alpha-trifluoro-p-...   \n",
       "1952  3-Azabicyclo(3.1.0)hexane-2,4-dione, 1-(4-chlo...   \n",
       "\n",
       "                                             Drug      Y  \\\n",
       "1003                          CCCC(CC(OCC)OCC)OCC  1.109   \n",
       "2792  O=[N+]([O-])c1ccc(Oc2ccc(C(F)(F)F)cc2Cl)cc1  2.502   \n",
       "1952               O=C1NC(=O)C2(c3ccc(Cl)cc3)CC12  2.155   \n",
       "\n",
       "                                               Molecule  \n",
       "1003  <img data-content=\"rdkit/molecule\" src=\"data:i...  \n",
       "2792  <img data-content=\"rdkit/molecule\" src=\"data:i...  \n",
       "1952  <img data-content=\"rdkit/molecule\" src=\"data:i...  "
      ]
     },
     "execution_count": 5,
     "metadata": {},
     "output_type": "execute_result"
    }
   ],
   "source": [
    "data.sample(3)"
   ]
  },
  {
   "cell_type": "markdown",
   "source": [
    "# And again, the descriptors didn’t improve the accuracy, so I removed them"
   ],
   "metadata": {
    "collapsed": false,
    "pycharm": {
     "name": "#%% md\n"
    }
   }
  },
  {
   "cell_type": "code",
   "execution_count": 6,
   "metadata": {
    "pycharm": {
     "name": "#%%\n"
    }
   },
   "outputs": [],
   "source": [
    "def MorganFP(mol):\n",
    "    fp = AllChem.GetHashedMorganFingerprint(mol, 2, nBits=4096)\n",
    "    #fp = AllChem.GetMorganFingerprintAsBitVect(mol,2,nBits=4096)\n",
    "    ar = np.zeros((1,), dtype=np.int8)\n",
    "    DataStructs.ConvertToNumpyArray(fp, ar)\n",
    "    \n",
    "    \"\"\"\n",
    "    d = [\n",
    "        Descriptors.MolLogP(mol),\n",
    "        Descriptors.MolMR(mol), \n",
    "        Descriptors.MolWt(mol),\n",
    "        Descriptors.ExactMolWt(mol),\n",
    "        Descriptors.BalabanJ(mol), \n",
    "        Descriptors.NumHAcceptors(mol),\n",
    "        Descriptors.NumHDonors(mol),\n",
    "        Descriptors.NumValenceElectrons(mol),\n",
    "        Descriptors.HeavyAtomCount(mol),\n",
    "        Descriptors.HeavyAtomMolWt(mol),\n",
    "        Descriptors.TPSA(mol),\n",
    "        Descriptors.FpDensityMorgan1(mol),\n",
    "        Descriptors.FpDensityMorgan2(mol),\n",
    "        Descriptors.FpDensityMorgan3(mol),\n",
    "        Descriptors.MaxAbsPartialCharge(mol),\n",
    "        Descriptors.MaxPartialCharge(mol),\n",
    "        Descriptors.MinAbsPartialCharge(mol),\n",
    "        Descriptors.MinPartialCharge(mol),\n",
    "        Descriptors.NumRadicalElectrons(mol),\n",
    "        Descriptors.NumValenceElectrons(mol),\n",
    "        rdMolDescriptors.CalcChi0n(mol),\n",
    "        rdMolDescriptors.CalcChi0v(mol),\n",
    "        rdMolDescriptors.CalcChi1n(mol),\n",
    "        rdMolDescriptors.CalcChi1v(mol),\n",
    "        rdMolDescriptors.CalcChi2n(mol),\n",
    "        rdMolDescriptors.CalcChi2v(mol),\n",
    "        rdMolDescriptors.CalcChi3n(mol),\n",
    "        rdMolDescriptors.CalcChi3v(mol),\n",
    "        rdMolDescriptors.CalcChi4n(mol),\n",
    "        rdMolDescriptors.CalcChi4v(mol),\n",
    "        rdMolDescriptors.CalcKappa1(mol),\n",
    "        rdMolDescriptors.CalcKappa2(mol),\n",
    "        rdMolDescriptors.CalcKappa3(mol),\n",
    "        rdMolDescriptors.CalcLabuteASA(mol),\n",
    "        # and others https://www.rdkit.org/docs/source/rdkit.Chem.rdMolDescriptors.html\n",
    "        ]\n",
    "    \n",
    "    ar2 = np.asarray(d, dtype=np.float32)\n",
    "    #ar2 = np.array(d)\n",
    "    \n",
    "    return np.concatenate((ar, ar2))\n",
    "    \"\"\"\n",
    "    return ar"
   ]
  },
  {
   "cell_type": "code",
   "execution_count": 7,
   "metadata": {
    "pycharm": {
     "name": "#%%\n"
    }
   },
   "outputs": [],
   "source": [
    "data[\"Morgan_FP\"] = data.Molecule.apply(MorganFP)"
   ]
  },
  {
   "cell_type": "code",
   "execution_count": 8,
   "metadata": {
    "pycharm": {
     "name": "#%%\n"
    }
   },
   "outputs": [
    {
     "data": {
      "text/html": [
       "<div>\n",
       "<style scoped>\n",
       "    .dataframe tbody tr th:only-of-type {\n",
       "        vertical-align: middle;\n",
       "    }\n",
       "\n",
       "    .dataframe tbody tr th {\n",
       "        vertical-align: top;\n",
       "    }\n",
       "\n",
       "    .dataframe thead th {\n",
       "        text-align: right;\n",
       "    }\n",
       "</style>\n",
       "<table border=\"1\" class=\"dataframe\">\n",
       "  <thead>\n",
       "    <tr style=\"text-align: right;\">\n",
       "      <th></th>\n",
       "      <th>Drug_ID</th>\n",
       "      <th>Drug</th>\n",
       "      <th>Y</th>\n",
       "      <th>Molecule</th>\n",
       "      <th>Morgan_FP</th>\n",
       "    </tr>\n",
       "  </thead>\n",
       "  <tbody>\n",
       "    <tr>\n",
       "      <th>5738</th>\n",
       "      <td>Benzenamine, 2,4-dichloro-</td>\n",
       "      <td>Nc1ccc(Cl)cc1Cl</td>\n",
       "      <td>2.005</td>\n",
       "      <td><img data-content=\"rdkit/molecule\" src=\"data:image/png;base64,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\" alt=\"Mol\"/></td>\n",
       "      <td>[0, 0, 0, 0, 0, 0, 0, 0, 0, 0, 0, 0, 0, 0, 0, ...</td>\n",
       "    </tr>\n",
       "  </tbody>\n",
       "</table>\n",
       "</div>"
      ],
      "text/plain": [
       "                         Drug_ID             Drug      Y  \\\n",
       "5738  Benzenamine, 2,4-dichloro-  Nc1ccc(Cl)cc1Cl  2.005   \n",
       "\n",
       "                                               Molecule  \\\n",
       "5738  <img data-content=\"rdkit/molecule\" src=\"data:i...   \n",
       "\n",
       "                                              Morgan_FP  \n",
       "5738  [0, 0, 0, 0, 0, 0, 0, 0, 0, 0, 0, 0, 0, 0, 0, ...  "
      ]
     },
     "execution_count": 8,
     "metadata": {},
     "output_type": "execute_result"
    }
   ],
   "source": [
    "data.sample(1)"
   ]
  },
  {
   "cell_type": "code",
   "execution_count": 9,
   "metadata": {
    "pycharm": {
     "name": "#%%\n"
    }
   },
   "outputs": [
    {
     "name": "stdout",
     "output_type": "stream",
     "text": [
      "(7385, 4096)\n"
     ]
    }
   ],
   "source": [
    "X = np.stack(data.Morgan_FP.values)\n",
    "print(X.shape)"
   ]
  },
  {
   "cell_type": "code",
   "execution_count": 10,
   "metadata": {
    "pycharm": {
     "name": "#%%\n"
    }
   },
   "outputs": [],
   "source": [
    "y = data.Y.values.reshape((-1,1))\n",
    "X_train, X_test, y_train, y_test = train_test_split(X, y, test_size=0.10, random_state=42)"
   ]
  },
  {
   "cell_type": "code",
   "execution_count": 11,
   "metadata": {
    "pycharm": {
     "name": "#%%\n"
    }
   },
   "outputs": [],
   "source": [
    "scaler = StandardScaler()\n",
    "y_train = scaler.fit_transform(y_train)\n",
    "y_test = scaler.transform(y_test)"
   ]
  },
  {
   "cell_type": "code",
   "execution_count": 12,
   "metadata": {
    "pycharm": {
     "name": "#%%\n"
    }
   },
   "outputs": [
    {
     "data": {
      "text/plain": [
       "(6646, 159)"
      ]
     },
     "execution_count": 12,
     "metadata": {},
     "output_type": "execute_result"
    }
   ],
   "source": [
    "from sklearn.feature_selection import VarianceThreshold\n",
    "feature_select = VarianceThreshold(threshold=0.05)\n",
    "X_train = feature_select.fit_transform(X_train)\n",
    "X_test = feature_select.transform(X_test)\n",
    "X_train.shape"
   ]
  },
  {
   "cell_type": "code",
   "execution_count": 15,
   "metadata": {
    "pycharm": {
     "name": "#%%\n"
    }
   },
   "outputs": [],
   "source": [
    "from sklearn.svm import SVR\n",
    "from sklearn.model_selection import RandomizedSearchCV\n",
    "\n",
    "regr = SVR()\n",
    "parameters = {'C' : [1.0, 0.1, 0.01, 0.001],\n",
    "              'epsilon':[1.0, 0.1, 0.01, 0.001] }\n",
    "randomized_search_model = RandomizedSearchCV(regr, parameters, n_iter=20, cv=5, verbose=1, scoring='neg_mean_squared_error')"
   ]
  },
  {
   "cell_type": "code",
   "execution_count": 16,
   "metadata": {
    "scrolled": true,
    "pycharm": {
     "name": "#%%\n"
    }
   },
   "outputs": [
    {
     "name": "stdout",
     "output_type": "stream",
     "text": [
      "Fitting 5 folds for each of 16 candidates, totalling 80 fits\n"
     ]
    },
    {
     "data": {
      "text/plain": [
       "RandomizedSearchCV(cv=5, estimator=SVR(), n_iter=20,\n",
       "                   param_distributions={'C': [1.0, 0.1, 0.01, 0.001],\n",
       "                                        'epsilon': [1.0, 0.1, 0.01, 0.001]},\n",
       "                   scoring='neg_mean_squared_error', verbose=1)"
      ]
     },
     "execution_count": 16,
     "metadata": {},
     "output_type": "execute_result"
    }
   ],
   "source": [
    "randomized_search_model.fit(X_train, y_train)"
   ]
  },
  {
   "cell_type": "code",
   "execution_count": 17,
   "metadata": {
    "pycharm": {
     "name": "#%%\n"
    }
   },
   "outputs": [
    {
     "data": {
      "text/html": [
       "<div>\n",
       "<style scoped>\n",
       "    .dataframe tbody tr th:only-of-type {\n",
       "        vertical-align: middle;\n",
       "    }\n",
       "\n",
       "    .dataframe tbody tr th {\n",
       "        vertical-align: top;\n",
       "    }\n",
       "\n",
       "    .dataframe thead th {\n",
       "        text-align: right;\n",
       "    }\n",
       "</style>\n",
       "<table border=\"1\" class=\"dataframe\">\n",
       "  <thead>\n",
       "    <tr style=\"text-align: right;\">\n",
       "      <th></th>\n",
       "      <th>mean_fit_time</th>\n",
       "      <th>std_fit_time</th>\n",
       "      <th>mean_score_time</th>\n",
       "      <th>std_score_time</th>\n",
       "      <th>param_epsilon</th>\n",
       "      <th>param_C</th>\n",
       "      <th>params</th>\n",
       "      <th>split0_test_score</th>\n",
       "      <th>split1_test_score</th>\n",
       "      <th>split2_test_score</th>\n",
       "      <th>split3_test_score</th>\n",
       "      <th>split4_test_score</th>\n",
       "      <th>mean_test_score</th>\n",
       "      <th>std_test_score</th>\n",
       "      <th>rank_test_score</th>\n",
       "    </tr>\n",
       "  </thead>\n",
       "  <tbody>\n",
       "    <tr>\n",
       "      <th>0</th>\n",
       "      <td>0.940829</td>\n",
       "      <td>0.046707</td>\n",
       "      <td>0.313913</td>\n",
       "      <td>0.028718</td>\n",
       "      <td>1.0</td>\n",
       "      <td>1.0</td>\n",
       "      <td>{'epsilon': 1.0, 'C': 1.0}</td>\n",
       "      <td>-0.587619</td>\n",
       "      <td>-0.582769</td>\n",
       "      <td>-0.584036</td>\n",
       "      <td>-0.583647</td>\n",
       "      <td>-0.526175</td>\n",
       "      <td>-0.572849</td>\n",
       "      <td>0.023396</td>\n",
       "      <td>4</td>\n",
       "    </tr>\n",
       "    <tr>\n",
       "      <th>1</th>\n",
       "      <td>4.394728</td>\n",
       "      <td>0.111542</td>\n",
       "      <td>1.683503</td>\n",
       "      <td>0.061498</td>\n",
       "      <td>0.1</td>\n",
       "      <td>1.0</td>\n",
       "      <td>{'epsilon': 0.1, 'C': 1.0}</td>\n",
       "      <td>-0.510577</td>\n",
       "      <td>-0.500299</td>\n",
       "      <td>-0.507378</td>\n",
       "      <td>-0.517462</td>\n",
       "      <td>-0.443295</td>\n",
       "      <td>-0.495802</td>\n",
       "      <td>0.026828</td>\n",
       "      <td>1</td>\n",
       "    </tr>\n",
       "    <tr>\n",
       "      <th>2</th>\n",
       "      <td>5.034691</td>\n",
       "      <td>0.098702</td>\n",
       "      <td>1.945486</td>\n",
       "      <td>0.031571</td>\n",
       "      <td>0.01</td>\n",
       "      <td>1.0</td>\n",
       "      <td>{'epsilon': 0.01, 'C': 1.0}</td>\n",
       "      <td>-0.514261</td>\n",
       "      <td>-0.505963</td>\n",
       "      <td>-0.509290</td>\n",
       "      <td>-0.520007</td>\n",
       "      <td>-0.442872</td>\n",
       "      <td>-0.498479</td>\n",
       "      <td>0.028205</td>\n",
       "      <td>2</td>\n",
       "    </tr>\n",
       "    <tr>\n",
       "      <th>3</th>\n",
       "      <td>5.240824</td>\n",
       "      <td>0.159232</td>\n",
       "      <td>2.081734</td>\n",
       "      <td>0.106927</td>\n",
       "      <td>0.001</td>\n",
       "      <td>1.0</td>\n",
       "      <td>{'epsilon': 0.001, 'C': 1.0}</td>\n",
       "      <td>-0.514729</td>\n",
       "      <td>-0.506400</td>\n",
       "      <td>-0.509362</td>\n",
       "      <td>-0.520119</td>\n",
       "      <td>-0.443053</td>\n",
       "      <td>-0.498732</td>\n",
       "      <td>0.028232</td>\n",
       "      <td>3</td>\n",
       "    </tr>\n",
       "    <tr>\n",
       "      <th>4</th>\n",
       "      <td>1.060054</td>\n",
       "      <td>0.025729</td>\n",
       "      <td>0.379615</td>\n",
       "      <td>0.016551</td>\n",
       "      <td>1.0</td>\n",
       "      <td>0.1</td>\n",
       "      <td>{'epsilon': 1.0, 'C': 0.1}</td>\n",
       "      <td>-0.737718</td>\n",
       "      <td>-0.711363</td>\n",
       "      <td>-0.697214</td>\n",
       "      <td>-0.733535</td>\n",
       "      <td>-0.654400</td>\n",
       "      <td>-0.706846</td>\n",
       "      <td>0.030097</td>\n",
       "      <td>8</td>\n",
       "    </tr>\n",
       "    <tr>\n",
       "      <th>5</th>\n",
       "      <td>4.520476</td>\n",
       "      <td>0.121430</td>\n",
       "      <td>1.850718</td>\n",
       "      <td>0.044149</td>\n",
       "      <td>0.1</td>\n",
       "      <td>0.1</td>\n",
       "      <td>{'epsilon': 0.1, 'C': 0.1}</td>\n",
       "      <td>-0.667154</td>\n",
       "      <td>-0.638571</td>\n",
       "      <td>-0.614197</td>\n",
       "      <td>-0.676519</td>\n",
       "      <td>-0.568152</td>\n",
       "      <td>-0.632919</td>\n",
       "      <td>0.039116</td>\n",
       "      <td>5</td>\n",
       "    </tr>\n",
       "    <tr>\n",
       "      <th>6</th>\n",
       "      <td>5.004652</td>\n",
       "      <td>0.163788</td>\n",
       "      <td>2.045310</td>\n",
       "      <td>0.046948</td>\n",
       "      <td>0.01</td>\n",
       "      <td>0.1</td>\n",
       "      <td>{'epsilon': 0.01, 'C': 0.1}</td>\n",
       "      <td>-0.670180</td>\n",
       "      <td>-0.643425</td>\n",
       "      <td>-0.615251</td>\n",
       "      <td>-0.679659</td>\n",
       "      <td>-0.572741</td>\n",
       "      <td>-0.636251</td>\n",
       "      <td>0.038888</td>\n",
       "      <td>7</td>\n",
       "    </tr>\n",
       "    <tr>\n",
       "      <th>7</th>\n",
       "      <td>5.012028</td>\n",
       "      <td>0.103396</td>\n",
       "      <td>2.079554</td>\n",
       "      <td>0.038861</td>\n",
       "      <td>0.001</td>\n",
       "      <td>0.1</td>\n",
       "      <td>{'epsilon': 0.001, 'C': 0.1}</td>\n",
       "      <td>-0.669824</td>\n",
       "      <td>-0.643065</td>\n",
       "      <td>-0.614856</td>\n",
       "      <td>-0.680058</td>\n",
       "      <td>-0.572830</td>\n",
       "      <td>-0.636127</td>\n",
       "      <td>0.038917</td>\n",
       "      <td>6</td>\n",
       "    </tr>\n",
       "    <tr>\n",
       "      <th>8</th>\n",
       "      <td>1.329467</td>\n",
       "      <td>0.063993</td>\n",
       "      <td>0.474378</td>\n",
       "      <td>0.026335</td>\n",
       "      <td>1.0</td>\n",
       "      <td>0.01</td>\n",
       "      <td>{'epsilon': 1.0, 'C': 0.01}</td>\n",
       "      <td>-0.926204</td>\n",
       "      <td>-0.886886</td>\n",
       "      <td>-0.857636</td>\n",
       "      <td>-0.929233</td>\n",
       "      <td>-0.834972</td>\n",
       "      <td>-0.886986</td>\n",
       "      <td>0.037121</td>\n",
       "      <td>12</td>\n",
       "    </tr>\n",
       "    <tr>\n",
       "      <th>9</th>\n",
       "      <td>4.542664</td>\n",
       "      <td>0.122577</td>\n",
       "      <td>1.875969</td>\n",
       "      <td>0.072839</td>\n",
       "      <td>0.1</td>\n",
       "      <td>0.01</td>\n",
       "      <td>{'epsilon': 0.1, 'C': 0.01}</td>\n",
       "      <td>-0.910714</td>\n",
       "      <td>-0.861809</td>\n",
       "      <td>-0.810903</td>\n",
       "      <td>-0.936269</td>\n",
       "      <td>-0.795431</td>\n",
       "      <td>-0.863025</td>\n",
       "      <td>0.054637</td>\n",
       "      <td>9</td>\n",
       "    </tr>\n",
       "    <tr>\n",
       "      <th>10</th>\n",
       "      <td>4.968642</td>\n",
       "      <td>0.061129</td>\n",
       "      <td>2.004444</td>\n",
       "      <td>0.049784</td>\n",
       "      <td>0.01</td>\n",
       "      <td>0.01</td>\n",
       "      <td>{'epsilon': 0.01, 'C': 0.01}</td>\n",
       "      <td>-0.911600</td>\n",
       "      <td>-0.865150</td>\n",
       "      <td>-0.811730</td>\n",
       "      <td>-0.939985</td>\n",
       "      <td>-0.798618</td>\n",
       "      <td>-0.865417</td>\n",
       "      <td>0.054841</td>\n",
       "      <td>11</td>\n",
       "    </tr>\n",
       "    <tr>\n",
       "      <th>11</th>\n",
       "      <td>5.249176</td>\n",
       "      <td>0.178343</td>\n",
       "      <td>2.180079</td>\n",
       "      <td>0.116118</td>\n",
       "      <td>0.001</td>\n",
       "      <td>0.01</td>\n",
       "      <td>{'epsilon': 0.001, 'C': 0.01}</td>\n",
       "      <td>-0.911190</td>\n",
       "      <td>-0.864728</td>\n",
       "      <td>-0.812353</td>\n",
       "      <td>-0.940822</td>\n",
       "      <td>-0.797770</td>\n",
       "      <td>-0.865373</td>\n",
       "      <td>0.055088</td>\n",
       "      <td>10</td>\n",
       "    </tr>\n",
       "    <tr>\n",
       "      <th>12</th>\n",
       "      <td>1.484020</td>\n",
       "      <td>0.115797</td>\n",
       "      <td>0.540711</td>\n",
       "      <td>0.064289</td>\n",
       "      <td>1.0</td>\n",
       "      <td>0.001</td>\n",
       "      <td>{'epsilon': 1.0, 'C': 0.001}</td>\n",
       "      <td>-1.025591</td>\n",
       "      <td>-0.979873</td>\n",
       "      <td>-0.944243</td>\n",
       "      <td>-1.031327</td>\n",
       "      <td>-0.933938</td>\n",
       "      <td>-0.982994</td>\n",
       "      <td>0.040171</td>\n",
       "      <td>13</td>\n",
       "    </tr>\n",
       "    <tr>\n",
       "      <th>13</th>\n",
       "      <td>4.530267</td>\n",
       "      <td>0.072443</td>\n",
       "      <td>1.843594</td>\n",
       "      <td>0.158052</td>\n",
       "      <td>0.1</td>\n",
       "      <td>0.001</td>\n",
       "      <td>{'epsilon': 0.1, 'C': 0.001}</td>\n",
       "      <td>-1.052802</td>\n",
       "      <td>-0.998054</td>\n",
       "      <td>-0.939992</td>\n",
       "      <td>-1.080909</td>\n",
       "      <td>-0.942070</td>\n",
       "      <td>-1.002765</td>\n",
       "      <td>0.057021</td>\n",
       "      <td>14</td>\n",
       "    </tr>\n",
       "    <tr>\n",
       "      <th>14</th>\n",
       "      <td>4.883182</td>\n",
       "      <td>0.188761</td>\n",
       "      <td>2.065036</td>\n",
       "      <td>0.070662</td>\n",
       "      <td>0.01</td>\n",
       "      <td>0.001</td>\n",
       "      <td>{'epsilon': 0.01, 'C': 0.001}</td>\n",
       "      <td>-1.052004</td>\n",
       "      <td>-0.998133</td>\n",
       "      <td>-0.940771</td>\n",
       "      <td>-1.081212</td>\n",
       "      <td>-0.942893</td>\n",
       "      <td>-1.003003</td>\n",
       "      <td>0.056617</td>\n",
       "      <td>15</td>\n",
       "    </tr>\n",
       "    <tr>\n",
       "      <th>15</th>\n",
       "      <td>5.093233</td>\n",
       "      <td>0.312554</td>\n",
       "      <td>2.131224</td>\n",
       "      <td>0.077104</td>\n",
       "      <td>0.001</td>\n",
       "      <td>0.001</td>\n",
       "      <td>{'epsilon': 0.001, 'C': 0.001}</td>\n",
       "      <td>-1.052223</td>\n",
       "      <td>-0.998460</td>\n",
       "      <td>-0.941430</td>\n",
       "      <td>-1.080309</td>\n",
       "      <td>-0.943402</td>\n",
       "      <td>-1.003165</td>\n",
       "      <td>0.056148</td>\n",
       "      <td>16</td>\n",
       "    </tr>\n",
       "  </tbody>\n",
       "</table>\n",
       "</div>"
      ],
      "text/plain": [
       "    mean_fit_time  std_fit_time  mean_score_time  std_score_time  \\\n",
       "0        0.940829      0.046707         0.313913        0.028718   \n",
       "1        4.394728      0.111542         1.683503        0.061498   \n",
       "2        5.034691      0.098702         1.945486        0.031571   \n",
       "3        5.240824      0.159232         2.081734        0.106927   \n",
       "4        1.060054      0.025729         0.379615        0.016551   \n",
       "5        4.520476      0.121430         1.850718        0.044149   \n",
       "6        5.004652      0.163788         2.045310        0.046948   \n",
       "7        5.012028      0.103396         2.079554        0.038861   \n",
       "8        1.329467      0.063993         0.474378        0.026335   \n",
       "9        4.542664      0.122577         1.875969        0.072839   \n",
       "10       4.968642      0.061129         2.004444        0.049784   \n",
       "11       5.249176      0.178343         2.180079        0.116118   \n",
       "12       1.484020      0.115797         0.540711        0.064289   \n",
       "13       4.530267      0.072443         1.843594        0.158052   \n",
       "14       4.883182      0.188761         2.065036        0.070662   \n",
       "15       5.093233      0.312554         2.131224        0.077104   \n",
       "\n",
       "   param_epsilon param_C                          params  split0_test_score  \\\n",
       "0            1.0     1.0      {'epsilon': 1.0, 'C': 1.0}          -0.587619   \n",
       "1            0.1     1.0      {'epsilon': 0.1, 'C': 1.0}          -0.510577   \n",
       "2           0.01     1.0     {'epsilon': 0.01, 'C': 1.0}          -0.514261   \n",
       "3          0.001     1.0    {'epsilon': 0.001, 'C': 1.0}          -0.514729   \n",
       "4            1.0     0.1      {'epsilon': 1.0, 'C': 0.1}          -0.737718   \n",
       "5            0.1     0.1      {'epsilon': 0.1, 'C': 0.1}          -0.667154   \n",
       "6           0.01     0.1     {'epsilon': 0.01, 'C': 0.1}          -0.670180   \n",
       "7          0.001     0.1    {'epsilon': 0.001, 'C': 0.1}          -0.669824   \n",
       "8            1.0    0.01     {'epsilon': 1.0, 'C': 0.01}          -0.926204   \n",
       "9            0.1    0.01     {'epsilon': 0.1, 'C': 0.01}          -0.910714   \n",
       "10          0.01    0.01    {'epsilon': 0.01, 'C': 0.01}          -0.911600   \n",
       "11         0.001    0.01   {'epsilon': 0.001, 'C': 0.01}          -0.911190   \n",
       "12           1.0   0.001    {'epsilon': 1.0, 'C': 0.001}          -1.025591   \n",
       "13           0.1   0.001    {'epsilon': 0.1, 'C': 0.001}          -1.052802   \n",
       "14          0.01   0.001   {'epsilon': 0.01, 'C': 0.001}          -1.052004   \n",
       "15         0.001   0.001  {'epsilon': 0.001, 'C': 0.001}          -1.052223   \n",
       "\n",
       "    split1_test_score  split2_test_score  split3_test_score  \\\n",
       "0           -0.582769          -0.584036          -0.583647   \n",
       "1           -0.500299          -0.507378          -0.517462   \n",
       "2           -0.505963          -0.509290          -0.520007   \n",
       "3           -0.506400          -0.509362          -0.520119   \n",
       "4           -0.711363          -0.697214          -0.733535   \n",
       "5           -0.638571          -0.614197          -0.676519   \n",
       "6           -0.643425          -0.615251          -0.679659   \n",
       "7           -0.643065          -0.614856          -0.680058   \n",
       "8           -0.886886          -0.857636          -0.929233   \n",
       "9           -0.861809          -0.810903          -0.936269   \n",
       "10          -0.865150          -0.811730          -0.939985   \n",
       "11          -0.864728          -0.812353          -0.940822   \n",
       "12          -0.979873          -0.944243          -1.031327   \n",
       "13          -0.998054          -0.939992          -1.080909   \n",
       "14          -0.998133          -0.940771          -1.081212   \n",
       "15          -0.998460          -0.941430          -1.080309   \n",
       "\n",
       "    split4_test_score  mean_test_score  std_test_score  rank_test_score  \n",
       "0           -0.526175        -0.572849        0.023396                4  \n",
       "1           -0.443295        -0.495802        0.026828                1  \n",
       "2           -0.442872        -0.498479        0.028205                2  \n",
       "3           -0.443053        -0.498732        0.028232                3  \n",
       "4           -0.654400        -0.706846        0.030097                8  \n",
       "5           -0.568152        -0.632919        0.039116                5  \n",
       "6           -0.572741        -0.636251        0.038888                7  \n",
       "7           -0.572830        -0.636127        0.038917                6  \n",
       "8           -0.834972        -0.886986        0.037121               12  \n",
       "9           -0.795431        -0.863025        0.054637                9  \n",
       "10          -0.798618        -0.865417        0.054841               11  \n",
       "11          -0.797770        -0.865373        0.055088               10  \n",
       "12          -0.933938        -0.982994        0.040171               13  \n",
       "13          -0.942070        -1.002765        0.057021               14  \n",
       "14          -0.942893        -1.003003        0.056617               15  \n",
       "15          -0.943402        -1.003165        0.056148               16  "
      ]
     },
     "execution_count": 17,
     "metadata": {},
     "output_type": "execute_result"
    }
   ],
   "source": [
    "pd.DataFrame(randomized_search_model.cv_results_)"
   ]
  },
  {
   "cell_type": "code",
   "execution_count": 18,
   "metadata": {
    "pycharm": {
     "name": "#%%\n"
    }
   },
   "outputs": [],
   "source": [
    "model = randomized_search_model.best_estimator_"
   ]
  },
  {
   "cell_type": "code",
   "execution_count": 19,
   "metadata": {
    "pycharm": {
     "name": "#%%\n"
    }
   },
   "outputs": [],
   "source": [
    "y_pred_train = model.predict(X_train)\n",
    "y_pred_test = model.predict(X_test)"
   ]
  },
  {
   "cell_type": "code",
   "execution_count": 20,
   "metadata": {
    "pycharm": {
     "name": "#%%\n"
    }
   },
   "outputs": [],
   "source": [
    "y_true = y_test\n",
    "y_pred = y_pred_test"
   ]
  },
  {
   "cell_type": "code",
   "execution_count": 21,
   "metadata": {
    "pycharm": {
     "name": "#%%\n"
    }
   },
   "outputs": [
    {
     "data": {
      "image/png": "[encoded data removed]",
      "text/plain": [
       "<Figure size 504x504 with 1 Axes>"
      ]
     },
     "metadata": {
      "needs_background": "light"
     },
     "output_type": "display_data"
    }
   ],
   "source": [
    "plt.scatter(y_pred_test, y_test, alpha=0.5, label=\"Test\")\n",
    "plt.scatter(y_pred_train, y_train, alpha=0.1, label=\"Train\")\n",
    "plt.legend()\n",
    "plt.plot([-3, 8], [-3,8], c=\"b\")\n",
    "plt.xlabel('Predicted', fontsize=18)\n",
    "plt.ylabel('True', fontsize=18)\n",
    "plt.axis('square')\n",
    "fig = plt.gcf()\n",
    "fig.set_size_inches(7, 7)"
   ]
  },
  {
   "cell_type": "markdown",
   "metadata": {
    "pycharm": {
     "name": "#%% md\n"
    }
   },
   "source": [
    "# Predict for single molecule"
   ]
  },
  {
   "cell_type": "code",
   "execution_count": 23,
   "metadata": {
    "pycharm": {
     "name": "#%%\n"
    }
   },
   "outputs": [
    {
     "data": {
      "text/plain": [
       "array([0, 0, 0, 1, 0, 0, 0, 0, 0, 0, 0, 0, 0, 0, 0, 0, 0, 0, 0, 2, 0, 0,\n",
       "       0, 0, 2, 0, 0, 0, 0, 0, 0, 0, 0, 0, 0, 0, 0, 0, 0, 0, 0, 0, 0, 1,\n",
       "       0, 0, 0, 0, 0, 0, 2, 0, 0, 0, 0, 0, 0, 0, 0, 0, 0, 0, 0, 0, 0, 0,\n",
       "       0, 0, 0, 0, 1, 0, 0, 0, 0, 0, 0, 0, 0, 0, 1, 0, 0, 0, 0, 0, 0, 0,\n",
       "       0, 0, 0, 0, 1, 0, 0, 2, 2, 0, 0, 0, 0, 1, 0, 0, 0, 1, 0, 0, 0, 0,\n",
       "       1, 0, 0, 0, 0, 0, 0, 0, 0, 0, 0, 2, 0, 0, 0, 0, 0, 0, 0, 0, 1, 0,\n",
       "       0, 0, 0, 0, 0, 0, 0, 0, 0, 0, 0, 0, 0, 0, 0, 0, 0, 4, 0, 2, 0, 0,\n",
       "       4, 0, 0, 0, 0], dtype=int8)"
      ]
     },
     "execution_count": 23,
     "metadata": {},
     "output_type": "execute_result"
    }
   ],
   "source": [
    "n = 156\n",
    "X_test[n]"
   ]
  },
  {
   "cell_type": "code",
   "execution_count": 24,
   "metadata": {
    "pycharm": {
     "name": "#%%\n"
    }
   },
   "outputs": [
    {
     "data": {
      "text/plain": [
       "array([1.28553456])"
      ]
     },
     "execution_count": 24,
     "metadata": {},
     "output_type": "execute_result"
    }
   ],
   "source": [
    "y_test[n]"
   ]
  },
  {
   "cell_type": "code",
   "execution_count": 25,
   "metadata": {
    "pycharm": {
     "name": "#%%\n"
    }
   },
   "outputs": [
    {
     "data": {
      "text/plain": [
       "array([1.13782945])"
      ]
     },
     "execution_count": 25,
     "metadata": {},
     "output_type": "execute_result"
    }
   ],
   "source": [
    "model.predict(X_test[n].reshape(1, -1))"
   ]
  },
  {
   "cell_type": "markdown",
   "metadata": {
    "pycharm": {
     "name": "#%% md\n"
    }
   },
   "source": [
    "# Model assessment"
   ]
  },
  {
   "cell_type": "code",
   "execution_count": 26,
   "metadata": {
    "pycharm": {
     "name": "#%%\n"
    }
   },
   "outputs": [],
   "source": [
    "def assess_model(y_true, y_pred, X_train, y_train):\n",
    "\n",
    "    def calc_metrics(y_pred):\n",
    "        score1 = max_error(y_true, y_pred)\n",
    "        score2 = mean_absolute_error(y_true, y_pred)\n",
    "        score3 = mean_squared_error(y_true, y_pred)\n",
    "        score4 = explained_variance_score(y_true, y_pred)\n",
    "        score5 = r2_score(y_true, y_pred)\n",
    "        return score1,score2,score3,score4,score5\n",
    "\n",
    "    dummy1 = DummyRegressor(strategy=\"mean\")\n",
    "    dummy1.fit(X_train, y_train)\n",
    "    dummy_mean = dummy1.predict(X_test)\n",
    "\n",
    "    dummy2 = DummyRegressor(strategy=\"median\")\n",
    "    dummy2.fit(X_train, y_train)\n",
    "    dummy_median = dummy2.predict(X_test)\n",
    "\n",
    "    dummy3 = DummyRegressor(strategy=\"quantile\", quantile=0.0)\n",
    "    dummy3.fit(X_train, y_train)\n",
    "    dummy_quantile00 = dummy3.predict(X_test)\n",
    "\n",
    "    dummy4 = DummyRegressor(strategy=\"quantile\", quantile=0.5)\n",
    "    dummy4.fit(X_train, y_train)\n",
    "    dummy_quantile05 = dummy4.predict(X_test)\n",
    "\n",
    "    dummy5 = DummyRegressor(strategy=\"quantile\", quantile=1.0)\n",
    "    dummy5.fit(X_train, y_train)\n",
    "    dummy_quantile10 = dummy5.predict(X_test)\n",
    "    \n",
    "    results = [\n",
    "        calc_metrics(y_pred),\n",
    "        calc_metrics(dummy_mean),\n",
    "        calc_metrics(dummy_median),\n",
    "        calc_metrics(dummy_quantile00),\n",
    "        calc_metrics(dummy_quantile05),\n",
    "        calc_metrics(dummy_quantile10)\n",
    "    ]\n",
    "\n",
    "    df = pd.DataFrame(results).T \n",
    "\n",
    "    df.columns = ['Model', 'dummy(Mean)', 'dummy(Median)', \n",
    "                  'dummy(Min Quantile)', 'dummy(Median Quantile)', \n",
    "                  'dummy(Max Quantile)']\n",
    "\n",
    "    df = df.rename(index={0: \"max error\", 1: \"MAE\", 2: \"MSE\", 3:\"explained\", 4:\"r2\"})\n",
    "    pd.set_option('display.float_format', lambda x: '%.3f' % x)\n",
    "    df = df.T\n",
    "\n",
    "    def highlight_max(data, color='lightgreen'):\n",
    "        attr = 'background-color: {}'.format(color)\n",
    "        if data.ndim == 1:  \n",
    "            is_max = data == data.max()\n",
    "            return [attr if v else '' for v in is_max]\n",
    "\n",
    "    def highlight_min(data, color='lightgreen'):\n",
    "        attr = 'background-color: {}'.format(color)\n",
    "        if data.ndim == 1:  \n",
    "            is_min = data == data.min()\n",
    "            return [attr if v else '' for v in is_min]\n",
    "\n",
    "\n",
    "    return df.style.apply(highlight_min, subset=['max error', 'MAE', 'MSE']).\\\n",
    "             apply(highlight_max, subset=['explained', 'r2'])"
   ]
  },
  {
   "cell_type": "code",
   "execution_count": 27,
   "metadata": {
    "pycharm": {
     "name": "#%%\n"
    }
   },
   "outputs": [
    {
     "name": "stdout",
     "output_type": "stream",
     "text": [
      "\n",
      "SVM()\n"
     ]
    },
    {
     "data": {
      "text/html": [
       "<style  type=\"text/css\" >\n",
       "#T_b77e0_row0_col0,#T_b77e0_row0_col1,#T_b77e0_row0_col2,#T_b77e0_row0_col3,#T_b77e0_row0_col4{\n",
       "            background-color:  lightgreen;\n",
       "        }</style><table id=\"T_b77e0_\" ><thead>    <tr>        <th class=\"blank level0\" ></th>        <th class=\"col_heading level0 col0\" >max error</th>        <th class=\"col_heading level0 col1\" >MAE</th>        <th class=\"col_heading level0 col2\" >MSE</th>        <th class=\"col_heading level0 col3\" >explained</th>        <th class=\"col_heading level0 col4\" >r2</th>    </tr></thead><tbody>\n",
       "                <tr>\n",
       "                        <th id=\"T_b77e0_level0_row0\" class=\"row_heading level0 row0\" >Model</th>\n",
       "                        <td id=\"T_b77e0_row0_col0\" class=\"data row0 col0\" >3.911530</td>\n",
       "                        <td id=\"T_b77e0_row0_col1\" class=\"data row0 col1\" >0.457549</td>\n",
       "                        <td id=\"T_b77e0_row0_col2\" class=\"data row0 col2\" >0.389836</td>\n",
       "                        <td id=\"T_b77e0_row0_col3\" class=\"data row0 col3\" >0.564348</td>\n",
       "                        <td id=\"T_b77e0_row0_col4\" class=\"data row0 col4\" >0.558950</td>\n",
       "            </tr>\n",
       "            <tr>\n",
       "                        <th id=\"T_b77e0_level0_row1\" class=\"row_heading level0 row1\" >dummy(Mean)</th>\n",
       "                        <td id=\"T_b77e0_row1_col0\" class=\"data row1 col0\" >3.924159</td>\n",
       "                        <td id=\"T_b77e0_row1_col1\" class=\"data row1 col1\" >0.742618</td>\n",
       "                        <td id=\"T_b77e0_row1_col2\" class=\"data row1 col2\" >0.885747</td>\n",
       "                        <td id=\"T_b77e0_row1_col3\" class=\"data row1 col3\" >0.000000</td>\n",
       "                        <td id=\"T_b77e0_row1_col4\" class=\"data row1 col4\" >-0.002110</td>\n",
       "            </tr>\n",
       "            <tr>\n",
       "                        <th id=\"T_b77e0_level0_row2\" class=\"row_heading level0 row2\" >dummy(Median)</th>\n",
       "                        <td id=\"T_b77e0_row2_col0\" class=\"data row2 col0\" >4.106774</td>\n",
       "                        <td id=\"T_b77e0_row2_col1\" class=\"data row2 col1\" >0.718489</td>\n",
       "                        <td id=\"T_b77e0_row2_col2\" class=\"data row2 col2\" >0.903324</td>\n",
       "                        <td id=\"T_b77e0_row2_col3\" class=\"data row2 col3\" >0.000000</td>\n",
       "                        <td id=\"T_b77e0_row2_col4\" class=\"data row2 col4\" >-0.021996</td>\n",
       "            </tr>\n",
       "            <tr>\n",
       "                        <th id=\"T_b77e0_level0_row3\" class=\"row_heading level0 row3\" >dummy(Min Quantile)</th>\n",
       "                        <td id=\"T_b77e0_row3_col0\" class=\"data row3 col0\" >6.923277</td>\n",
       "                        <td id=\"T_b77e0_row3_col1\" class=\"data row3 col1\" >2.955937</td>\n",
       "                        <td id=\"T_b77e0_row3_col2\" class=\"data row3 col2\" >9.621446</td>\n",
       "                        <td id=\"T_b77e0_row3_col3\" class=\"data row3 col3\" >0.000000</td>\n",
       "                        <td id=\"T_b77e0_row3_col4\" class=\"data row3 col4\" >-9.885441</td>\n",
       "            </tr>\n",
       "            <tr>\n",
       "                        <th id=\"T_b77e0_level0_row4\" class=\"row_heading level0 row4\" >dummy(Median Quantile)</th>\n",
       "                        <td id=\"T_b77e0_row4_col0\" class=\"data row4 col0\" >4.106774</td>\n",
       "                        <td id=\"T_b77e0_row4_col1\" class=\"data row4 col1\" >0.718489</td>\n",
       "                        <td id=\"T_b77e0_row4_col2\" class=\"data row4 col2\" >0.903324</td>\n",
       "                        <td id=\"T_b77e0_row4_col3\" class=\"data row4 col3\" >0.000000</td>\n",
       "                        <td id=\"T_b77e0_row4_col4\" class=\"data row4 col4\" >-0.021996</td>\n",
       "            </tr>\n",
       "            <tr>\n",
       "                        <th id=\"T_b77e0_level0_row5\" class=\"row_heading level0 row5\" >dummy(Max Quantile)</th>\n",
       "                        <td id=\"T_b77e0_row5_col0\" class=\"data row5 col0\" >9.869948</td>\n",
       "                        <td id=\"T_b77e0_row5_col1\" class=\"data row5 col1\" >7.986470</td>\n",
       "                        <td id=\"T_b77e0_row5_col2\" class=\"data row5 col2\" >64.667592</td>\n",
       "                        <td id=\"T_b77e0_row5_col3\" class=\"data row5 col3\" >0.000000</td>\n",
       "                        <td id=\"T_b77e0_row5_col4\" class=\"data row5 col4\" >-72.163151</td>\n",
       "            </tr>\n",
       "    </tbody></table>"
      ],
      "text/plain": [
       "<pandas.io.formats.style.Styler at 0x1ca3c4af6c8>"
      ]
     },
     "execution_count": 27,
     "metadata": {},
     "output_type": "execute_result"
    }
   ],
   "source": [
    "print(\"\\n\"+\"SVM()\")\n",
    "assess_model(y_true, y_pred, X_train, y_train)"
   ]
  },
  {
   "cell_type": "markdown",
   "source": [
    "# This time the results were not as successful, but better than the dummy models. Fine-tuning may improve results."
   ],
   "metadata": {
    "collapsed": false,
    "pycharm": {
     "name": "#%% md\n"
    }
   }
  }
 ],
 "metadata": {
  "kernelspec": {
   "display_name": "Python 3",
   "language": "python",
   "name": "python3"
  },
  "language_info": {
   "codemirror_mode": {
    "name": "ipython",
    "version": 3
   },
   "file_extension": ".py",
   "mimetype": "text/x-python",
   "name": "python",
   "nbconvert_exporter": "python",
   "pygments_lexer": "ipython3",
   "version": "3.7.10"
  }
 },
 "nbformat": 4,
 "nbformat_minor": 4
}