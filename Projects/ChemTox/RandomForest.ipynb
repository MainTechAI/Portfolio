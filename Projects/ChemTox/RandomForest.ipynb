{
 "cells": [
  {
   "cell_type": "markdown",
   "metadata": {
    "pycharm": {
     "name": "#%% md\n"
    }
   },
   "source": [
    "# Only RandomForest"
   ]
  },
  {
   "cell_type": "code",
   "execution_count": 1,
   "metadata": {
    "pycharm": {
     "name": "#%%\n"
    }
   },
   "outputs": [],
   "source": [
    "import matplotlib.pyplot as plt\n",
    "from sklearn.preprocessing import StandardScaler\n",
    "from sklearn.model_selection import train_test_split\n",
    "import numpy as np\n",
    "from tdc.single_pred import Tox\n",
    "from rdkit import Chem, DataStructs\n",
    "from rdkit.Chem import PandasTools, AllChem\n",
    "import pandas as pd\n",
    "from sklearn.dummy import DummyRegressor\n",
    "from sklearn.metrics import explained_variance_score, max_error, \\\n",
    "                     mean_absolute_error, mean_squared_error, r2_score"
   ]
  },
  {
   "cell_type": "code",
   "execution_count": 2,
   "metadata": {
    "pycharm": {
     "name": "#%%\n"
    }
   },
   "outputs": [
    {
     "name": "stderr",
     "output_type": "stream",
     "text": [
      "Found local copy...\n",
      "Loading...\n",
      "Done!\n"
     ]
    }
   ],
   "source": [
    "data = Tox(name='LD50_Zhu').get_data()"
   ]
  },
  {
   "cell_type": "code",
   "execution_count": 3,
   "metadata": {
    "pycharm": {
     "name": "#%%\n"
    }
   },
   "outputs": [
    {
     "data": {
      "text/html": [
       "<div>\n",
       "<style scoped>\n",
       "    .dataframe tbody tr th:only-of-type {\n",
       "        vertical-align: middle;\n",
       "    }\n",
       "\n",
       "    .dataframe tbody tr th {\n",
       "        vertical-align: top;\n",
       "    }\n",
       "\n",
       "    .dataframe thead th {\n",
       "        text-align: right;\n",
       "    }\n",
       "</style>\n",
       "<table border=\"1\" class=\"dataframe\">\n",
       "  <thead>\n",
       "    <tr style=\"text-align: right;\">\n",
       "      <th></th>\n",
       "      <th>Drug_ID</th>\n",
       "      <th>Drug</th>\n",
       "      <th>Y</th>\n",
       "    </tr>\n",
       "  </thead>\n",
       "  <tbody>\n",
       "    <tr>\n",
       "      <th>0</th>\n",
       "      <td>Diazene, diphenyl-, 1-oxide</td>\n",
       "      <td>[O-][N+](=Nc1ccccc1)c1ccccc1</td>\n",
       "      <td>2.505</td>\n",
       "    </tr>\n",
       "    <tr>\n",
       "      <th>1</th>\n",
       "      <td>Methane, tribromo-</td>\n",
       "      <td>BrC(Br)Br</td>\n",
       "      <td>2.343</td>\n",
       "    </tr>\n",
       "    <tr>\n",
       "      <th>2</th>\n",
       "      <td>Bromoethene (9CI)</td>\n",
       "      <td>C=CBr</td>\n",
       "      <td>2.330</td>\n",
       "    </tr>\n",
       "    <tr>\n",
       "      <th>3</th>\n",
       "      <td>1,1'-Biphenyl, hexabromo-</td>\n",
       "      <td>Brc1ccc(-c2ccc(Br)c(Br)c2Br)c(Br)c1Br</td>\n",
       "      <td>1.465</td>\n",
       "    </tr>\n",
       "    <tr>\n",
       "      <th>4</th>\n",
       "      <td>Isothiocyanic acid, p-bromophenyl ester</td>\n",
       "      <td>S=C=Nc1ccc(Br)cc1</td>\n",
       "      <td>2.729</td>\n",
       "    </tr>\n",
       "    <tr>\n",
       "      <th>...</th>\n",
       "      <td>...</td>\n",
       "      <td>...</td>\n",
       "      <td>...</td>\n",
       "    </tr>\n",
       "    <tr>\n",
       "      <th>7380</th>\n",
       "      <td>Isocyanic acid, (alpha,alpha,alpha-trifluoro-o...</td>\n",
       "      <td>O=C=Nc1ccccc1C(F)(F)F</td>\n",
       "      <td>1.427</td>\n",
       "    </tr>\n",
       "    <tr>\n",
       "      <th>7381</th>\n",
       "      <td>1,3-Benzenediamine, 4-(1,1,2,2-tetrafluoroetho...</td>\n",
       "      <td>Nc1ccc(OC(F)(F)C(F)F)c(N)c1</td>\n",
       "      <td>2.321</td>\n",
       "    </tr>\n",
       "    <tr>\n",
       "      <th>7382</th>\n",
       "      <td>Propanenitrile, 3-((2-(acetyloxy)ethyl)phenyla...</td>\n",
       "      <td>CC(=O)OCCN(CCC#N)c1ccccc1</td>\n",
       "      <td>2.050</td>\n",
       "    </tr>\n",
       "    <tr>\n",
       "      <th>7383</th>\n",
       "      <td>IH-Indene-1,3(2H)-dione, 2-(2-methyl-1-(2-(1-p...</td>\n",
       "      <td>CC1=CC(=C2C(=O)c3ccccc3C2=O)C=CN1CCN1CCCCC1</td>\n",
       "      <td>2.951</td>\n",
       "    </tr>\n",
       "    <tr>\n",
       "      <th>7384</th>\n",
       "      <td>1-Propanone, 1-(2,4,6-trihydroxyphenyl)-</td>\n",
       "      <td>CCC(=O)c1c(O)cc(O)cc1O</td>\n",
       "      <td>1.884</td>\n",
       "    </tr>\n",
       "  </tbody>\n",
       "</table>\n",
       "<p>7385 rows × 3 columns</p>\n",
       "</div>"
      ],
      "text/plain": [
       "                                                Drug_ID  \\\n",
       "0                           Diazene, diphenyl-, 1-oxide   \n",
       "1                                    Methane, tribromo-   \n",
       "2                                     Bromoethene (9CI)   \n",
       "3                             1,1'-Biphenyl, hexabromo-   \n",
       "4               Isothiocyanic acid, p-bromophenyl ester   \n",
       "...                                                 ...   \n",
       "7380  Isocyanic acid, (alpha,alpha,alpha-trifluoro-o...   \n",
       "7381  1,3-Benzenediamine, 4-(1,1,2,2-tetrafluoroetho...   \n",
       "7382  Propanenitrile, 3-((2-(acetyloxy)ethyl)phenyla...   \n",
       "7383  IH-Indene-1,3(2H)-dione, 2-(2-methyl-1-(2-(1-p...   \n",
       "7384           1-Propanone, 1-(2,4,6-trihydroxyphenyl)-   \n",
       "\n",
       "                                             Drug      Y  \n",
       "0                    [O-][N+](=Nc1ccccc1)c1ccccc1  2.505  \n",
       "1                                       BrC(Br)Br  2.343  \n",
       "2                                           C=CBr  2.330  \n",
       "3           Brc1ccc(-c2ccc(Br)c(Br)c2Br)c(Br)c1Br  1.465  \n",
       "4                               S=C=Nc1ccc(Br)cc1  2.729  \n",
       "...                                           ...    ...  \n",
       "7380                        O=C=Nc1ccccc1C(F)(F)F  1.427  \n",
       "7381                  Nc1ccc(OC(F)(F)C(F)F)c(N)c1  2.321  \n",
       "7382                    CC(=O)OCCN(CCC#N)c1ccccc1  2.050  \n",
       "7383  CC1=CC(=C2C(=O)c3ccccc3C2=O)C=CN1CCN1CCCCC1  2.951  \n",
       "7384                       CCC(=O)c1c(O)cc(O)cc1O  1.884  \n",
       "\n",
       "[7385 rows x 3 columns]"
      ]
     },
     "execution_count": 3,
     "metadata": {},
     "output_type": "execute_result"
    }
   ],
   "source": [
    "data"
   ]
  },
  {
   "cell_type": "code",
   "execution_count": 4,
   "metadata": {
    "pycharm": {
     "name": "#%%\n"
    }
   },
   "outputs": [
    {
     "name": "stdout",
     "output_type": "stream",
     "text": [
      "Smiles loaded\n"
     ]
    }
   ],
   "source": [
    "PandasTools.AddMoleculeColumnToFrame(data,'Drug','Molecule')\n",
    "if data.Molecule.isna().sum() == 0:\n",
    "    print('Smiles loaded')"
   ]
  },
  {
   "cell_type": "code",
   "execution_count": 5,
   "metadata": {
    "pycharm": {
     "name": "#%%\n"
    }
   },
   "outputs": [
    {
     "data": {
      "text/html": [
       "<div>\n",
       "<style scoped>\n",
       "    .dataframe tbody tr th:only-of-type {\n",
       "        vertical-align: middle;\n",
       "    }\n",
       "\n",
       "    .dataframe tbody tr th {\n",
       "        vertical-align: top;\n",
       "    }\n",
       "\n",
       "    .dataframe thead th {\n",
       "        text-align: right;\n",
       "    }\n",
       "</style>\n",
       "<table border=\"1\" class=\"dataframe\">\n",
       "  <thead>\n",
       "    <tr style=\"text-align: right;\">\n",
       "      <th></th>\n",
       "      <th>Drug_ID</th>\n",
       "      <th>Drug</th>\n",
       "      <th>Y</th>\n",
       "      <th>Molecule</th>\n",
       "    </tr>\n",
       "  </thead>\n",
       "  <tbody>\n",
       "    <tr>\n",
       "      <th>130</th>\n",
       "      <td>7-Oxabicyclo(4.1.0)hepta-2,4,6-triene, 3-oxira...</td>\n",
       "      <td>c1cc2c(cc1C1CO1)O2</td>\n",
       "      <td>1.676</td>\n",
       "      <td><img data-content=\"rdkit/molecule\" src=\"data:image/png;base64,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\" alt=\"Mol\"/></td>\n",
       "    </tr>\n",
       "    <tr>\n",
       "      <th>2199</th>\n",
       "      <td>Urea, 1-methyl-1-nitroso- (8CI)</td>\n",
       "      <td>CN(N=O)C(N)=O</td>\n",
       "      <td>2.972</td>\n",
       "      <td><img data-content=\"rdkit/molecule\" src=\"data:image/png;base64,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\" alt=\"Mol\"/></td>\n",
       "    </tr>\n",
       "    <tr>\n",
       "      <th>635</th>\n",
       "      <td>Benzenesulfonic acid, 2-amino-4-chloro-5-methyl-</td>\n",
       "      <td>Cc1cc(S(=O)(=O)O)c(N)cc1Cl</td>\n",
       "      <td>1.256</td>\n",
       "      <td><img data-content=\"rdkit/molecule\" src=\"data:image/png;base64,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\" alt=\"Mol\"/></td>\n",
       "    </tr>\n",
       "  </tbody>\n",
       "</table>\n",
       "</div>"
      ],
      "text/plain": [
       "                                                Drug_ID  \\\n",
       "130   7-Oxabicyclo(4.1.0)hepta-2,4,6-triene, 3-oxira...   \n",
       "2199                    Urea, 1-methyl-1-nitroso- (8CI)   \n",
       "635    Benzenesulfonic acid, 2-amino-4-chloro-5-methyl-   \n",
       "\n",
       "                            Drug      Y  \\\n",
       "130           c1cc2c(cc1C1CO1)O2  1.676   \n",
       "2199               CN(N=O)C(N)=O  2.972   \n",
       "635   Cc1cc(S(=O)(=O)O)c(N)cc1Cl  1.256   \n",
       "\n",
       "                                               Molecule  \n",
       "130   <img data-content=\"rdkit/molecule\" src=\"data:i...  \n",
       "2199  <img data-content=\"rdkit/molecule\" src=\"data:i...  \n",
       "635   <img data-content=\"rdkit/molecule\" src=\"data:i...  "
      ]
     },
     "execution_count": 5,
     "metadata": {},
     "output_type": "execute_result"
    }
   ],
   "source": [
    "data.sample(3)"
   ]
  },
  {
   "cell_type": "markdown",
   "source": [
    "## The descriptors didn't improve the accuracy, so I removed them"
   ],
   "metadata": {
    "collapsed": false,
    "pycharm": {
     "name": "#%% md\n"
    }
   }
  },
  {
   "cell_type": "code",
   "execution_count": 6,
   "metadata": {
    "pycharm": {
     "name": "#%%\n"
    }
   },
   "outputs": [],
   "source": [
    "def MorganFP(mol):\n",
    "    fp = AllChem.GetHashedMorganFingerprint(mol, 2, nBits=4096)\n",
    "    #fp = AllChem.GetMorganFingerprintAsBitVect(mol,2,nBits=4096)\n",
    "    ar = np.zeros((1,), dtype=np.int8)\n",
    "    DataStructs.ConvertToNumpyArray(fp, ar)\n",
    "    \"\"\"\n",
    "    d = [\n",
    "        Descriptors.MolLogP(mol),\n",
    "        Descriptors.MolMR(mol), \n",
    "        Descriptors.MolWt(mol),\n",
    "        Descriptors.ExactMolWt(mol),\n",
    "        Descriptors.BalabanJ(mol), \n",
    "        Descriptors.NumHAcceptors(mol),\n",
    "        Descriptors.NumHDonors(mol),\n",
    "        Descriptors.NumValenceElectrons(mol),\n",
    "        Descriptors.HeavyAtomCount(mol),\n",
    "        Descriptors.HeavyAtomMolWt(mol),\n",
    "        Descriptors.TPSA(mol),\n",
    "        Descriptors.FpDensityMorgan1(mol),\n",
    "        Descriptors.FpDensityMorgan2(mol),\n",
    "        Descriptors.FpDensityMorgan3(mol),\n",
    "        Descriptors.MaxAbsPartialCharge(mol),\n",
    "        Descriptors.MaxPartialCharge(mol),\n",
    "        Descriptors.MinAbsPartialCharge(mol),\n",
    "        Descriptors.MinPartialCharge(mol),\n",
    "        Descriptors.NumRadicalElectrons(mol),\n",
    "        Descriptors.NumValenceElectrons(mol),\n",
    "        rdMolDescriptors.CalcChi0n(mol),\n",
    "        rdMolDescriptors.CalcChi0v(mol),\n",
    "        rdMolDescriptors.CalcChi1n(mol),\n",
    "        rdMolDescriptors.CalcChi1v(mol),\n",
    "        rdMolDescriptors.CalcChi2n(mol),\n",
    "        rdMolDescriptors.CalcChi2v(mol),\n",
    "        rdMolDescriptors.CalcChi3n(mol),\n",
    "        rdMolDescriptors.CalcChi3v(mol),\n",
    "        rdMolDescriptors.CalcChi4n(mol),\n",
    "        rdMolDescriptors.CalcChi4v(mol),\n",
    "        rdMolDescriptors.CalcKappa1(mol),\n",
    "        rdMolDescriptors.CalcKappa2(mol),\n",
    "        rdMolDescriptors.CalcKappa3(mol),\n",
    "        rdMolDescriptors.CalcLabuteASA(mol),\n",
    "        # and others https://www.rdkit.org/docs/source/rdkit.Chem.rdMolDescriptors.html\n",
    "        ]\n",
    "    ar2 = np.asarray(d, dtype=np.float32)\n",
    "    #ar2 = np.array(d)\n",
    "    return np.concatenate((ar, ar2))\n",
    "    \"\"\"\n",
    "    return ar"
   ]
  },
  {
   "cell_type": "code",
   "execution_count": 7,
   "metadata": {
    "pycharm": {
     "name": "#%%\n"
    }
   },
   "outputs": [],
   "source": [
    "data[\"Morgan_FP\"] = data.Molecule.apply(MorganFP)"
   ]
  },
  {
   "cell_type": "code",
   "execution_count": 8,
   "metadata": {
    "pycharm": {
     "name": "#%%\n"
    }
   },
   "outputs": [
    {
     "data": {
      "text/html": [
       "<div>\n",
       "<style scoped>\n",
       "    .dataframe tbody tr th:only-of-type {\n",
       "        vertical-align: middle;\n",
       "    }\n",
       "\n",
       "    .dataframe tbody tr th {\n",
       "        vertical-align: top;\n",
       "    }\n",
       "\n",
       "    .dataframe thead th {\n",
       "        text-align: right;\n",
       "    }\n",
       "</style>\n",
       "<table border=\"1\" class=\"dataframe\">\n",
       "  <thead>\n",
       "    <tr style=\"text-align: right;\">\n",
       "      <th></th>\n",
       "      <th>Drug_ID</th>\n",
       "      <th>Drug</th>\n",
       "      <th>Y</th>\n",
       "      <th>Molecule</th>\n",
       "      <th>Morgan_FP</th>\n",
       "    </tr>\n",
       "  </thead>\n",
       "  <tbody>\n",
       "    <tr>\n",
       "      <th>105</th>\n",
       "      <td>Cyclohexane</td>\n",
       "      <td>C1CCCCC1</td>\n",
       "      <td>0.821</td>\n",
       "      <td><img data-content=\"rdkit/molecule\" src=\"data:image/png;base64,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\" alt=\"Mol\"/></td>\n",
       "      <td>[0, 0, 6, 0, 0, 0, 0, 0, 0, 0, 0, 0, 0, 0, 0, ...</td>\n",
       "    </tr>\n",
       "  </tbody>\n",
       "</table>\n",
       "</div>"
      ],
      "text/plain": [
       "         Drug_ID      Drug      Y  \\\n",
       "105  Cyclohexane  C1CCCCC1  0.821   \n",
       "\n",
       "                                              Molecule  \\\n",
       "105  <img data-content=\"rdkit/molecule\" src=\"data:i...   \n",
       "\n",
       "                                             Morgan_FP  \n",
       "105  [0, 0, 6, 0, 0, 0, 0, 0, 0, 0, 0, 0, 0, 0, 0, ...  "
      ]
     },
     "execution_count": 8,
     "metadata": {},
     "output_type": "execute_result"
    }
   ],
   "source": [
    "data.sample(1)"
   ]
  },
  {
   "cell_type": "code",
   "execution_count": 9,
   "metadata": {
    "pycharm": {
     "name": "#%%\n"
    }
   },
   "outputs": [
    {
     "name": "stdout",
     "output_type": "stream",
     "text": [
      "(7385, 4096)\n"
     ]
    }
   ],
   "source": [
    "X = np.stack(data.Morgan_FP.values)\n",
    "print(X.shape)"
   ]
  },
  {
   "cell_type": "code",
   "execution_count": 10,
   "metadata": {
    "pycharm": {
     "name": "#%%\n"
    }
   },
   "outputs": [],
   "source": [
    "y = data.Y.values.reshape((-1,1))\n",
    "X_train, X_test, y_train, y_test = train_test_split(X, y,  test_size=0.10, random_state=42)"
   ]
  },
  {
   "cell_type": "code",
   "execution_count": 11,
   "metadata": {
    "pycharm": {
     "name": "#%%\n"
    }
   },
   "outputs": [],
   "source": [
    "scaler = StandardScaler()\n",
    "y_train = scaler.fit_transform(y_train)\n",
    "y_test = scaler.transform(y_test)"
   ]
  },
  {
   "cell_type": "code",
   "execution_count": 12,
   "metadata": {
    "pycharm": {
     "name": "#%%\n"
    }
   },
   "outputs": [
    {
     "data": {
      "text/plain": [
       "(6646, 159)"
      ]
     },
     "execution_count": 12,
     "metadata": {},
     "output_type": "execute_result"
    }
   ],
   "source": [
    "from sklearn.feature_selection import VarianceThreshold\n",
    "feature_select = VarianceThreshold(threshold=0.05)\n",
    "X_train = feature_select.fit_transform(X_train)\n",
    "X_test = feature_select.transform(X_test)\n",
    "X_train.shape"
   ]
  },
  {
   "cell_type": "code",
   "execution_count": 15,
   "metadata": {
    "pycharm": {
     "name": "#%%\n"
    }
   },
   "outputs": [],
   "source": [
    "from sklearn.ensemble import RandomForestRegressor\n",
    "from sklearn.model_selection import RandomizedSearchCV\n",
    "\n",
    "regr = RandomForestRegressor()\n",
    "parameters = {'n_estimators' : range(10,50),\n",
    "              'max_depth' : range(3,200), 'min_samples_split' : range(3,20)}\n",
    "randomized_search_model = RandomizedSearchCV(regr, parameters, n_iter=20, cv=5, verbose=1, scoring='neg_mean_squared_error')"
   ]
  },
  {
   "cell_type": "code",
   "execution_count": 16,
   "metadata": {
    "scrolled": true,
    "pycharm": {
     "name": "#%%\n"
    }
   },
   "outputs": [
    {
     "name": "stdout",
     "output_type": "stream",
     "text": [
      "Fitting 5 folds for each of 20 candidates, totalling 100 fits\n"
     ]
    },
    {
     "data": {
      "text/plain": [
       "RandomizedSearchCV(cv=5, estimator=RandomForestRegressor(), n_iter=20,\n",
       "                   param_distributions={'max_depth': range(3, 200),\n",
       "                                        'min_samples_split': range(3, 20),\n",
       "                                        'n_estimators': range(10, 50)},\n",
       "                   scoring='neg_mean_squared_error', verbose=1)"
      ]
     },
     "execution_count": 16,
     "metadata": {},
     "output_type": "execute_result"
    }
   ],
   "source": [
    "randomized_search_model.fit(X_train, y_train)"
   ]
  },
  {
   "cell_type": "code",
   "execution_count": 17,
   "metadata": {
    "pycharm": {
     "name": "#%%\n"
    }
   },
   "outputs": [
    {
     "data": {
      "text/html": [
       "<div>\n",
       "<style scoped>\n",
       "    .dataframe tbody tr th:only-of-type {\n",
       "        vertical-align: middle;\n",
       "    }\n",
       "\n",
       "    .dataframe tbody tr th {\n",
       "        vertical-align: top;\n",
       "    }\n",
       "\n",
       "    .dataframe thead th {\n",
       "        text-align: right;\n",
       "    }\n",
       "</style>\n",
       "<table border=\"1\" class=\"dataframe\">\n",
       "  <thead>\n",
       "    <tr style=\"text-align: right;\">\n",
       "      <th></th>\n",
       "      <th>mean_fit_time</th>\n",
       "      <th>std_fit_time</th>\n",
       "      <th>mean_score_time</th>\n",
       "      <th>std_score_time</th>\n",
       "      <th>param_n_estimators</th>\n",
       "      <th>param_min_samples_split</th>\n",
       "      <th>param_max_depth</th>\n",
       "      <th>params</th>\n",
       "      <th>split0_test_score</th>\n",
       "      <th>split1_test_score</th>\n",
       "      <th>split2_test_score</th>\n",
       "      <th>split3_test_score</th>\n",
       "      <th>split4_test_score</th>\n",
       "      <th>mean_test_score</th>\n",
       "      <th>std_test_score</th>\n",
       "      <th>rank_test_score</th>\n",
       "    </tr>\n",
       "  </thead>\n",
       "  <tbody>\n",
       "    <tr>\n",
       "      <th>0</th>\n",
       "      <td>2.831263</td>\n",
       "      <td>0.148182</td>\n",
       "      <td>0.012391</td>\n",
       "      <td>0.002654</td>\n",
       "      <td>27</td>\n",
       "      <td>10</td>\n",
       "      <td>140</td>\n",
       "      <td>{'n_estimators': 27, 'min_samples_split': 10, ...</td>\n",
       "      <td>-0.435984</td>\n",
       "      <td>-0.436124</td>\n",
       "      <td>-0.487124</td>\n",
       "      <td>-0.459650</td>\n",
       "      <td>-0.390103</td>\n",
       "      <td>-0.441797</td>\n",
       "      <td>0.031973</td>\n",
       "      <td>10</td>\n",
       "    </tr>\n",
       "    <tr>\n",
       "      <th>1</th>\n",
       "      <td>4.417390</td>\n",
       "      <td>0.135272</td>\n",
       "      <td>0.019228</td>\n",
       "      <td>0.003728</td>\n",
       "      <td>41</td>\n",
       "      <td>3</td>\n",
       "      <td>66</td>\n",
       "      <td>{'n_estimators': 41, 'min_samples_split': 3, '...</td>\n",
       "      <td>-0.421876</td>\n",
       "      <td>-0.423860</td>\n",
       "      <td>-0.459842</td>\n",
       "      <td>-0.449940</td>\n",
       "      <td>-0.369890</td>\n",
       "      <td>-0.425082</td>\n",
       "      <td>0.031254</td>\n",
       "      <td>1</td>\n",
       "    </tr>\n",
       "    <tr>\n",
       "      <th>2</th>\n",
       "      <td>2.850404</td>\n",
       "      <td>0.264868</td>\n",
       "      <td>0.011036</td>\n",
       "      <td>0.000883</td>\n",
       "      <td>28</td>\n",
       "      <td>6</td>\n",
       "      <td>187</td>\n",
       "      <td>{'n_estimators': 28, 'min_samples_split': 6, '...</td>\n",
       "      <td>-0.426420</td>\n",
       "      <td>-0.415018</td>\n",
       "      <td>-0.474139</td>\n",
       "      <td>-0.457653</td>\n",
       "      <td>-0.383830</td>\n",
       "      <td>-0.431412</td>\n",
       "      <td>0.031850</td>\n",
       "      <td>3</td>\n",
       "    </tr>\n",
       "    <tr>\n",
       "      <th>3</th>\n",
       "      <td>2.010080</td>\n",
       "      <td>0.026431</td>\n",
       "      <td>0.008793</td>\n",
       "      <td>0.000749</td>\n",
       "      <td>24</td>\n",
       "      <td>18</td>\n",
       "      <td>141</td>\n",
       "      <td>{'n_estimators': 24, 'min_samples_split': 18, ...</td>\n",
       "      <td>-0.452528</td>\n",
       "      <td>-0.439674</td>\n",
       "      <td>-0.491387</td>\n",
       "      <td>-0.466105</td>\n",
       "      <td>-0.407199</td>\n",
       "      <td>-0.451379</td>\n",
       "      <td>0.027956</td>\n",
       "      <td>15</td>\n",
       "    </tr>\n",
       "    <tr>\n",
       "      <th>4</th>\n",
       "      <td>1.990496</td>\n",
       "      <td>0.078241</td>\n",
       "      <td>0.009992</td>\n",
       "      <td>0.002755</td>\n",
       "      <td>19</td>\n",
       "      <td>14</td>\n",
       "      <td>115</td>\n",
       "      <td>{'n_estimators': 19, 'min_samples_split': 14, ...</td>\n",
       "      <td>-0.459104</td>\n",
       "      <td>-0.448341</td>\n",
       "      <td>-0.487461</td>\n",
       "      <td>-0.470441</td>\n",
       "      <td>-0.399181</td>\n",
       "      <td>-0.452906</td>\n",
       "      <td>0.029823</td>\n",
       "      <td>16</td>\n",
       "    </tr>\n",
       "    <tr>\n",
       "      <th>5</th>\n",
       "      <td>2.073225</td>\n",
       "      <td>0.298475</td>\n",
       "      <td>0.013989</td>\n",
       "      <td>0.011583</td>\n",
       "      <td>17</td>\n",
       "      <td>7</td>\n",
       "      <td>103</td>\n",
       "      <td>{'n_estimators': 17, 'min_samples_split': 7, '...</td>\n",
       "      <td>-0.427180</td>\n",
       "      <td>-0.432494</td>\n",
       "      <td>-0.500984</td>\n",
       "      <td>-0.472525</td>\n",
       "      <td>-0.405190</td>\n",
       "      <td>-0.447675</td>\n",
       "      <td>0.034394</td>\n",
       "      <td>12</td>\n",
       "    </tr>\n",
       "    <tr>\n",
       "      <th>6</th>\n",
       "      <td>3.567746</td>\n",
       "      <td>0.204688</td>\n",
       "      <td>0.013789</td>\n",
       "      <td>0.000399</td>\n",
       "      <td>44</td>\n",
       "      <td>15</td>\n",
       "      <td>129</td>\n",
       "      <td>{'n_estimators': 44, 'min_samples_split': 15, ...</td>\n",
       "      <td>-0.446370</td>\n",
       "      <td>-0.437127</td>\n",
       "      <td>-0.481363</td>\n",
       "      <td>-0.453483</td>\n",
       "      <td>-0.390376</td>\n",
       "      <td>-0.441744</td>\n",
       "      <td>0.029627</td>\n",
       "      <td>9</td>\n",
       "    </tr>\n",
       "    <tr>\n",
       "      <th>7</th>\n",
       "      <td>2.647134</td>\n",
       "      <td>0.099347</td>\n",
       "      <td>0.011590</td>\n",
       "      <td>0.000490</td>\n",
       "      <td>34</td>\n",
       "      <td>17</td>\n",
       "      <td>36</td>\n",
       "      <td>{'n_estimators': 34, 'min_samples_split': 17, ...</td>\n",
       "      <td>-0.447764</td>\n",
       "      <td>-0.439284</td>\n",
       "      <td>-0.484669</td>\n",
       "      <td>-0.468440</td>\n",
       "      <td>-0.400465</td>\n",
       "      <td>-0.448124</td>\n",
       "      <td>0.028628</td>\n",
       "      <td>13</td>\n",
       "    </tr>\n",
       "    <tr>\n",
       "      <th>8</th>\n",
       "      <td>1.623611</td>\n",
       "      <td>0.077009</td>\n",
       "      <td>0.007393</td>\n",
       "      <td>0.001355</td>\n",
       "      <td>19</td>\n",
       "      <td>14</td>\n",
       "      <td>157</td>\n",
       "      <td>{'n_estimators': 19, 'min_samples_split': 14, ...</td>\n",
       "      <td>-0.452174</td>\n",
       "      <td>-0.446269</td>\n",
       "      <td>-0.492171</td>\n",
       "      <td>-0.478974</td>\n",
       "      <td>-0.399717</td>\n",
       "      <td>-0.453861</td>\n",
       "      <td>0.031907</td>\n",
       "      <td>18</td>\n",
       "    </tr>\n",
       "    <tr>\n",
       "      <th>9</th>\n",
       "      <td>3.873357</td>\n",
       "      <td>0.359616</td>\n",
       "      <td>0.016188</td>\n",
       "      <td>0.003485</td>\n",
       "      <td>41</td>\n",
       "      <td>7</td>\n",
       "      <td>112</td>\n",
       "      <td>{'n_estimators': 41, 'min_samples_split': 7, '...</td>\n",
       "      <td>-0.427980</td>\n",
       "      <td>-0.422544</td>\n",
       "      <td>-0.470039</td>\n",
       "      <td>-0.445212</td>\n",
       "      <td>-0.394169</td>\n",
       "      <td>-0.431989</td>\n",
       "      <td>0.025133</td>\n",
       "      <td>5</td>\n",
       "    </tr>\n",
       "    <tr>\n",
       "      <th>10</th>\n",
       "      <td>3.334944</td>\n",
       "      <td>0.349898</td>\n",
       "      <td>0.013988</td>\n",
       "      <td>0.001095</td>\n",
       "      <td>47</td>\n",
       "      <td>7</td>\n",
       "      <td>16</td>\n",
       "      <td>{'n_estimators': 47, 'min_samples_split': 7, '...</td>\n",
       "      <td>-0.447683</td>\n",
       "      <td>-0.455805</td>\n",
       "      <td>-0.489243</td>\n",
       "      <td>-0.470925</td>\n",
       "      <td>-0.403562</td>\n",
       "      <td>-0.453443</td>\n",
       "      <td>0.028685</td>\n",
       "      <td>17</td>\n",
       "    </tr>\n",
       "    <tr>\n",
       "      <th>11</th>\n",
       "      <td>2.444390</td>\n",
       "      <td>0.192918</td>\n",
       "      <td>0.010591</td>\n",
       "      <td>0.001199</td>\n",
       "      <td>28</td>\n",
       "      <td>18</td>\n",
       "      <td>161</td>\n",
       "      <td>{'n_estimators': 28, 'min_samples_split': 18, ...</td>\n",
       "      <td>-0.452119</td>\n",
       "      <td>-0.446302</td>\n",
       "      <td>-0.489388</td>\n",
       "      <td>-0.480946</td>\n",
       "      <td>-0.400672</td>\n",
       "      <td>-0.453885</td>\n",
       "      <td>0.031257</td>\n",
       "      <td>19</td>\n",
       "    </tr>\n",
       "    <tr>\n",
       "      <th>12</th>\n",
       "      <td>2.890207</td>\n",
       "      <td>0.045810</td>\n",
       "      <td>0.011821</td>\n",
       "      <td>0.000718</td>\n",
       "      <td>30</td>\n",
       "      <td>4</td>\n",
       "      <td>165</td>\n",
       "      <td>{'n_estimators': 30, 'min_samples_split': 4, '...</td>\n",
       "      <td>-0.427091</td>\n",
       "      <td>-0.427886</td>\n",
       "      <td>-0.470451</td>\n",
       "      <td>-0.447387</td>\n",
       "      <td>-0.385151</td>\n",
       "      <td>-0.431593</td>\n",
       "      <td>0.028108</td>\n",
       "      <td>4</td>\n",
       "    </tr>\n",
       "    <tr>\n",
       "      <th>13</th>\n",
       "      <td>3.246604</td>\n",
       "      <td>0.022584</td>\n",
       "      <td>0.010879</td>\n",
       "      <td>0.001122</td>\n",
       "      <td>38</td>\n",
       "      <td>10</td>\n",
       "      <td>141</td>\n",
       "      <td>{'n_estimators': 38, 'min_samples_split': 10, ...</td>\n",
       "      <td>-0.436622</td>\n",
       "      <td>-0.434282</td>\n",
       "      <td>-0.474133</td>\n",
       "      <td>-0.454885</td>\n",
       "      <td>-0.382349</td>\n",
       "      <td>-0.436454</td>\n",
       "      <td>0.030632</td>\n",
       "      <td>8</td>\n",
       "    </tr>\n",
       "    <tr>\n",
       "      <th>14</th>\n",
       "      <td>3.404242</td>\n",
       "      <td>0.097984</td>\n",
       "      <td>0.015345</td>\n",
       "      <td>0.003806</td>\n",
       "      <td>38</td>\n",
       "      <td>7</td>\n",
       "      <td>158</td>\n",
       "      <td>{'n_estimators': 38, 'min_samples_split': 7, '...</td>\n",
       "      <td>-0.426063</td>\n",
       "      <td>-0.425164</td>\n",
       "      <td>-0.462450</td>\n",
       "      <td>-0.457259</td>\n",
       "      <td>-0.377818</td>\n",
       "      <td>-0.429751</td>\n",
       "      <td>0.030191</td>\n",
       "      <td>2</td>\n",
       "    </tr>\n",
       "    <tr>\n",
       "      <th>15</th>\n",
       "      <td>3.741910</td>\n",
       "      <td>0.042213</td>\n",
       "      <td>0.015288</td>\n",
       "      <td>0.000871</td>\n",
       "      <td>42</td>\n",
       "      <td>9</td>\n",
       "      <td>167</td>\n",
       "      <td>{'n_estimators': 42, 'min_samples_split': 9, '...</td>\n",
       "      <td>-0.437098</td>\n",
       "      <td>-0.422374</td>\n",
       "      <td>-0.476407</td>\n",
       "      <td>-0.452796</td>\n",
       "      <td>-0.387757</td>\n",
       "      <td>-0.435286</td>\n",
       "      <td>0.029754</td>\n",
       "      <td>7</td>\n",
       "    </tr>\n",
       "    <tr>\n",
       "      <th>16</th>\n",
       "      <td>0.918871</td>\n",
       "      <td>0.047223</td>\n",
       "      <td>0.004598</td>\n",
       "      <td>0.000492</td>\n",
       "      <td>12</td>\n",
       "      <td>15</td>\n",
       "      <td>24</td>\n",
       "      <td>{'n_estimators': 12, 'min_samples_split': 15, ...</td>\n",
       "      <td>-0.464798</td>\n",
       "      <td>-0.455151</td>\n",
       "      <td>-0.509164</td>\n",
       "      <td>-0.502143</td>\n",
       "      <td>-0.410675</td>\n",
       "      <td>-0.468386</td>\n",
       "      <td>0.035555</td>\n",
       "      <td>20</td>\n",
       "    </tr>\n",
       "    <tr>\n",
       "      <th>17</th>\n",
       "      <td>1.924330</td>\n",
       "      <td>0.088614</td>\n",
       "      <td>0.008595</td>\n",
       "      <td>0.001199</td>\n",
       "      <td>20</td>\n",
       "      <td>6</td>\n",
       "      <td>99</td>\n",
       "      <td>{'n_estimators': 20, 'min_samples_split': 6, '...</td>\n",
       "      <td>-0.435170</td>\n",
       "      <td>-0.427678</td>\n",
       "      <td>-0.468643</td>\n",
       "      <td>-0.456514</td>\n",
       "      <td>-0.385748</td>\n",
       "      <td>-0.434751</td>\n",
       "      <td>0.028544</td>\n",
       "      <td>6</td>\n",
       "    </tr>\n",
       "    <tr>\n",
       "      <th>18</th>\n",
       "      <td>2.232495</td>\n",
       "      <td>0.125406</td>\n",
       "      <td>0.009995</td>\n",
       "      <td>0.001548</td>\n",
       "      <td>26</td>\n",
       "      <td>16</td>\n",
       "      <td>43</td>\n",
       "      <td>{'n_estimators': 26, 'min_samples_split': 16, ...</td>\n",
       "      <td>-0.446120</td>\n",
       "      <td>-0.451958</td>\n",
       "      <td>-0.486193</td>\n",
       "      <td>-0.471506</td>\n",
       "      <td>-0.396321</td>\n",
       "      <td>-0.450420</td>\n",
       "      <td>0.030568</td>\n",
       "      <td>14</td>\n",
       "    </tr>\n",
       "    <tr>\n",
       "      <th>19</th>\n",
       "      <td>2.336373</td>\n",
       "      <td>0.057978</td>\n",
       "      <td>0.010169</td>\n",
       "      <td>0.000753</td>\n",
       "      <td>27</td>\n",
       "      <td>9</td>\n",
       "      <td>38</td>\n",
       "      <td>{'n_estimators': 27, 'min_samples_split': 9, '...</td>\n",
       "      <td>-0.440965</td>\n",
       "      <td>-0.435500</td>\n",
       "      <td>-0.482129</td>\n",
       "      <td>-0.450976</td>\n",
       "      <td>-0.400197</td>\n",
       "      <td>-0.441953</td>\n",
       "      <td>0.026388</td>\n",
       "      <td>11</td>\n",
       "    </tr>\n",
       "  </tbody>\n",
       "</table>\n",
       "</div>"
      ],
      "text/plain": [
       "    mean_fit_time  std_fit_time  mean_score_time  std_score_time  \\\n",
       "0        2.831263      0.148182         0.012391        0.002654   \n",
       "1        4.417390      0.135272         0.019228        0.003728   \n",
       "2        2.850404      0.264868         0.011036        0.000883   \n",
       "3        2.010080      0.026431         0.008793        0.000749   \n",
       "4        1.990496      0.078241         0.009992        0.002755   \n",
       "5        2.073225      0.298475         0.013989        0.011583   \n",
       "6        3.567746      0.204688         0.013789        0.000399   \n",
       "7        2.647134      0.099347         0.011590        0.000490   \n",
       "8        1.623611      0.077009         0.007393        0.001355   \n",
       "9        3.873357      0.359616         0.016188        0.003485   \n",
       "10       3.334944      0.349898         0.013988        0.001095   \n",
       "11       2.444390      0.192918         0.010591        0.001199   \n",
       "12       2.890207      0.045810         0.011821        0.000718   \n",
       "13       3.246604      0.022584         0.010879        0.001122   \n",
       "14       3.404242      0.097984         0.015345        0.003806   \n",
       "15       3.741910      0.042213         0.015288        0.000871   \n",
       "16       0.918871      0.047223         0.004598        0.000492   \n",
       "17       1.924330      0.088614         0.008595        0.001199   \n",
       "18       2.232495      0.125406         0.009995        0.001548   \n",
       "19       2.336373      0.057978         0.010169        0.000753   \n",
       "\n",
       "   param_n_estimators param_min_samples_split param_max_depth  \\\n",
       "0                  27                      10             140   \n",
       "1                  41                       3              66   \n",
       "2                  28                       6             187   \n",
       "3                  24                      18             141   \n",
       "4                  19                      14             115   \n",
       "5                  17                       7             103   \n",
       "6                  44                      15             129   \n",
       "7                  34                      17              36   \n",
       "8                  19                      14             157   \n",
       "9                  41                       7             112   \n",
       "10                 47                       7              16   \n",
       "11                 28                      18             161   \n",
       "12                 30                       4             165   \n",
       "13                 38                      10             141   \n",
       "14                 38                       7             158   \n",
       "15                 42                       9             167   \n",
       "16                 12                      15              24   \n",
       "17                 20                       6              99   \n",
       "18                 26                      16              43   \n",
       "19                 27                       9              38   \n",
       "\n",
       "                                               params  split0_test_score  \\\n",
       "0   {'n_estimators': 27, 'min_samples_split': 10, ...          -0.435984   \n",
       "1   {'n_estimators': 41, 'min_samples_split': 3, '...          -0.421876   \n",
       "2   {'n_estimators': 28, 'min_samples_split': 6, '...          -0.426420   \n",
       "3   {'n_estimators': 24, 'min_samples_split': 18, ...          -0.452528   \n",
       "4   {'n_estimators': 19, 'min_samples_split': 14, ...          -0.459104   \n",
       "5   {'n_estimators': 17, 'min_samples_split': 7, '...          -0.427180   \n",
       "6   {'n_estimators': 44, 'min_samples_split': 15, ...          -0.446370   \n",
       "7   {'n_estimators': 34, 'min_samples_split': 17, ...          -0.447764   \n",
       "8   {'n_estimators': 19, 'min_samples_split': 14, ...          -0.452174   \n",
       "9   {'n_estimators': 41, 'min_samples_split': 7, '...          -0.427980   \n",
       "10  {'n_estimators': 47, 'min_samples_split': 7, '...          -0.447683   \n",
       "11  {'n_estimators': 28, 'min_samples_split': 18, ...          -0.452119   \n",
       "12  {'n_estimators': 30, 'min_samples_split': 4, '...          -0.427091   \n",
       "13  {'n_estimators': 38, 'min_samples_split': 10, ...          -0.436622   \n",
       "14  {'n_estimators': 38, 'min_samples_split': 7, '...          -0.426063   \n",
       "15  {'n_estimators': 42, 'min_samples_split': 9, '...          -0.437098   \n",
       "16  {'n_estimators': 12, 'min_samples_split': 15, ...          -0.464798   \n",
       "17  {'n_estimators': 20, 'min_samples_split': 6, '...          -0.435170   \n",
       "18  {'n_estimators': 26, 'min_samples_split': 16, ...          -0.446120   \n",
       "19  {'n_estimators': 27, 'min_samples_split': 9, '...          -0.440965   \n",
       "\n",
       "    split1_test_score  split2_test_score  split3_test_score  \\\n",
       "0           -0.436124          -0.487124          -0.459650   \n",
       "1           -0.423860          -0.459842          -0.449940   \n",
       "2           -0.415018          -0.474139          -0.457653   \n",
       "3           -0.439674          -0.491387          -0.466105   \n",
       "4           -0.448341          -0.487461          -0.470441   \n",
       "5           -0.432494          -0.500984          -0.472525   \n",
       "6           -0.437127          -0.481363          -0.453483   \n",
       "7           -0.439284          -0.484669          -0.468440   \n",
       "8           -0.446269          -0.492171          -0.478974   \n",
       "9           -0.422544          -0.470039          -0.445212   \n",
       "10          -0.455805          -0.489243          -0.470925   \n",
       "11          -0.446302          -0.489388          -0.480946   \n",
       "12          -0.427886          -0.470451          -0.447387   \n",
       "13          -0.434282          -0.474133          -0.454885   \n",
       "14          -0.425164          -0.462450          -0.457259   \n",
       "15          -0.422374          -0.476407          -0.452796   \n",
       "16          -0.455151          -0.509164          -0.502143   \n",
       "17          -0.427678          -0.468643          -0.456514   \n",
       "18          -0.451958          -0.486193          -0.471506   \n",
       "19          -0.435500          -0.482129          -0.450976   \n",
       "\n",
       "    split4_test_score  mean_test_score  std_test_score  rank_test_score  \n",
       "0           -0.390103        -0.441797        0.031973               10  \n",
       "1           -0.369890        -0.425082        0.031254                1  \n",
       "2           -0.383830        -0.431412        0.031850                3  \n",
       "3           -0.407199        -0.451379        0.027956               15  \n",
       "4           -0.399181        -0.452906        0.029823               16  \n",
       "5           -0.405190        -0.447675        0.034394               12  \n",
       "6           -0.390376        -0.441744        0.029627                9  \n",
       "7           -0.400465        -0.448124        0.028628               13  \n",
       "8           -0.399717        -0.453861        0.031907               18  \n",
       "9           -0.394169        -0.431989        0.025133                5  \n",
       "10          -0.403562        -0.453443        0.028685               17  \n",
       "11          -0.400672        -0.453885        0.031257               19  \n",
       "12          -0.385151        -0.431593        0.028108                4  \n",
       "13          -0.382349        -0.436454        0.030632                8  \n",
       "14          -0.377818        -0.429751        0.030191                2  \n",
       "15          -0.387757        -0.435286        0.029754                7  \n",
       "16          -0.410675        -0.468386        0.035555               20  \n",
       "17          -0.385748        -0.434751        0.028544                6  \n",
       "18          -0.396321        -0.450420        0.030568               14  \n",
       "19          -0.400197        -0.441953        0.026388               11  "
      ]
     },
     "execution_count": 17,
     "metadata": {},
     "output_type": "execute_result"
    }
   ],
   "source": [
    "pd.DataFrame(randomized_search_model.cv_results_)"
   ]
  },
  {
   "cell_type": "code",
   "execution_count": 18,
   "metadata": {
    "pycharm": {
     "name": "#%%\n"
    }
   },
   "outputs": [],
   "source": [
    "model = randomized_search_model.best_estimator_"
   ]
  },
  {
   "cell_type": "code",
   "execution_count": 20,
   "metadata": {
    "pycharm": {
     "name": "#%%\n"
    }
   },
   "outputs": [],
   "source": [
    "y_pred_train = model.predict(X_train)\n",
    "y_pred_test = model.predict(X_test)"
   ]
  },
  {
   "cell_type": "code",
   "execution_count": 21,
   "metadata": {
    "pycharm": {
     "name": "#%%\n"
    }
   },
   "outputs": [],
   "source": [
    "y_true = y_test\n",
    "y_pred = y_pred_test"
   ]
  },
  {
   "cell_type": "code",
   "execution_count": 22,
   "metadata": {
    "pycharm": {
     "name": "#%%\n"
    }
   },
   "outputs": [
    {
     "data": {
      "image/png": "[encoded data removed]",
      "text/plain": [
       "<Figure size 504x504 with 1 Axes>"
      ]
     },
     "metadata": {
      "needs_background": "light"
     },
     "output_type": "display_data"
    }
   ],
   "source": [
    "plt.scatter(y_pred_test, y_test, alpha=0.5, label=\"Test\")\n",
    "plt.scatter(y_pred_train, y_train, alpha=0.1, label=\"Train\")\n",
    "plt.legend()\n",
    "plt.plot([-3, 8], [-3,8], c=\"b\")\n",
    "plt.xlabel('Predicted', fontsize=18)\n",
    "plt.ylabel('True', fontsize=18)\n",
    "plt.axis('square')\n",
    "fig = plt.gcf()\n",
    "fig.set_size_inches(7, 7)"
   ]
  },
  {
   "cell_type": "code",
   "execution_count": 24,
   "metadata": {
    "pycharm": {
     "name": "#%%\n"
    }
   },
   "outputs": [
    {
     "data": {
      "text/plain": [
       "array([0, 0, 0, 1, 0, 0, 0, 0, 0, 0, 0, 0, 0, 0, 0, 0, 0, 0, 0, 2, 0, 0,\n",
       "       0, 0, 2, 0, 0, 0, 0, 0, 0, 0, 0, 0, 0, 0, 0, 0, 0, 0, 0, 0, 0, 1,\n",
       "       0, 0, 0, 0, 0, 0, 2, 0, 0, 0, 0, 0, 0, 0, 0, 0, 0, 0, 0, 0, 0, 0,\n",
       "       0, 0, 0, 0, 1, 0, 0, 0, 0, 0, 0, 0, 0, 0, 1, 0, 0, 0, 0, 0, 0, 0,\n",
       "       0, 0, 0, 0, 1, 0, 0, 2, 2, 0, 0, 0, 0, 1, 0, 0, 0, 1, 0, 0, 0, 0,\n",
       "       1, 0, 0, 0, 0, 0, 0, 0, 0, 0, 0, 2, 0, 0, 0, 0, 0, 0, 0, 0, 1, 0,\n",
       "       0, 0, 0, 0, 0, 0, 0, 0, 0, 0, 0, 0, 0, 0, 0, 0, 0, 4, 0, 2, 0, 0,\n",
       "       4, 0, 0, 0, 0], dtype=int8)"
      ]
     },
     "execution_count": 24,
     "metadata": {},
     "output_type": "execute_result"
    }
   ],
   "source": [
    "n = 156\n",
    "X_test[n]"
   ]
  },
  {
   "cell_type": "code",
   "execution_count": 25,
   "metadata": {
    "pycharm": {
     "name": "#%%\n"
    }
   },
   "outputs": [
    {
     "data": {
      "text/plain": [
       "array([1.28553456])"
      ]
     },
     "execution_count": 25,
     "metadata": {},
     "output_type": "execute_result"
    }
   ],
   "source": [
    "y_test[n]"
   ]
  },
  {
   "cell_type": "code",
   "execution_count": 26,
   "metadata": {
    "pycharm": {
     "name": "#%%\n"
    }
   },
   "outputs": [
    {
     "data": {
      "text/plain": [
       "array([1.56057802])"
      ]
     },
     "execution_count": 26,
     "metadata": {},
     "output_type": "execute_result"
    }
   ],
   "source": [
    "model.predict(X_test[n].reshape(1, -1))"
   ]
  },
  {
   "cell_type": "markdown",
   "metadata": {
    "pycharm": {
     "name": "#%% md\n"
    }
   },
   "source": [
    "# Model assessment"
   ]
  },
  {
   "cell_type": "code",
   "execution_count": 27,
   "metadata": {
    "pycharm": {
     "name": "#%%\n"
    }
   },
   "outputs": [],
   "source": [
    "def assess_model(y_true, y_pred, X_train, y_train):\n",
    "\n",
    "    def calc_metrics(y_pred):\n",
    "        score1 = max_error(y_true, y_pred)\n",
    "        score2 = mean_absolute_error(y_true, y_pred)\n",
    "        score3 = mean_squared_error(y_true, y_pred)\n",
    "        score4 = explained_variance_score(y_true, y_pred)\n",
    "        score5 = r2_score(y_true, y_pred)\n",
    "        return score1,score2,score3,score4,score5\n",
    "\n",
    "    dummy1 = DummyRegressor(strategy=\"mean\")\n",
    "    dummy1.fit(X_train, y_train)\n",
    "    dummy_mean = dummy1.predict(X_test)\n",
    "\n",
    "    dummy2 = DummyRegressor(strategy=\"median\")\n",
    "    dummy2.fit(X_train, y_train)\n",
    "    dummy_median = dummy2.predict(X_test)\n",
    "\n",
    "    dummy3 = DummyRegressor(strategy=\"quantile\", quantile=0.0)\n",
    "    dummy3.fit(X_train, y_train)\n",
    "    dummy_quantile00 = dummy3.predict(X_test)\n",
    "\n",
    "    dummy4 = DummyRegressor(strategy=\"quantile\", quantile=0.5)\n",
    "    dummy4.fit(X_train, y_train)\n",
    "    dummy_quantile05 = dummy4.predict(X_test)\n",
    "\n",
    "    dummy5 = DummyRegressor(strategy=\"quantile\", quantile=1.0)\n",
    "    dummy5.fit(X_train, y_train)\n",
    "    dummy_quantile10 = dummy5.predict(X_test)\n",
    "    \n",
    "    results = [\n",
    "        calc_metrics(y_pred),\n",
    "        calc_metrics(dummy_mean),\n",
    "        calc_metrics(dummy_median),\n",
    "        calc_metrics(dummy_quantile00),\n",
    "        calc_metrics(dummy_quantile05),\n",
    "        calc_metrics(dummy_quantile10)\n",
    "    ]\n",
    "\n",
    "    df = pd.DataFrame(results).T \n",
    "\n",
    "    df.columns = ['Model', 'dummy(Mean)', 'dummy(Median)', \n",
    "                  'dummy(Min Quantile)', 'dummy(Median Quantile)', \n",
    "                  'dummy(Max Quantile)']\n",
    "\n",
    "    df = df.rename(index={0: \"max error\", 1: \"MAE\", 2: \"MSE\", 3:\"explained\", 4:\"r2\"})\n",
    "    pd.set_option('display.float_format', lambda x: '%.3f' % x)\n",
    "    df = df.T\n",
    "\n",
    "    def highlight_max(data, color='lightgreen'):\n",
    "        attr = 'background-color: {}'.format(color)\n",
    "        if data.ndim == 1:  \n",
    "            is_max = data == data.max()\n",
    "            return [attr if v else '' for v in is_max]\n",
    "\n",
    "    def highlight_min(data, color='lightgreen'):\n",
    "        attr = 'background-color: {}'.format(color)\n",
    "        if data.ndim == 1:  \n",
    "            is_min = data == data.min()\n",
    "            return [attr if v else '' for v in is_min]\n",
    "\n",
    "\n",
    "    return df.style.apply(highlight_min, subset=['max error', 'MAE', 'MSE']).\\\n",
    "             apply(highlight_max, subset=['explained', 'r2'])"
   ]
  },
  {
   "cell_type": "code",
   "execution_count": 28,
   "metadata": {
    "pycharm": {
     "name": "#%%\n"
    }
   },
   "outputs": [
    {
     "name": "stdout",
     "output_type": "stream",
     "text": [
      "\n",
      "Random Forest()\n"
     ]
    },
    {
     "data": {
      "text/html": [
       "<style  type=\"text/css\" >\n",
       "#T_02c6f_row0_col0,#T_02c6f_row0_col1,#T_02c6f_row0_col2,#T_02c6f_row0_col3,#T_02c6f_row0_col4{\n",
       "            background-color:  lightgreen;\n",
       "        }</style><table id=\"T_02c6f_\" ><thead>    <tr>        <th class=\"blank level0\" ></th>        <th class=\"col_heading level0 col0\" >max error</th>        <th class=\"col_heading level0 col1\" >MAE</th>        <th class=\"col_heading level0 col2\" >MSE</th>        <th class=\"col_heading level0 col3\" >explained</th>        <th class=\"col_heading level0 col4\" >r2</th>    </tr></thead><tbody>\n",
       "                <tr>\n",
       "                        <th id=\"T_02c6f_level0_row0\" class=\"row_heading level0 row0\" >Model</th>\n",
       "                        <td id=\"T_02c6f_row0_col0\" class=\"data row0 col0\" >2.777987</td>\n",
       "                        <td id=\"T_02c6f_row0_col1\" class=\"data row0 col1\" >0.422877</td>\n",
       "                        <td id=\"T_02c6f_row0_col2\" class=\"data row0 col2\" >0.327686</td>\n",
       "                        <td id=\"T_02c6f_row0_col3\" class=\"data row0 col3\" >0.629613</td>\n",
       "                        <td id=\"T_02c6f_row0_col4\" class=\"data row0 col4\" >0.629265</td>\n",
       "            </tr>\n",
       "            <tr>\n",
       "                        <th id=\"T_02c6f_level0_row1\" class=\"row_heading level0 row1\" >dummy(Mean)</th>\n",
       "                        <td id=\"T_02c6f_row1_col0\" class=\"data row1 col0\" >3.924159</td>\n",
       "                        <td id=\"T_02c6f_row1_col1\" class=\"data row1 col1\" >0.742618</td>\n",
       "                        <td id=\"T_02c6f_row1_col2\" class=\"data row1 col2\" >0.885747</td>\n",
       "                        <td id=\"T_02c6f_row1_col3\" class=\"data row1 col3\" >0.000000</td>\n",
       "                        <td id=\"T_02c6f_row1_col4\" class=\"data row1 col4\" >-0.002110</td>\n",
       "            </tr>\n",
       "            <tr>\n",
       "                        <th id=\"T_02c6f_level0_row2\" class=\"row_heading level0 row2\" >dummy(Median)</th>\n",
       "                        <td id=\"T_02c6f_row2_col0\" class=\"data row2 col0\" >4.106774</td>\n",
       "                        <td id=\"T_02c6f_row2_col1\" class=\"data row2 col1\" >0.718489</td>\n",
       "                        <td id=\"T_02c6f_row2_col2\" class=\"data row2 col2\" >0.903324</td>\n",
       "                        <td id=\"T_02c6f_row2_col3\" class=\"data row2 col3\" >0.000000</td>\n",
       "                        <td id=\"T_02c6f_row2_col4\" class=\"data row2 col4\" >-0.021996</td>\n",
       "            </tr>\n",
       "            <tr>\n",
       "                        <th id=\"T_02c6f_level0_row3\" class=\"row_heading level0 row3\" >dummy(Min Quantile)</th>\n",
       "                        <td id=\"T_02c6f_row3_col0\" class=\"data row3 col0\" >6.923277</td>\n",
       "                        <td id=\"T_02c6f_row3_col1\" class=\"data row3 col1\" >2.955937</td>\n",
       "                        <td id=\"T_02c6f_row3_col2\" class=\"data row3 col2\" >9.621446</td>\n",
       "                        <td id=\"T_02c6f_row3_col3\" class=\"data row3 col3\" >0.000000</td>\n",
       "                        <td id=\"T_02c6f_row3_col4\" class=\"data row3 col4\" >-9.885441</td>\n",
       "            </tr>\n",
       "            <tr>\n",
       "                        <th id=\"T_02c6f_level0_row4\" class=\"row_heading level0 row4\" >dummy(Median Quantile)</th>\n",
       "                        <td id=\"T_02c6f_row4_col0\" class=\"data row4 col0\" >4.106774</td>\n",
       "                        <td id=\"T_02c6f_row4_col1\" class=\"data row4 col1\" >0.718489</td>\n",
       "                        <td id=\"T_02c6f_row4_col2\" class=\"data row4 col2\" >0.903324</td>\n",
       "                        <td id=\"T_02c6f_row4_col3\" class=\"data row4 col3\" >0.000000</td>\n",
       "                        <td id=\"T_02c6f_row4_col4\" class=\"data row4 col4\" >-0.021996</td>\n",
       "            </tr>\n",
       "            <tr>\n",
       "                        <th id=\"T_02c6f_level0_row5\" class=\"row_heading level0 row5\" >dummy(Max Quantile)</th>\n",
       "                        <td id=\"T_02c6f_row5_col0\" class=\"data row5 col0\" >9.869948</td>\n",
       "                        <td id=\"T_02c6f_row5_col1\" class=\"data row5 col1\" >7.986470</td>\n",
       "                        <td id=\"T_02c6f_row5_col2\" class=\"data row5 col2\" >64.667592</td>\n",
       "                        <td id=\"T_02c6f_row5_col3\" class=\"data row5 col3\" >0.000000</td>\n",
       "                        <td id=\"T_02c6f_row5_col4\" class=\"data row5 col4\" >-72.163151</td>\n",
       "            </tr>\n",
       "    </tbody></table>"
      ],
      "text/plain": [
       "<pandas.io.formats.style.Styler at 0x2122754dcc8>"
      ]
     },
     "execution_count": 28,
     "metadata": {},
     "output_type": "execute_result"
    }
   ],
   "source": [
    "print(\"\\n\"+\"Random Forest()\")\n",
    "assess_model(y_true, y_pred, X_train, y_train)"
   ]
  },
  {
   "cell_type": "markdown",
   "source": [
    "# Random Forest not only surpassed dummy models, but also outperformed LSTM and FeedForward+Descriptors"
   ],
   "metadata": {
    "collapsed": false,
    "pycharm": {
     "name": "#%% md\n"
    }
   }
  },
  {
   "cell_type": "code",
   "execution_count": null,
   "outputs": [],
   "source": [],
   "metadata": {
    "collapsed": false,
    "pycharm": {
     "name": "#%%\n"
    }
   }
  }
 ],
 "metadata": {
  "kernelspec": {
   "display_name": "Python 3",
   "language": "python",
   "name": "python3"
  },
  "language_info": {
   "codemirror_mode": {
    "name": "ipython",
    "version": 3
   },
   "file_extension": ".py",
   "mimetype": "text/x-python",
   "name": "python",
   "nbconvert_exporter": "python",
   "pygments_lexer": "ipython3",
   "version": "3.7.10"
  }
 },
 "nbformat": 4,
 "nbformat_minor": 4
}