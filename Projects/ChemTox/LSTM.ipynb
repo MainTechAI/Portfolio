{
 "cells": [
  {
   "cell_type": "markdown",
   "id": "da54cc22",
   "metadata": {
    "pycharm": {
     "name": "#%% md\n"
    }
   },
   "source": [
    "# In theory, the model should be able to create its own descriptors directly from SMILES."
   ]
  },
  {
   "cell_type": "code",
   "execution_count": 1,
   "id": "d44e5441",
   "metadata": {
    "pycharm": {
     "name": "#%%\n"
    }
   },
   "outputs": [],
   "source": [
    "import matplotlib.pyplot as plt\n",
    "from sklearn.preprocessing import StandardScaler\n",
    "from sklearn.model_selection import train_test_split\n",
    "import numpy as np\n",
    "from tdc.single_pred import Tox\n",
    "from rdkit.Chem import PandasTools, AllChem\n",
    "import pandas as pd\n",
    "from sklearn.dummy import DummyRegressor\n",
    "from sklearn.metrics import explained_variance_score, max_error, \\\n",
    "                     mean_absolute_error, mean_squared_error, r2_score"
   ]
  },
  {
   "cell_type": "code",
   "execution_count": 2,
   "id": "6ffc1eee",
   "metadata": {
    "pycharm": {
     "name": "#%%\n"
    }
   },
   "outputs": [],
   "source": [
    "num_workers = 0"
   ]
  },
  {
   "cell_type": "code",
   "execution_count": 3,
   "id": "b68cef34",
   "metadata": {
    "pycharm": {
     "name": "#%%\n"
    }
   },
   "outputs": [
    {
     "name": "stderr",
     "output_type": "stream",
     "text": [
      "Found local copy...\n",
      "Loading...\n",
      "Done!\n"
     ]
    }
   ],
   "source": [
    "data = Tox(name='LD50_Zhu').get_data()"
   ]
  },
  {
   "cell_type": "code",
   "execution_count": 4,
   "id": "e7f1a926",
   "metadata": {
    "pycharm": {
     "name": "#%%\n"
    }
   },
   "outputs": [
    {
     "data": {
      "text/html": [
       "<div>\n",
       "<style scoped>\n",
       "    .dataframe tbody tr th:only-of-type {\n",
       "        vertical-align: middle;\n",
       "    }\n",
       "\n",
       "    .dataframe tbody tr th {\n",
       "        vertical-align: top;\n",
       "    }\n",
       "\n",
       "    .dataframe thead th {\n",
       "        text-align: right;\n",
       "    }\n",
       "</style>\n",
       "<table border=\"1\" class=\"dataframe\">\n",
       "  <thead>\n",
       "    <tr style=\"text-align: right;\">\n",
       "      <th></th>\n",
       "      <th>Drug_ID</th>\n",
       "      <th>Drug</th>\n",
       "      <th>Y</th>\n",
       "    </tr>\n",
       "  </thead>\n",
       "  <tbody>\n",
       "    <tr>\n",
       "      <th>0</th>\n",
       "      <td>Diazene, diphenyl-, 1-oxide</td>\n",
       "      <td>[O-][N+](=Nc1ccccc1)c1ccccc1</td>\n",
       "      <td>2.505</td>\n",
       "    </tr>\n",
       "    <tr>\n",
       "      <th>1</th>\n",
       "      <td>Methane, tribromo-</td>\n",
       "      <td>BrC(Br)Br</td>\n",
       "      <td>2.343</td>\n",
       "    </tr>\n",
       "    <tr>\n",
       "      <th>2</th>\n",
       "      <td>Bromoethene (9CI)</td>\n",
       "      <td>C=CBr</td>\n",
       "      <td>2.330</td>\n",
       "    </tr>\n",
       "    <tr>\n",
       "      <th>3</th>\n",
       "      <td>1,1'-Biphenyl, hexabromo-</td>\n",
       "      <td>Brc1ccc(-c2ccc(Br)c(Br)c2Br)c(Br)c1Br</td>\n",
       "      <td>1.465</td>\n",
       "    </tr>\n",
       "    <tr>\n",
       "      <th>4</th>\n",
       "      <td>Isothiocyanic acid, p-bromophenyl ester</td>\n",
       "      <td>S=C=Nc1ccc(Br)cc1</td>\n",
       "      <td>2.729</td>\n",
       "    </tr>\n",
       "    <tr>\n",
       "      <th>...</th>\n",
       "      <td>...</td>\n",
       "      <td>...</td>\n",
       "      <td>...</td>\n",
       "    </tr>\n",
       "    <tr>\n",
       "      <th>7380</th>\n",
       "      <td>Isocyanic acid, (alpha,alpha,alpha-trifluoro-o...</td>\n",
       "      <td>O=C=Nc1ccccc1C(F)(F)F</td>\n",
       "      <td>1.427</td>\n",
       "    </tr>\n",
       "    <tr>\n",
       "      <th>7381</th>\n",
       "      <td>1,3-Benzenediamine, 4-(1,1,2,2-tetrafluoroetho...</td>\n",
       "      <td>Nc1ccc(OC(F)(F)C(F)F)c(N)c1</td>\n",
       "      <td>2.321</td>\n",
       "    </tr>\n",
       "    <tr>\n",
       "      <th>7382</th>\n",
       "      <td>Propanenitrile, 3-((2-(acetyloxy)ethyl)phenyla...</td>\n",
       "      <td>CC(=O)OCCN(CCC#N)c1ccccc1</td>\n",
       "      <td>2.050</td>\n",
       "    </tr>\n",
       "    <tr>\n",
       "      <th>7383</th>\n",
       "      <td>IH-Indene-1,3(2H)-dione, 2-(2-methyl-1-(2-(1-p...</td>\n",
       "      <td>CC1=CC(=C2C(=O)c3ccccc3C2=O)C=CN1CCN1CCCCC1</td>\n",
       "      <td>2.951</td>\n",
       "    </tr>\n",
       "    <tr>\n",
       "      <th>7384</th>\n",
       "      <td>1-Propanone, 1-(2,4,6-trihydroxyphenyl)-</td>\n",
       "      <td>CCC(=O)c1c(O)cc(O)cc1O</td>\n",
       "      <td>1.884</td>\n",
       "    </tr>\n",
       "  </tbody>\n",
       "</table>\n",
       "<p>7385 rows × 3 columns</p>\n",
       "</div>"
      ],
      "text/plain": [
       "                                                Drug_ID  \\\n",
       "0                           Diazene, diphenyl-, 1-oxide   \n",
       "1                                    Methane, tribromo-   \n",
       "2                                     Bromoethene (9CI)   \n",
       "3                             1,1'-Biphenyl, hexabromo-   \n",
       "4               Isothiocyanic acid, p-bromophenyl ester   \n",
       "...                                                 ...   \n",
       "7380  Isocyanic acid, (alpha,alpha,alpha-trifluoro-o...   \n",
       "7381  1,3-Benzenediamine, 4-(1,1,2,2-tetrafluoroetho...   \n",
       "7382  Propanenitrile, 3-((2-(acetyloxy)ethyl)phenyla...   \n",
       "7383  IH-Indene-1,3(2H)-dione, 2-(2-methyl-1-(2-(1-p...   \n",
       "7384           1-Propanone, 1-(2,4,6-trihydroxyphenyl)-   \n",
       "\n",
       "                                             Drug      Y  \n",
       "0                    [O-][N+](=Nc1ccccc1)c1ccccc1  2.505  \n",
       "1                                       BrC(Br)Br  2.343  \n",
       "2                                           C=CBr  2.330  \n",
       "3           Brc1ccc(-c2ccc(Br)c(Br)c2Br)c(Br)c1Br  1.465  \n",
       "4                               S=C=Nc1ccc(Br)cc1  2.729  \n",
       "...                                           ...    ...  \n",
       "7380                        O=C=Nc1ccccc1C(F)(F)F  1.427  \n",
       "7381                  Nc1ccc(OC(F)(F)C(F)F)c(N)c1  2.321  \n",
       "7382                    CC(=O)OCCN(CCC#N)c1ccccc1  2.050  \n",
       "7383  CC1=CC(=C2C(=O)c3ccccc3C2=O)C=CN1CCN1CCCCC1  2.951  \n",
       "7384                       CCC(=O)c1c(O)cc(O)cc1O  1.884  \n",
       "\n",
       "[7385 rows x 3 columns]"
      ]
     },
     "execution_count": 4,
     "metadata": {},
     "output_type": "execute_result"
    }
   ],
   "source": [
    "data"
   ]
  },
  {
   "cell_type": "code",
   "execution_count": 5,
   "id": "a94da6f1",
   "metadata": {
    "pycharm": {
     "name": "#%%\n"
    }
   },
   "outputs": [
    {
     "name": "stdout",
     "output_type": "stream",
     "text": [
      "Smiles loaded\n"
     ]
    }
   ],
   "source": [
    "PandasTools.AddMoleculeColumnToFrame(data,'Drug','Molecule')\n",
    "if data.Molecule.isna().sum()==0:\n",
    "    print('Smiles loaded')"
   ]
  },
  {
   "cell_type": "code",
   "execution_count": 6,
   "id": "47cbddc0",
   "metadata": {
    "pycharm": {
     "name": "#%%\n"
    }
   },
   "outputs": [
    {
     "data": {
      "text/html": [
       "<div>\n",
       "<style scoped>\n",
       "    .dataframe tbody tr th:only-of-type {\n",
       "        vertical-align: middle;\n",
       "    }\n",
       "\n",
       "    .dataframe tbody tr th {\n",
       "        vertical-align: top;\n",
       "    }\n",
       "\n",
       "    .dataframe thead th {\n",
       "        text-align: right;\n",
       "    }\n",
       "</style>\n",
       "<table border=\"1\" class=\"dataframe\">\n",
       "  <thead>\n",
       "    <tr style=\"text-align: right;\">\n",
       "      <th></th>\n",
       "      <th>Drug_ID</th>\n",
       "      <th>Drug</th>\n",
       "      <th>Y</th>\n",
       "      <th>Molecule</th>\n",
       "    </tr>\n",
       "  </thead>\n",
       "  <tbody>\n",
       "    <tr>\n",
       "      <th>5541</th>\n",
       "      <td>Bicyclo(2.2.1)hept-2-ene</td>\n",
       "      <td>C1=CC2CCC1C2</td>\n",
       "      <td>0.921</td>\n",
       "      <td><img data-content=\"rdkit/molecule\" src=\"data:image/png;base64,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\" alt=\"Mol\"/></td>\n",
       "    </tr>\n",
       "    <tr>\n",
       "      <th>6111</th>\n",
       "      <td>Ethylenetetracarbonitrile</td>\n",
       "      <td>N#CC(C#N)=C(C#N)C#N</td>\n",
       "      <td>4.409</td>\n",
       "      <td><img data-content=\"rdkit/molecule\" src=\"data:image/png;base64,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\" alt=\"Mol\"/></td>\n",
       "    </tr>\n",
       "    <tr>\n",
       "      <th>732</th>\n",
       "      <td>Pyridine, 2,6-dimethyl-</td>\n",
       "      <td>Cc1cccc(C)n1</td>\n",
       "      <td>2.428</td>\n",
       "      <td><img data-content=\"rdkit/molecule\" src=\"data:image/png;base64,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\" alt=\"Mol\"/></td>\n",
       "    </tr>\n",
       "  </tbody>\n",
       "</table>\n",
       "</div>"
      ],
      "text/plain": [
       "                        Drug_ID                 Drug      Y  \\\n",
       "5541   Bicyclo(2.2.1)hept-2-ene         C1=CC2CCC1C2  0.921   \n",
       "6111  Ethylenetetracarbonitrile  N#CC(C#N)=C(C#N)C#N  4.409   \n",
       "732     Pyridine, 2,6-dimethyl-         Cc1cccc(C)n1  2.428   \n",
       "\n",
       "                                               Molecule  \n",
       "5541  <img data-content=\"rdkit/molecule\" src=\"data:i...  \n",
       "6111  <img data-content=\"rdkit/molecule\" src=\"data:i...  \n",
       "732   <img data-content=\"rdkit/molecule\" src=\"data:i...  "
      ]
     },
     "execution_count": 6,
     "metadata": {},
     "output_type": "execute_result"
    }
   ],
   "source": [
    "data.sample(3)"
   ]
  },
  {
   "cell_type": "code",
   "execution_count": 7,
   "id": "fd34e644",
   "metadata": {
    "pycharm": {
     "name": "#%%\n"
    }
   },
   "outputs": [],
   "source": [
    "import torch\n",
    "import torch.nn as nn\n",
    "from torch.utils.data import Dataset\n",
    "from torch.optim.lr_scheduler import ReduceLROnPlateau\n",
    "from molvecgen.vectorizers import SmilesVectorizer"
   ]
  },
  {
   "cell_type": "code",
   "execution_count": 9,
   "id": "73e0275b",
   "metadata": {
    "pycharm": {
     "name": "#%%\n"
    }
   },
   "outputs": [],
   "source": [
    "smivec = SmilesVectorizer(pad=1, leftpad=True, canonical=False, augment=True)\n",
    "smivec.fit(data.Molecule.values)"
   ]
  },
  {
   "cell_type": "code",
   "execution_count": 10,
   "id": "64bf74c6",
   "metadata": {
    "pycharm": {
     "name": "#%%\n"
    }
   },
   "outputs": [
    {
     "name": "stdout",
     "output_type": "stream",
     "text": [
      "2-CS8s(45N])=cI1rPn7io+6Hl[F3#BO^$?\n"
     ]
    },
    {
     "data": {
      "text/plain": [
       "(175, 35)"
      ]
     },
     "execution_count": 10,
     "metadata": {},
     "output_type": "execute_result"
    }
   ],
   "source": [
    "print(smivec.charset)\n",
    "smivec.dims"
   ]
  },
  {
   "cell_type": "code",
   "execution_count": 11,
   "id": "c7b1623d",
   "metadata": {
    "pycharm": {
     "name": "#%%\n"
    }
   },
   "outputs": [],
   "source": [
    "y = data.Y.values.reshape((-1,1))\n",
    "X = data.Molecule.values"
   ]
  },
  {
   "cell_type": "code",
   "execution_count": 12,
   "id": "93e53e21",
   "metadata": {
    "pycharm": {
     "name": "#%%\n"
    }
   },
   "outputs": [],
   "source": [
    "X_train, X_test, y_train, y_test = train_test_split(X, y,  test_size=0.10, random_state=42)\n",
    "X_train, X_validation, y_train, y_validation = train_test_split(X_train, y_train,  test_size=0.05, random_state=42)"
   ]
  },
  {
   "cell_type": "code",
   "execution_count": 13,
   "id": "e97bec46",
   "metadata": {
    "pycharm": {
     "name": "#%%\n"
    }
   },
   "outputs": [],
   "source": [
    "scaler = StandardScaler()\n",
    "y_train = scaler.fit_transform(y_train)\n",
    "y_test = scaler.transform(y_test)\n",
    "y_validation = scaler.transform(y_validation)"
   ]
  },
  {
   "cell_type": "code",
   "execution_count": 14,
   "id": "ba079690",
   "metadata": {
    "pycharm": {
     "name": "#%%\n"
    }
   },
   "outputs": [],
   "source": [
    "class SMILESMolDataset(Dataset):\n",
    "    def __init__(self, molecules, y, vectorizer):\n",
    "        self.molecules = molecules\n",
    "        self.y = y\n",
    "        self.vectorizer = vectorizer\n",
    "        \n",
    "    def __len__(self):\n",
    "        return len(self.molecules)\n",
    "    \n",
    "    def __getitem__(self, idx):\n",
    "        if torch.is_tensor(idx):\n",
    "            idx = idx.tolist()\n",
    "             \n",
    "        mols = self.molecules[idx]\n",
    "         \n",
    "        sample = self.vectorizer.transform([mols])[0]\n",
    "        label = self.y[idx]\n",
    "        return sample, label"
   ]
  },
  {
   "cell_type": "code",
   "execution_count": 15,
   "id": "7d7d5ec7",
   "metadata": {
    "pycharm": {
     "name": "#%%\n"
    }
   },
   "outputs": [
    {
     "data": {
      "text/plain": [
       "(array([[0, 0, 0, ..., 0, 0, 0],\n",
       "        [0, 0, 0, ..., 0, 0, 0],\n",
       "        [0, 0, 0, ..., 0, 0, 0],\n",
       "        ...,\n",
       "        [0, 0, 0, ..., 0, 0, 0],\n",
       "        [0, 0, 0, ..., 0, 0, 0],\n",
       "        [0, 0, 0, ..., 0, 1, 0]], dtype=int8),\n",
       " array([-1.07591829]))"
      ]
     },
     "execution_count": 15,
     "metadata": {},
     "output_type": "execute_result"
    }
   ],
   "source": [
    "train_dataset = SMILESMolDataset(X_train, y_train, smivec)\n",
    "train_dataset[0]"
   ]
  },
  {
   "cell_type": "code",
   "execution_count": 16,
   "id": "01437156",
   "metadata": {
    "pycharm": {
     "name": "#%%\n"
    }
   },
   "outputs": [
    {
     "name": "stdout",
     "output_type": "stream",
     "text": [
      "cpu\n"
     ]
    },
    {
     "data": {
      "text/plain": [
       "torch.Size([333, 175, 35])"
      ]
     },
     "execution_count": 16,
     "metadata": {},
     "output_type": "execute_result"
    }
   ],
   "source": [
    "device = torch.device(\"cuda:0\" if torch.cuda.is_available() else \"cpu\")\n",
    "print(device)\n",
    "X_validation_t = smivec.transform(X_validation, canonical=False)\n",
    "X_validation_t = torch.tensor(X_validation_t, device=device).float()\n",
    "y_validation_t = torch.tensor(y_validation, device=device).float()\n",
    "X_validation_t.shape"
   ]
  },
  {
   "cell_type": "code",
   "execution_count": 17,
   "id": "efe88349",
   "metadata": {
    "pycharm": {
     "name": "#%%\n"
    }
   },
   "outputs": [],
   "source": [
    "class Net(nn.Module):\n",
    "    def __init__(self, dimensions, lstm_size, hidden_size, dropout_rate, out_size):\n",
    "        super(Net, self).__init__()\n",
    "         \n",
    "        length = dims[0]\n",
    "        number_tokens = dims[1]\n",
    "         \n",
    "        self.lstm = nn.LSTM(input_size=number_tokens, hidden_size=lstm_size, num_layers=1, batch_first=True, bidirectional=False)\n",
    "        self.fc1 = nn.Linear(lstm_size, hidden_size)\n",
    "        self.activation = nn.ReLU()\n",
    "        self.fc_out = nn.Linear(hidden_size, out_size)\n",
    "        self.dropout = nn.Dropout(dropout_rate)\n",
    "     \n",
    "    def forward(self, x):\n",
    "        out, (h_n, c_n) = self.lstm(x) \n",
    "        out = self.dropout(h_n) \n",
    "        out = self.fc1(out)\n",
    "        out = self.activation(out)\n",
    "        out = self.dropout(out) \n",
    "        out = self.fc_out(out)\n",
    "        return out\n"
   ]
  },
  {
   "cell_type": "code",
   "execution_count": 18,
   "id": "bf533fda",
   "metadata": {
    "pycharm": {
     "name": "#%%\n"
    }
   },
   "outputs": [],
   "source": [
    "epochs = 100\n",
    "dims = smivec.dims\n",
    "lstm_size = 128\n",
    "hidden_size = 128\n",
    "dropout_rate = 0.50\n",
    "output_size = 1\n",
    "batch_size = 128\n",
    "learning_rate = 0.003"
   ]
  },
  {
   "cell_type": "code",
   "execution_count": 19,
   "id": "8e6161f5",
   "metadata": {
    "pycharm": {
     "name": "#%%\n"
    }
   },
   "outputs": [
    {
     "data": {
      "text/plain": [
       "Net(\n",
       "  (lstm): LSTM(35, 128, batch_first=True)\n",
       "  (fc1): Linear(in_features=128, out_features=128, bias=True)\n",
       "  (activation): ReLU()\n",
       "  (fc_out): Linear(in_features=128, out_features=1, bias=True)\n",
       "  (dropout): Dropout(p=0.5, inplace=False)\n",
       ")"
      ]
     },
     "execution_count": 19,
     "metadata": {},
     "output_type": "execute_result"
    }
   ],
   "source": [
    "model = Net(smivec, lstm_size, hidden_size, dropout_rate, output_size)\n",
    "#model.cuda()\n",
    "model"
   ]
  },
  {
   "cell_type": "code",
   "execution_count": 20,
   "id": "73f3ea0f",
   "metadata": {
    "pycharm": {
     "name": "#%%\n"
    }
   },
   "outputs": [
    {
     "data": {
      "text/plain": [
       "tensor([[[-0.0794]]], grad_fn=<AddBackward0>)"
      ]
     },
     "execution_count": 20,
     "metadata": {},
     "output_type": "execute_result"
    }
   ],
   "source": [
    "pred = model.forward(X_validation_t[10:11])\n",
    "pred"
   ]
  },
  {
   "cell_type": "code",
   "execution_count": 21,
   "id": "a38ce007",
   "metadata": {
    "pycharm": {
     "name": "#%%\n"
    }
   },
   "outputs": [],
   "source": [
    "criterion = nn.MSELoss()\n",
    "optimizer = torch.optim.Adam(model.parameters(), lr=learning_rate)\n",
    "lr_scheduler = ReduceLROnPlateau(optimizer, mode='min', factor=0.5, patience=50, \n",
    "                  verbose=True, threshold=0.0001, threshold_mode='rel', cooldown=0, min_lr=1e-6, eps=1e-08)"
   ]
  },
  {
   "cell_type": "code",
   "execution_count": 22,
   "id": "716f0d0d",
   "metadata": {
    "pycharm": {
     "name": "#%%\n"
    }
   },
   "outputs": [],
   "source": [
    "train_loader = torch.utils.data.DataLoader(dataset=train_dataset,\n",
    "                                          batch_size=batch_size,\n",
    "                                          shuffle=True, num_workers=num_workers)"
   ]
  },
  {
   "cell_type": "code",
   "execution_count": 23,
   "id": "f2a6788f",
   "metadata": {
    "pycharm": {
     "name": "#%%\n"
    }
   },
   "outputs": [],
   "source": [
    "for smiles, labels in train_loader:\n",
    "    break"
   ]
  },
  {
   "cell_type": "code",
   "execution_count": 24,
   "id": "053ef9ea",
   "metadata": {
    "scrolled": true,
    "pycharm": {
     "name": "#%%\n"
    }
   },
   "outputs": [
    {
     "name": "stdout",
     "output_type": "stream",
     "text": [
      "Epoch 1, Training loss: 0.98 Validation loss: 0.70\n",
      "Epoch 2, Training loss: 0.84 Validation loss: 0.82\n",
      "Epoch 3, Training loss: 0.78 Validation loss: 0.65\n",
      "Epoch 4, Training loss: 0.76 Validation loss: 0.63\n",
      "Epoch 5, Training loss: 0.71 Validation loss: 0.65\n",
      "Epoch 6, Training loss: 0.70 Validation loss: 0.63\n",
      "Epoch 7, Training loss: 0.70 Validation loss: 0.63\n",
      "Epoch 8, Training loss: 0.71 Validation loss: 0.65\n",
      "Epoch 9, Training loss: 0.70 Validation loss: 0.64\n",
      "Epoch 10, Training loss: 0.71 Validation loss: 0.58\n",
      "Epoch 11, Training loss: 0.71 Validation loss: 0.71\n",
      "Epoch 12, Training loss: 0.71 Validation loss: 0.70\n",
      "Epoch 13, Training loss: 0.70 Validation loss: 0.64\n",
      "Epoch 14, Training loss: 0.69 Validation loss: 0.58\n",
      "Epoch 15, Training loss: 0.68 Validation loss: 0.60\n",
      "Epoch 16, Training loss: 0.76 Validation loss: 0.64\n",
      "Epoch 17, Training loss: 0.67 Validation loss: 0.62\n",
      "Epoch 18, Training loss: 0.66 Validation loss: 0.62\n",
      "Epoch 19, Training loss: 0.67 Validation loss: 0.63\n",
      "Epoch 20, Training loss: 0.65 Validation loss: 0.62\n",
      "Epoch 21, Training loss: 0.66 Validation loss: 0.61\n",
      "Epoch 22, Training loss: 0.65 Validation loss: 0.59\n",
      "Epoch 23, Training loss: 0.67 Validation loss: 0.61\n",
      "Epoch 24, Training loss: 0.66 Validation loss: 0.56\n",
      "Epoch 25, Training loss: 0.66 Validation loss: 0.54\n",
      "Epoch 26, Training loss: 0.65 Validation loss: 0.56\n",
      "Epoch 27, Training loss: 0.65 Validation loss: 0.55\n",
      "Epoch 28, Training loss: 0.64 Validation loss: 0.53\n",
      "Epoch 29, Training loss: 0.63 Validation loss: 0.56\n",
      "Epoch 30, Training loss: 0.62 Validation loss: 0.56\n",
      "Epoch 31, Training loss: 0.62 Validation loss: 0.56\n",
      "Epoch 32, Training loss: 0.61 Validation loss: 0.57\n",
      "Epoch 33, Training loss: 0.61 Validation loss: 0.56\n",
      "Epoch 34, Training loss: 0.60 Validation loss: 0.55\n",
      "Epoch 35, Training loss: 0.60 Validation loss: 0.55\n",
      "Epoch 36, Training loss: 0.59 Validation loss: 0.52\n",
      "Epoch 37, Training loss: 0.59 Validation loss: 0.54\n",
      "Epoch 38, Training loss: 0.59 Validation loss: 0.51\n",
      "Epoch 39, Training loss: 0.66 Validation loss: 0.52\n",
      "Epoch 40, Training loss: 0.58 Validation loss: 0.50\n",
      "Epoch 41, Training loss: 0.57 Validation loss: 0.52\n",
      "Epoch 42, Training loss: 0.58 Validation loss: 0.57\n",
      "Epoch 43, Training loss: 0.57 Validation loss: 0.52\n",
      "Epoch 44, Training loss: 0.56 Validation loss: 0.49\n",
      "Epoch 45, Training loss: 0.55 Validation loss: 0.51\n",
      "Epoch 46, Training loss: 0.54 Validation loss: 0.49\n",
      "Epoch 47, Training loss: 0.54 Validation loss: 0.50\n",
      "Epoch 48, Training loss: 0.54 Validation loss: 0.49\n",
      "Epoch 49, Training loss: 0.55 Validation loss: 0.51\n",
      "Epoch 50, Training loss: 0.54 Validation loss: 0.48\n",
      "Epoch 51, Training loss: 0.56 Validation loss: 0.47\n",
      "Epoch 52, Training loss: 0.54 Validation loss: 0.49\n",
      "Epoch 53, Training loss: 0.53 Validation loss: 0.46\n",
      "Epoch 54, Training loss: 0.55 Validation loss: 0.48\n",
      "Epoch 55, Training loss: 0.54 Validation loss: 0.47\n",
      "Epoch 56, Training loss: 0.53 Validation loss: 0.48\n",
      "Epoch 57, Training loss: 0.51 Validation loss: 0.48\n",
      "Epoch 58, Training loss: 0.52 Validation loss: 0.49\n",
      "Epoch 59, Training loss: 0.53 Validation loss: 0.48\n",
      "Epoch 60, Training loss: 0.51 Validation loss: 0.47\n",
      "Epoch 61, Training loss: 0.53 Validation loss: 0.51\n",
      "Epoch 62, Training loss: 0.52 Validation loss: 0.54\n",
      "Epoch 63, Training loss: 0.50 Validation loss: 0.51\n",
      "Epoch 64, Training loss: 0.51 Validation loss: 0.51\n",
      "Epoch 65, Training loss: 0.50 Validation loss: 0.52\n",
      "Epoch 66, Training loss: 0.50 Validation loss: 0.51\n",
      "Epoch 67, Training loss: 0.50 Validation loss: 0.53\n",
      "Epoch 68, Training loss: 0.49 Validation loss: 0.52\n",
      "Epoch 69, Training loss: 0.49 Validation loss: 0.50\n",
      "Epoch 70, Training loss: 0.50 Validation loss: 0.54\n",
      "Epoch 71, Training loss: 0.50 Validation loss: 0.51\n",
      "Epoch 72, Training loss: 0.49 Validation loss: 0.48\n",
      "Epoch 73, Training loss: 0.49 Validation loss: 0.46\n",
      "Epoch 74, Training loss: 0.48 Validation loss: 0.45\n",
      "Epoch 75, Training loss: 0.48 Validation loss: 0.46\n",
      "Epoch 76, Training loss: 0.49 Validation loss: 0.48\n",
      "Epoch 77, Training loss: 0.48 Validation loss: 0.49\n",
      "Epoch 78, Training loss: 0.47 Validation loss: 0.48\n",
      "Epoch 79, Training loss: 0.48 Validation loss: 0.48\n",
      "Epoch 80, Training loss: 0.46 Validation loss: 0.48\n",
      "Epoch 81, Training loss: 0.48 Validation loss: 0.46\n",
      "Epoch 82, Training loss: 0.47 Validation loss: 0.49\n",
      "Epoch 83, Training loss: 0.46 Validation loss: 0.46\n",
      "Epoch 84, Training loss: 0.46 Validation loss: 0.45\n",
      "Epoch 85, Training loss: 0.47 Validation loss: 0.45\n",
      "Epoch 86, Training loss: 0.46 Validation loss: 0.45\n",
      "Epoch 87, Training loss: 0.46 Validation loss: 0.46\n",
      "Epoch 88, Training loss: 0.45 Validation loss: 0.45\n",
      "Epoch 89, Training loss: 0.45 Validation loss: 0.48\n",
      "Epoch 90, Training loss: 0.45 Validation loss: 0.44\n",
      "Epoch 91, Training loss: 0.44 Validation loss: 0.43\n",
      "Epoch 92, Training loss: 0.43 Validation loss: 0.43\n",
      "Epoch 93, Training loss: 0.46 Validation loss: 0.45\n",
      "Epoch 94, Training loss: 0.44 Validation loss: 0.47\n",
      "Epoch 95, Training loss: 0.44 Validation loss: 0.44\n",
      "Epoch 96, Training loss: 0.43 Validation loss: 0.42\n",
      "Epoch 97, Training loss: 0.43 Validation loss: 0.46\n",
      "Epoch 98, Training loss: 0.45 Validation loss: 0.44\n",
      "Epoch 99, Training loss: 0.44 Validation loss: 0.44\n",
      "Epoch 100, Training loss: 0.42 Validation loss: 0.44\n"
     ]
    }
   ],
   "source": [
    "model.train()\n",
    "train_losses = []\n",
    "validation_losses = []\n",
    "\n",
    "for e in range(epochs):\n",
    "    running_loss = 0\n",
    "    for smiles, labels in train_loader:\n",
    "        smiles = torch.tensor(smiles, device=device).float()\n",
    "        labels = torch.tensor(labels, device=device).float()\n",
    "        optimizer.zero_grad()\n",
    "\n",
    "        output = model(smiles)\n",
    "        loss = criterion(output, labels)\n",
    "        loss.backward()\n",
    "        torch.nn.utils.clip_grad_norm_(model.parameters(), 1)\n",
    "        optimizer.step()\n",
    "         \n",
    "        running_loss += loss.item()\n",
    "    else:      \n",
    "        model.eval()\n",
    "        validation_loss = torch.mean(( y_validation_t - model(X_validation_t) )**2).item()\n",
    "        model.train()\n",
    "         \n",
    "        lr_scheduler.step(validation_loss)\n",
    "         \n",
    "        train_loss = running_loss/len(train_loader)\n",
    "        train_losses.append(train_loss)\n",
    "        validation_losses.append(validation_loss)\n",
    "        print(\"Epoch %i, Training loss: %0.2F Validation loss: %0.2F\"%(e + 1, train_loss, validation_loss))"
   ]
  },
  {
   "cell_type": "code",
   "execution_count": 25,
   "id": "aeff9e05",
   "metadata": {
    "pycharm": {
     "name": "#%%\n"
    }
   },
   "outputs": [
    {
     "data": {
      "image/png": "[encoded data removed]",
      "text/plain": [
       "<Figure size 432x288 with 1 Axes>"
      ]
     },
     "metadata": {
      "needs_background": "light"
     },
     "output_type": "display_data"
    }
   ],
   "source": [
    "plt.plot(train_losses, label=\"Train\")\n",
    "plt.plot(validation_losses, label=\"Validation\")\n",
    "plt.legend()\n",
    "plt.show()"
   ]
  },
  {
   "cell_type": "code",
   "execution_count": 26,
   "id": "786ba4b4",
   "metadata": {
    "pycharm": {
     "name": "#%%\n"
    }
   },
   "outputs": [],
   "source": [
    "model.eval()\n",
    "y_pred_validation = model(X_validation_t)"
   ]
  },
  {
   "cell_type": "code",
   "execution_count": 27,
   "id": "aae0d9ce",
   "metadata": {
    "pycharm": {
     "name": "#%%\n"
    }
   },
   "outputs": [
    {
     "data": {
      "text/plain": [
       "0.4442553222179413"
      ]
     },
     "execution_count": 27,
     "metadata": {},
     "output_type": "execute_result"
    }
   ],
   "source": [
    "torch.mean(( y_validation_t - y_pred_validation ) ** 2).item()"
   ]
  },
  {
   "cell_type": "code",
   "execution_count": 28,
   "id": "2f516128",
   "metadata": {
    "pycharm": {
     "name": "#%%\n"
    }
   },
   "outputs": [],
   "source": [
    "X_train_t = smivec.transform(X_train, canonical=False)\n",
    "X_train_t = torch.tensor(X_train_t, device=device).float()\n",
    "y_train_t = torch.tensor(y_train, device=device).float()\n",
    "X_test_t = smivec.transform(X_test, canonical=False)\n",
    "X_test_t = torch.tensor(X_test_t, device=device).float()\n",
    "y_test_t = torch.tensor(y_test, device=device).float()"
   ]
  },
  {
   "cell_type": "code",
   "execution_count": 29,
   "id": "be2900f0",
   "metadata": {
    "pycharm": {
     "name": "#%%\n"
    }
   },
   "outputs": [
    {
     "name": "stdout",
     "output_type": "stream",
     "text": [
      "Train RMSE: 0.426\tTest RMSE: 0.383\n"
     ]
    }
   ],
   "source": [
    "y_pred_train = model(X_train_t)\n",
    "y_pred_test = model(X_test_t)\n",
    "train_rmse = torch.mean(( y_train_t - y_pred_train )**2).item()\n",
    "test_rmse = torch.mean(( y_test_t - y_pred_test )**2).item()\n",
    "print(\"Train RMSE: %0.3F\\tTest RMSE: %0.3F\"%(train_rmse, test_rmse))"
   ]
  },
  {
   "cell_type": "code",
   "execution_count": 30,
   "id": "5a8577b4",
   "metadata": {
    "pycharm": {
     "name": "#%%\n"
    }
   },
   "outputs": [],
   "source": [
    "def flatten(tensor):\n",
    "    return tensor.cpu().detach().numpy().flatten()\n",
    "\n",
    "y_true = y_test\n",
    "y_pred = flatten(y_pred_test)"
   ]
  },
  {
   "cell_type": "code",
   "execution_count": 31,
   "id": "de423754",
   "metadata": {
    "pycharm": {
     "name": "#%%\n"
    }
   },
   "outputs": [
    {
     "data": {
      "image/png": "[encoded data removed]",
      "text/plain": [
       "<Figure size 504x504 with 1 Axes>"
      ]
     },
     "metadata": {
      "needs_background": "light"
     },
     "output_type": "display_data"
    }
   ],
   "source": [
    "plt.scatter(np.array(y_pred_train.tolist()).flatten(), np.array(y_train_t.tolist()).flatten(), alpha=0.1)\n",
    "plt.scatter(np.array(y_pred_validation.tolist()).flatten(), np.array(y_validation_t.tolist()).flatten(), alpha=0.5)\n",
    "plt.plot([-1.5, 1.5], [-1.5,1.5], c=\"b\")\n",
    "plt.xlabel('Predicted', fontsize=18)\n",
    "plt.ylabel('True', fontsize=18)\n",
    "plt.axis('square')\n",
    "fig = plt.gcf()\n",
    "fig.set_size_inches(7, 7)"
   ]
  },
  {
   "cell_type": "code",
   "execution_count": 32,
   "id": "16eca267",
   "metadata": {
    "pycharm": {
     "name": "#%%\n"
    }
   },
   "outputs": [],
   "source": [
    "def assess_model(y_true, y_pred, X_train, y_train):\n",
    "\n",
    "    def calc_metrics(y_pred):\n",
    "        score1 = max_error(y_true, y_pred)\n",
    "        score2 = mean_absolute_error(y_true, y_pred)\n",
    "        score3 = mean_squared_error(y_true, y_pred)\n",
    "        score4 = explained_variance_score(y_true, y_pred)\n",
    "        score5 = r2_score(y_true, y_pred)\n",
    "        return score1,score2,score3,score4,score5\n",
    "\n",
    "    dummy1 = DummyRegressor(strategy=\"mean\")\n",
    "    dummy1.fit(X_train, y_train)\n",
    "    dummy_mean = dummy1.predict(X_test)\n",
    "\n",
    "    dummy2 = DummyRegressor(strategy=\"median\")\n",
    "    dummy2.fit(X_train, y_train)\n",
    "    dummy_median = dummy2.predict(X_test)\n",
    "\n",
    "    dummy3 = DummyRegressor(strategy=\"quantile\", quantile=0.0)\n",
    "    dummy3.fit(X_train, y_train)\n",
    "    dummy_quantile00 = dummy3.predict(X_test)\n",
    "\n",
    "    dummy4 = DummyRegressor(strategy=\"quantile\", quantile=0.5)\n",
    "    dummy4.fit(X_train, y_train)\n",
    "    dummy_quantile05 = dummy4.predict(X_test)\n",
    "\n",
    "    dummy5 = DummyRegressor(strategy=\"quantile\", quantile=1.0)\n",
    "    dummy5.fit(X_train, y_train)\n",
    "    dummy_quantile10 = dummy5.predict(X_test)\n",
    "    \n",
    "    results = [\n",
    "        calc_metrics(y_pred),\n",
    "        calc_metrics(dummy_mean),\n",
    "        calc_metrics(dummy_median),\n",
    "        calc_metrics(dummy_quantile00),\n",
    "        calc_metrics(dummy_quantile05),\n",
    "        calc_metrics(dummy_quantile10)\n",
    "    ]\n",
    "\n",
    "    df = pd.DataFrame(results).T \n",
    "\n",
    "    df.columns = ['Model', 'dummy(Mean)', 'dummy(Median)', \n",
    "                  'dummy(Min Quantile)', 'dummy(Median Quantile)', \n",
    "                  'dummy(Max Quantile)']\n",
    "\n",
    "    df = df.rename(index={0: \"max error\", 1: \"MAE\", 2: \"MSE\", 3:\"explained\", 4:\"r2\"})\n",
    "    pd.set_option('display.float_format', lambda x: '%.3f' % x)\n",
    "    df = df.T\n",
    "\n",
    "    def highlight_max(data, color='lightgreen'):\n",
    "        attr = 'background-color: {}'.format(color)\n",
    "        if data.ndim == 1:  \n",
    "            is_max = data == data.max()\n",
    "            return [attr if v else '' for v in is_max]\n",
    "\n",
    "    def highlight_min(data, color='lightgreen'):\n",
    "        attr = 'background-color: {}'.format(color)\n",
    "        if data.ndim == 1:  \n",
    "            is_min = data == data.min()\n",
    "            return [attr if v else '' for v in is_min]\n",
    "\n",
    "\n",
    "    return df.style.apply(highlight_min, subset=['max error', 'MAE', 'MSE']).\\\n",
    "             apply(highlight_max, subset=['explained', 'r2'])"
   ]
  },
  {
   "cell_type": "code",
   "execution_count": 33,
   "id": "c55906b9",
   "metadata": {
    "pycharm": {
     "name": "#%%\n"
    }
   },
   "outputs": [
    {
     "name": "stdout",
     "output_type": "stream",
     "text": [
      "\n",
      "LSTM\n",
      "epochs=600, lstm_size = 128, hidden_size=128, dropout=0.5, lr=0.003\n"
     ]
    },
    {
     "data": {
      "text/html": [
       "<style  type=\"text/css\" >\n",
       "#T_e4d30_row0_col0,#T_e4d30_row0_col1,#T_e4d30_row0_col2,#T_e4d30_row0_col3,#T_e4d30_row0_col4{\n",
       "            background-color:  lightgreen;\n",
       "        }</style><table id=\"T_e4d30_\" ><thead>    <tr>        <th class=\"blank level0\" ></th>        <th class=\"col_heading level0 col0\" >max error</th>        <th class=\"col_heading level0 col1\" >MAE</th>        <th class=\"col_heading level0 col2\" >MSE</th>        <th class=\"col_heading level0 col3\" >explained</th>        <th class=\"col_heading level0 col4\" >r2</th>    </tr></thead><tbody>\n",
       "                <tr>\n",
       "                        <th id=\"T_e4d30_level0_row0\" class=\"row_heading level0 row0\" >Model</th>\n",
       "                        <td id=\"T_e4d30_row0_col0\" class=\"data row0 col0\" >2.669370</td>\n",
       "                        <td id=\"T_e4d30_row0_col1\" class=\"data row0 col1\" >0.489112</td>\n",
       "                        <td id=\"T_e4d30_row0_col2\" class=\"data row0 col2\" >0.383240</td>\n",
       "                        <td id=\"T_e4d30_row0_col3\" class=\"data row0 col3\" >0.578705</td>\n",
       "                        <td id=\"T_e4d30_row0_col4\" class=\"data row0 col4\" >0.565545</td>\n",
       "            </tr>\n",
       "            <tr>\n",
       "                        <th id=\"T_e4d30_level0_row1\" class=\"row_heading level0 row1\" >dummy(Mean)</th>\n",
       "                        <td id=\"T_e4d30_row1_col0\" class=\"data row1 col0\" >3.923546</td>\n",
       "                        <td id=\"T_e4d30_row1_col1\" class=\"data row1 col1\" >0.741133</td>\n",
       "                        <td id=\"T_e4d30_row1_col2\" class=\"data row1 col2\" >0.883702</td>\n",
       "                        <td id=\"T_e4d30_row1_col3\" class=\"data row1 col3\" >0.000000</td>\n",
       "                        <td id=\"T_e4d30_row1_col4\" class=\"data row1 col4\" >-0.001798</td>\n",
       "            </tr>\n",
       "            <tr>\n",
       "                        <th id=\"T_e4d30_level0_row2\" class=\"row_heading level0 row2\" >dummy(Median)</th>\n",
       "                        <td id=\"T_e4d30_row2_col0\" class=\"data row2 col0\" >4.106296</td>\n",
       "                        <td id=\"T_e4d30_row2_col1\" class=\"data row2 col1\" >0.717601</td>\n",
       "                        <td id=\"T_e4d30_row2_col2\" class=\"data row2 col2\" >0.902543</td>\n",
       "                        <td id=\"T_e4d30_row2_col3\" class=\"data row2 col3\" >0.000000</td>\n",
       "                        <td id=\"T_e4d30_row2_col4\" class=\"data row2 col4\" >-0.023156</td>\n",
       "            </tr>\n",
       "            <tr>\n",
       "                        <th id=\"T_e4d30_level0_row3\" class=\"row_heading level0 row3\" >dummy(Min Quantile)</th>\n",
       "                        <td id=\"T_e4d30_row3_col0\" class=\"data row3 col0\" >6.916357</td>\n",
       "                        <td id=\"T_e4d30_row3_col1\" class=\"data row3 col1\" >2.952983</td>\n",
       "                        <td id=\"T_e4d30_row3_col2\" class=\"data row3 col2\" >9.602223</td>\n",
       "                        <td id=\"T_e4d30_row3_col3\" class=\"data row3 col3\" >-0.000000</td>\n",
       "                        <td id=\"T_e4d30_row3_col4\" class=\"data row3 col4\" >-9.885441</td>\n",
       "            </tr>\n",
       "            <tr>\n",
       "                        <th id=\"T_e4d30_level0_row4\" class=\"row_heading level0 row4\" >dummy(Median Quantile)</th>\n",
       "                        <td id=\"T_e4d30_row4_col0\" class=\"data row4 col0\" >4.106296</td>\n",
       "                        <td id=\"T_e4d30_row4_col1\" class=\"data row4 col1\" >0.717601</td>\n",
       "                        <td id=\"T_e4d30_row4_col2\" class=\"data row4 col2\" >0.902543</td>\n",
       "                        <td id=\"T_e4d30_row4_col3\" class=\"data row4 col3\" >0.000000</td>\n",
       "                        <td id=\"T_e4d30_row4_col4\" class=\"data row4 col4\" >-0.023156</td>\n",
       "            </tr>\n",
       "            <tr>\n",
       "                        <th id=\"T_e4d30_level0_row5\" class=\"row_heading level0 row5\" >dummy(Max Quantile)</th>\n",
       "                        <td id=\"T_e4d30_row5_col0\" class=\"data row5 col0\" >9.860083</td>\n",
       "                        <td id=\"T_e4d30_row5_col1\" class=\"data row5 col1\" >7.978488</td>\n",
       "                        <td id=\"T_e4d30_row5_col2\" class=\"data row5 col2\" >64.538393</td>\n",
       "                        <td id=\"T_e4d30_row5_col3\" class=\"data row5 col3\" >0.000000</td>\n",
       "                        <td id=\"T_e4d30_row5_col4\" class=\"data row5 col4\" >-72.163151</td>\n",
       "            </tr>\n",
       "    </tbody></table>"
      ],
      "text/plain": [
       "<pandas.io.formats.style.Styler at 0x148922eea88>"
      ]
     },
     "execution_count": 33,
     "metadata": {},
     "output_type": "execute_result"
    }
   ],
   "source": [
    "print(\"\\n\"+\"LSTM\")\n",
    "print(\"epochs=600, lstm_size = 128, hidden_size=128, dropout=0.5, lr=0.003\")\n",
    "assess_model(y_true, y_pred, X_train, y_train)"
   ]
  },
  {
   "cell_type": "markdown",
   "source": [
    "# Again, the model outperforms any dummy model.\n",
    "# In addition, LSTM gives a bit more accurate predictions than the feedforward neural network with descriptors."
   ],
   "metadata": {
    "collapsed": false,
    "pycharm": {
     "name": "#%% md\n"
    }
   }
  }
 ],
 "metadata": {
  "kernelspec": {
   "display_name": "Python 3.8.8 ('base')",
   "language": "python",
   "name": "python3"
  },
  "language_info": {
   "codemirror_mode": {
    "name": "ipython",
    "version": 3
   },
   "file_extension": ".py",
   "mimetype": "text/x-python",
   "name": "python",
   "nbconvert_exporter": "python",
   "pygments_lexer": "ipython3",
   "version": "3.8.8"
  },
  "vscode": {
   "interpreter": {
    "hash": "f8b224611d42a3ae487a9cb1341da43f84e2a6cb9140c3fbcf64110fe3528075"
   }
  }
 },
 "nbformat": 4,
 "nbformat_minor": 5
}