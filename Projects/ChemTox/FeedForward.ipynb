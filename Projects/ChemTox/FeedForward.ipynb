{
 "cells": [
  {
   "cell_type": "markdown",
   "metadata": {
    "pycharm": {
     "name": "#%% md\n"
    }
   },
   "source": [
    "# Morgan Fingerprint + Feedforward Neural Network"
   ]
  },
  {
   "cell_type": "code",
   "execution_count": 2,
   "metadata": {
    "pycharm": {
     "name": "#%%\n"
    }
   },
   "outputs": [],
   "source": [
    "import matplotlib.pyplot as plt\n",
    "from sklearn.preprocessing import StandardScaler\n",
    "from sklearn.model_selection import train_test_split\n",
    "from sklearn.feature_selection import VarianceThreshold\n",
    "import numpy as np\n",
    "from tdc.single_pred import Tox\n",
    "from rdkit import Chem, DataStructs\n",
    "from rdkit.Chem import AllChem, Descriptors, rdMolDescriptors, PandasTools\n",
    "import pandas as pd\n",
    "from sklearn.dummy import DummyRegressor\n",
    "from sklearn.metrics import explained_variance_score, max_error, \\\n",
    "                     mean_absolute_error, mean_squared_error, r2_score"
   ]
  },
  {
   "cell_type": "code",
   "execution_count": 3,
   "metadata": {
    "pycharm": {
     "name": "#%%\n"
    }
   },
   "outputs": [
    {
     "name": "stderr",
     "output_type": "stream",
     "text": [
      "Found local copy...\n",
      "Loading...\n",
      "Done!\n"
     ]
    }
   ],
   "source": [
    "data = Tox(name='LD50_Zhu').get_data()"
   ]
  },
  {
   "cell_type": "code",
   "execution_count": 4,
   "metadata": {
    "pycharm": {
     "name": "#%%\n"
    }
   },
   "outputs": [
    {
     "data": {
      "text/html": [
       "<div>\n",
       "<style scoped>\n",
       "    .dataframe tbody tr th:only-of-type {\n",
       "        vertical-align: middle;\n",
       "    }\n",
       "\n",
       "    .dataframe tbody tr th {\n",
       "        vertical-align: top;\n",
       "    }\n",
       "\n",
       "    .dataframe thead th {\n",
       "        text-align: right;\n",
       "    }\n",
       "</style>\n",
       "<table border=\"1\" class=\"dataframe\">\n",
       "  <thead>\n",
       "    <tr style=\"text-align: right;\">\n",
       "      <th></th>\n",
       "      <th>Drug_ID</th>\n",
       "      <th>Drug</th>\n",
       "      <th>Y</th>\n",
       "    </tr>\n",
       "  </thead>\n",
       "  <tbody>\n",
       "    <tr>\n",
       "      <th>0</th>\n",
       "      <td>Diazene, diphenyl-, 1-oxide</td>\n",
       "      <td>[O-][N+](=Nc1ccccc1)c1ccccc1</td>\n",
       "      <td>2.505</td>\n",
       "    </tr>\n",
       "    <tr>\n",
       "      <th>1</th>\n",
       "      <td>Methane, tribromo-</td>\n",
       "      <td>BrC(Br)Br</td>\n",
       "      <td>2.343</td>\n",
       "    </tr>\n",
       "    <tr>\n",
       "      <th>2</th>\n",
       "      <td>Bromoethene (9CI)</td>\n",
       "      <td>C=CBr</td>\n",
       "      <td>2.330</td>\n",
       "    </tr>\n",
       "    <tr>\n",
       "      <th>3</th>\n",
       "      <td>1,1'-Biphenyl, hexabromo-</td>\n",
       "      <td>Brc1ccc(-c2ccc(Br)c(Br)c2Br)c(Br)c1Br</td>\n",
       "      <td>1.465</td>\n",
       "    </tr>\n",
       "    <tr>\n",
       "      <th>4</th>\n",
       "      <td>Isothiocyanic acid, p-bromophenyl ester</td>\n",
       "      <td>S=C=Nc1ccc(Br)cc1</td>\n",
       "      <td>2.729</td>\n",
       "    </tr>\n",
       "    <tr>\n",
       "      <th>...</th>\n",
       "      <td>...</td>\n",
       "      <td>...</td>\n",
       "      <td>...</td>\n",
       "    </tr>\n",
       "    <tr>\n",
       "      <th>7380</th>\n",
       "      <td>Isocyanic acid, (alpha,alpha,alpha-trifluoro-o...</td>\n",
       "      <td>O=C=Nc1ccccc1C(F)(F)F</td>\n",
       "      <td>1.427</td>\n",
       "    </tr>\n",
       "    <tr>\n",
       "      <th>7381</th>\n",
       "      <td>1,3-Benzenediamine, 4-(1,1,2,2-tetrafluoroetho...</td>\n",
       "      <td>Nc1ccc(OC(F)(F)C(F)F)c(N)c1</td>\n",
       "      <td>2.321</td>\n",
       "    </tr>\n",
       "    <tr>\n",
       "      <th>7382</th>\n",
       "      <td>Propanenitrile, 3-((2-(acetyloxy)ethyl)phenyla...</td>\n",
       "      <td>CC(=O)OCCN(CCC#N)c1ccccc1</td>\n",
       "      <td>2.050</td>\n",
       "    </tr>\n",
       "    <tr>\n",
       "      <th>7383</th>\n",
       "      <td>IH-Indene-1,3(2H)-dione, 2-(2-methyl-1-(2-(1-p...</td>\n",
       "      <td>CC1=CC(=C2C(=O)c3ccccc3C2=O)C=CN1CCN1CCCCC1</td>\n",
       "      <td>2.951</td>\n",
       "    </tr>\n",
       "    <tr>\n",
       "      <th>7384</th>\n",
       "      <td>1-Propanone, 1-(2,4,6-trihydroxyphenyl)-</td>\n",
       "      <td>CCC(=O)c1c(O)cc(O)cc1O</td>\n",
       "      <td>1.884</td>\n",
       "    </tr>\n",
       "  </tbody>\n",
       "</table>\n",
       "<p>7385 rows × 3 columns</p>\n",
       "</div>"
      ],
      "text/plain": [
       "                                                Drug_ID  \\\n",
       "0                           Diazene, diphenyl-, 1-oxide   \n",
       "1                                    Methane, tribromo-   \n",
       "2                                     Bromoethene (9CI)   \n",
       "3                             1,1'-Biphenyl, hexabromo-   \n",
       "4               Isothiocyanic acid, p-bromophenyl ester   \n",
       "...                                                 ...   \n",
       "7380  Isocyanic acid, (alpha,alpha,alpha-trifluoro-o...   \n",
       "7381  1,3-Benzenediamine, 4-(1,1,2,2-tetrafluoroetho...   \n",
       "7382  Propanenitrile, 3-((2-(acetyloxy)ethyl)phenyla...   \n",
       "7383  IH-Indene-1,3(2H)-dione, 2-(2-methyl-1-(2-(1-p...   \n",
       "7384           1-Propanone, 1-(2,4,6-trihydroxyphenyl)-   \n",
       "\n",
       "                                             Drug      Y  \n",
       "0                    [O-][N+](=Nc1ccccc1)c1ccccc1  2.505  \n",
       "1                                       BrC(Br)Br  2.343  \n",
       "2                                           C=CBr  2.330  \n",
       "3           Brc1ccc(-c2ccc(Br)c(Br)c2Br)c(Br)c1Br  1.465  \n",
       "4                               S=C=Nc1ccc(Br)cc1  2.729  \n",
       "...                                           ...    ...  \n",
       "7380                        O=C=Nc1ccccc1C(F)(F)F  1.427  \n",
       "7381                  Nc1ccc(OC(F)(F)C(F)F)c(N)c1  2.321  \n",
       "7382                    CC(=O)OCCN(CCC#N)c1ccccc1  2.050  \n",
       "7383  CC1=CC(=C2C(=O)c3ccccc3C2=O)C=CN1CCN1CCCCC1  2.951  \n",
       "7384                       CCC(=O)c1c(O)cc(O)cc1O  1.884  \n",
       "\n",
       "[7385 rows x 3 columns]"
      ]
     },
     "execution_count": 4,
     "metadata": {},
     "output_type": "execute_result"
    }
   ],
   "source": [
    "data"
   ]
  },
  {
   "cell_type": "code",
   "execution_count": 5,
   "metadata": {
    "pycharm": {
     "name": "#%%\n"
    }
   },
   "outputs": [
    {
     "name": "stdout",
     "output_type": "stream",
     "text": [
      "Smiles loaded\n"
     ]
    }
   ],
   "source": [
    "PandasTools.AddMoleculeColumnToFrame(data,'Drug','Molecule')\n",
    "if data.Molecule.isna().sum()==0:\n",
    "    print('Smiles loaded')"
   ]
  },
  {
   "cell_type": "code",
   "execution_count": 6,
   "metadata": {
    "pycharm": {
     "name": "#%%\n"
    }
   },
   "outputs": [
    {
     "data": {
      "text/html": [
       "<div>\n",
       "<style scoped>\n",
       "    .dataframe tbody tr th:only-of-type {\n",
       "        vertical-align: middle;\n",
       "    }\n",
       "\n",
       "    .dataframe tbody tr th {\n",
       "        vertical-align: top;\n",
       "    }\n",
       "\n",
       "    .dataframe thead th {\n",
       "        text-align: right;\n",
       "    }\n",
       "</style>\n",
       "<table border=\"1\" class=\"dataframe\">\n",
       "  <thead>\n",
       "    <tr style=\"text-align: right;\">\n",
       "      <th></th>\n",
       "      <th>Drug_ID</th>\n",
       "      <th>Drug</th>\n",
       "      <th>Y</th>\n",
       "      <th>Molecule</th>\n",
       "    </tr>\n",
       "  </thead>\n",
       "  <tbody>\n",
       "    <tr>\n",
       "      <th>25</th>\n",
       "      <td>2-Propenamide, N,N'-methylenebis-</td>\n",
       "      <td>C=CC(=O)NCNC(=O)C=C</td>\n",
       "      <td>2.597</td>\n",
       "      <td><img data-content=\"rdkit/molecule\" src=\"data:image/png;base64,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\" alt=\"Mol\"/></td>\n",
       "    </tr>\n",
       "  </tbody>\n",
       "</table>\n",
       "</div>"
      ],
      "text/plain": [
       "                              Drug_ID                 Drug      Y  \\\n",
       "25  2-Propenamide, N,N'-methylenebis-  C=CC(=O)NCNC(=O)C=C  2.597   \n",
       "\n",
       "                                             Molecule  \n",
       "25  <img data-content=\"rdkit/molecule\" src=\"data:i...  "
      ]
     },
     "execution_count": 6,
     "metadata": {},
     "output_type": "execute_result"
    }
   ],
   "source": [
    "data.sample(1)"
   ]
  },
  {
   "cell_type": "code",
   "execution_count": 7,
   "metadata": {
    "pycharm": {
     "name": "#%%\n"
    }
   },
   "outputs": [],
   "source": [
    "# this function makes transform SMILES -> Morgan Fingerprint\n",
    "def morgan_fp_old_unused(mol):\n",
    "    fp = AllChem.GetHashedMorganFingerprint(mol, 2, nBits=4096)\n",
    "    ar = np.zeros((1,), dtype=np.int8)\n",
    "    DataStructs.ConvertToNumpyArray(fp, ar)\n",
    "    return ar"
   ]
  },
  {
   "cell_type": "code",
   "execution_count": 8,
   "metadata": {
    "pycharm": {
     "name": "#%%\n"
    }
   },
   "outputs": [],
   "source": [
    "# this function makes transform SMILES -> Morgan Fingerprint + Descriptors\n",
    "def morgan_fp(mol):\n",
    "    fp = AllChem.GetHashedMorganFingerprint(mol, 2, nBits=4096)\n",
    "    ar = np.zeros((1,), dtype=np.int8)\n",
    "    DataStructs.ConvertToNumpyArray(fp, ar)\n",
    "\n",
    "    d = [\n",
    "        # add other descriptors if necessary\n",
    "        # https://www.rdkit.org/docs/source/rdkit.Chem.rdMolDescriptors.html\n",
    "        Descriptors.MolLogP(mol),\n",
    "        Descriptors.MolMR(mol), \n",
    "        Descriptors.MolWt(mol),\n",
    "        Descriptors.ExactMolWt(mol),\n",
    "        Descriptors.BalabanJ(mol), \n",
    "        Descriptors.NumHAcceptors(mol),\n",
    "        Descriptors.NumHDonors(mol),\n",
    "        Descriptors.NumValenceElectrons(mol),\n",
    "        Descriptors.HeavyAtomCount(mol),\n",
    "        Descriptors.HeavyAtomMolWt(mol),\n",
    "        Descriptors.TPSA(mol),\n",
    "        Descriptors.FpDensityMorgan1(mol),\n",
    "        Descriptors.FpDensityMorgan2(mol),\n",
    "        Descriptors.FpDensityMorgan3(mol),\n",
    "        Descriptors.MaxAbsPartialCharge(mol),\n",
    "        Descriptors.MaxPartialCharge(mol),\n",
    "        Descriptors.MinAbsPartialCharge(mol),\n",
    "        Descriptors.MinPartialCharge(mol),\n",
    "        Descriptors.NumRadicalElectrons(mol),\n",
    "        Descriptors.NumValenceElectrons(mol),\n",
    "        rdMolDescriptors.CalcChi0n(mol),\n",
    "        rdMolDescriptors.CalcChi0v(mol),\n",
    "        rdMolDescriptors.CalcChi1n(mol),\n",
    "        rdMolDescriptors.CalcChi1v(mol),\n",
    "        rdMolDescriptors.CalcChi2n(mol),\n",
    "        rdMolDescriptors.CalcChi2v(mol),\n",
    "        rdMolDescriptors.CalcChi3n(mol),\n",
    "        rdMolDescriptors.CalcChi3v(mol),\n",
    "        rdMolDescriptors.CalcChi4n(mol),\n",
    "        rdMolDescriptors.CalcChi4v(mol),\n",
    "        rdMolDescriptors.CalcKappa1(mol),\n",
    "        rdMolDescriptors.CalcKappa2(mol),\n",
    "        rdMolDescriptors.CalcKappa3(mol),\n",
    "        rdMolDescriptors.CalcLabuteASA(mol)\n",
    "        ]\n",
    "    \n",
    "    ar2 = np.array(d)\n",
    "    \n",
    "    return np.concatenate((ar, ar2))"
   ]
  },
  {
   "cell_type": "code",
   "execution_count": 9,
   "metadata": {
    "pycharm": {
     "name": "#%%\n"
    }
   },
   "outputs": [],
   "source": [
    "data[\"Morgan_FP\"] = data.Molecule.apply(morgan_fp)"
   ]
  },
  {
   "cell_type": "code",
   "execution_count": 10,
   "metadata": {
    "pycharm": {
     "name": "#%%\n"
    }
   },
   "outputs": [
    {
     "data": {
      "text/html": [
       "<div>\n",
       "<style scoped>\n",
       "    .dataframe tbody tr th:only-of-type {\n",
       "        vertical-align: middle;\n",
       "    }\n",
       "\n",
       "    .dataframe tbody tr th {\n",
       "        vertical-align: top;\n",
       "    }\n",
       "\n",
       "    .dataframe thead th {\n",
       "        text-align: right;\n",
       "    }\n",
       "</style>\n",
       "<table border=\"1\" class=\"dataframe\">\n",
       "  <thead>\n",
       "    <tr style=\"text-align: right;\">\n",
       "      <th></th>\n",
       "      <th>Drug_ID</th>\n",
       "      <th>Drug</th>\n",
       "      <th>Y</th>\n",
       "      <th>Molecule</th>\n",
       "      <th>Morgan_FP</th>\n",
       "    </tr>\n",
       "  </thead>\n",
       "  <tbody>\n",
       "    <tr>\n",
       "      <th>6476</th>\n",
       "      <td>Pyrimidine, 1,4,5,6-tetrahydro-1-methyl-2-(2-(...</td>\n",
       "      <td>CN1CCCN=C1C=Cc1cccs1</td>\n",
       "      <td>3.084</td>\n",
       "      <td><img data-content=\"rdkit/molecule\" src=\"data:image/png;base64,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\" alt=\"Mol\"/></td>\n",
       "      <td>[0.0, 0.0, 0.0, 0.0, 0.0, 0.0, 0.0, 0.0, 0.0, ...</td>\n",
       "    </tr>\n",
       "  </tbody>\n",
       "</table>\n",
       "</div>"
      ],
      "text/plain": [
       "                                                Drug_ID                  Drug  \\\n",
       "6476  Pyrimidine, 1,4,5,6-tetrahydro-1-methyl-2-(2-(...  CN1CCCN=C1C=Cc1cccs1   \n",
       "\n",
       "          Y                                           Molecule  \\\n",
       "6476  3.084  <img data-content=\"rdkit/molecule\" src=\"data:i...   \n",
       "\n",
       "                                              Morgan_FP  \n",
       "6476  [0.0, 0.0, 0.0, 0.0, 0.0, 0.0, 0.0, 0.0, 0.0, ...  "
      ]
     },
     "execution_count": 10,
     "metadata": {},
     "output_type": "execute_result"
    }
   ],
   "source": [
    "data.sample(1)"
   ]
  },
  {
   "cell_type": "code",
   "execution_count": 11,
   "metadata": {
    "pycharm": {
     "name": "#%%\n"
    }
   },
   "outputs": [
    {
     "name": "stdout",
     "output_type": "stream",
     "text": [
      "(7385, 4130)\n"
     ]
    }
   ],
   "source": [
    "X = np.stack(data.Morgan_FP.values)\n",
    "print(X.shape)"
   ]
  },
  {
   "cell_type": "code",
   "execution_count": 12,
   "metadata": {
    "pycharm": {
     "name": "#%%\n"
    }
   },
   "outputs": [],
   "source": [
    "y = data.Y.values.reshape((-1,1))\n",
    "X_train, X_test, y_train, y_test = train_test_split(X, y,  test_size=0.10, random_state=42)\n",
    "X_train, X_validation, y_train, y_validation = train_test_split(X_train, y_train, test_size=0.05, random_state=42)"
   ]
  },
  {
   "cell_type": "code",
   "execution_count": 13,
   "metadata": {
    "pycharm": {
     "name": "#%%\n"
    }
   },
   "outputs": [],
   "source": [
    "# Normalizing output using standard scaling\n",
    "scaler = StandardScaler()\n",
    "y_train = scaler.fit_transform(y_train)\n",
    "y_test = scaler.transform(y_test)\n",
    "y_validation = scaler.transform(y_validation)"
   ]
  },
  {
   "cell_type": "code",
   "execution_count": 14,
   "metadata": {
    "pycharm": {
     "name": "#%%\n"
    }
   },
   "outputs": [
    {
     "data": {
      "text/plain": [
       "(6313, 191)"
      ]
     },
     "execution_count": 14,
     "metadata": {},
     "output_type": "execute_result"
    }
   ],
   "source": [
    "feature_select = VarianceThreshold(threshold=0.05)\n",
    "X_train = feature_select.fit_transform(X_train)\n",
    "X_validation = feature_select.transform(X_validation)\n",
    "X_test = feature_select.transform(X_test)\n",
    "X_train.shape"
   ]
  },
  {
   "cell_type": "code",
   "execution_count": 15,
   "metadata": {
    "pycharm": {
     "name": "#%%\n"
    }
   },
   "outputs": [
    {
     "name": "stdout",
     "output_type": "stream",
     "text": [
      "cpu\n"
     ]
    },
    {
     "data": {
      "text/plain": [
       "tensor([[  0.0000,   0.0000,   0.0000,  ...,   5.6214,   1.8404, 195.7904],\n",
       "        [  0.0000,   0.0000,   0.0000,  ...,   3.1069,   1.2095,  60.3884],\n",
       "        [  0.0000,   0.0000,   0.0000,  ...,   5.6099,   2.4171, 153.8326],\n",
       "        ...,\n",
       "        [  0.0000,   0.0000,   0.0000,  ...,   2.9260,   1.9497,  65.7475],\n",
       "        [  0.0000,   0.0000,   0.0000,  ...,   5.3904,   3.2736,  90.4460],\n",
       "        [  0.0000,   0.0000,   0.0000,  ...,   4.1709,   1.8603,  88.9605]])"
      ]
     },
     "execution_count": 15,
     "metadata": {},
     "output_type": "execute_result"
    }
   ],
   "source": [
    "import torch\n",
    "import torch.nn as nn\n",
    "\n",
    "device = torch.device(\"cuda:0\" if torch.cuda.is_available() else \"cpu\")\n",
    "print(device)\n",
    "\n",
    "X_train = torch.tensor(X_train, device=device).float()\n",
    "X_test = torch.tensor(X_test, device=device).float()\n",
    "X_validation = torch.tensor(X_validation, device=device).float()\n",
    "y_train = torch.tensor(y_train, device=device).float()\n",
    "y_test = torch.tensor(y_test, device=device).float()\n",
    "y_validation = torch.tensor(y_validation, device=device).float()\n",
    "X_train"
   ]
  },
  {
   "cell_type": "code",
   "execution_count": 16,
   "metadata": {
    "pycharm": {
     "name": "#%%\n"
    }
   },
   "outputs": [
    {
     "data": {
      "text/plain": [
       "torch.Size([6313, 191])"
      ]
     },
     "execution_count": 16,
     "metadata": {},
     "output_type": "execute_result"
    }
   ],
   "source": [
    "X_train.shape"
   ]
  },
  {
   "cell_type": "markdown",
   "metadata": {
    "pycharm": {
     "name": "#%% md\n"
    }
   },
   "source": [
    "### Model's Hyperparameters"
   ]
  },
  {
   "cell_type": "code",
   "execution_count": 1,
   "metadata": {
    "pycharm": {
     "name": "#%%\n"
    }
   },
   "outputs": [],
   "source": [
    "hidden_size = 512\n",
    "dropout_rate = 0.7\n",
    "learning_rate = 0.001\n",
    "epochs = 200\n",
    "batch_size=256"
   ]
  },
  {
   "cell_type": "code",
   "execution_count": 17,
   "metadata": {
    "pycharm": {
     "name": "#%%\n"
    }
   },
   "outputs": [],
   "source": [
    "from torch.utils.data import TensorDataset\n",
    "\n",
    "train_dataset = TensorDataset(X_train, y_train)\n",
    "validation_dataset = TensorDataset(X_validation, y_validation)\n",
    "\n",
    "train_loader = torch.utils.data.DataLoader(dataset=train_dataset,\n",
    "                                          batch_size=batch_size,\n",
    "                                          shuffle=True)\n",
    "validation_loader = torch.utils.data.DataLoader(dataset=validation_dataset,\n",
    "                                          batch_size=batch_size,\n",
    "                                          shuffle=False)"
   ]
  },
  {
   "cell_type": "code",
   "execution_count": 18,
   "metadata": {
    "pycharm": {
     "name": "#%%\n"
    }
   },
   "outputs": [],
   "source": [
    "class Net(nn.Module):\n",
    "    def __init__(self, input_size, hidden_size, dropout_rate, out_size=1):\n",
    "        super(Net, self).__init__()\n",
    "\n",
    "        self.fc1 = nn.Linear(input_size, hidden_size)\n",
    "        self.fc2 = nn.Linear(hidden_size, hidden_size)\n",
    "        self.fc3 = nn.Linear(hidden_size, hidden_size)\n",
    "        self.fc_out = nn.Linear(hidden_size, out_size)\n",
    "\n",
    "        self.ln1 = nn.LayerNorm(hidden_size)\n",
    "        self.ln2 = nn.LayerNorm(hidden_size)\n",
    "        self.ln3 = nn.LayerNorm(hidden_size) \n",
    "        \n",
    "        self.activation = nn.LeakyReLU()\n",
    "        self.dropout = nn.Dropout(dropout_rate)\n",
    "     \n",
    "    def forward(self, x):\n",
    "        out = self.fc1(x)\n",
    "        out = self.ln1(out)\n",
    "        out = self.activation(out)\n",
    "        out = self.dropout(out)\n",
    "        out = self.fc2(out)\n",
    "        out = self.ln2(out)\n",
    "        out = self.activation(out)\n",
    "        out = self.dropout(out)\n",
    "        out = self.fc3(out)\n",
    "        out = self.ln3(out)\n",
    "        out = self.activation(out)\n",
    "        out = self.dropout(out)\n",
    "        out = self.fc_out(out)\n",
    "        return out"
   ]
  },
  {
   "cell_type": "code",
   "execution_count": 19,
   "metadata": {
    "pycharm": {
     "name": "#%%\n"
    }
   },
   "outputs": [],
   "source": [
    "input_size = X_train.size()[-1]\n",
    "model = Net(input_size, hidden_size, dropout_rate)"
   ]
  },
  {
   "cell_type": "code",
   "execution_count": 20,
   "metadata": {
    "pycharm": {
     "name": "#%%\n"
    }
   },
   "outputs": [
    {
     "data": {
      "text/plain": [
       "Net(\n",
       "  (fc1): Linear(in_features=191, out_features=512, bias=True)\n",
       "  (fc2): Linear(in_features=512, out_features=512, bias=True)\n",
       "  (fc3): Linear(in_features=512, out_features=512, bias=True)\n",
       "  (fc_out): Linear(in_features=512, out_features=1, bias=True)\n",
       "  (ln1): LayerNorm((512,), eps=1e-05, elementwise_affine=True)\n",
       "  (ln2): LayerNorm((512,), eps=1e-05, elementwise_affine=True)\n",
       "  (ln3): LayerNorm((512,), eps=1e-05, elementwise_affine=True)\n",
       "  (activation): LeakyReLU(negative_slope=0.01)\n",
       "  (dropout): Dropout(p=0.7, inplace=False)\n",
       ")"
      ]
     },
     "execution_count": 20,
     "metadata": {},
     "output_type": "execute_result"
    }
   ],
   "source": [
    "#model.cuda()\n",
    "model"
   ]
  },
  {
   "cell_type": "code",
   "execution_count": 21,
   "metadata": {
    "pycharm": {
     "name": "#%%\n"
    }
   },
   "outputs": [],
   "source": [
    "criterion = nn.MSELoss()\n",
    "optimizer = torch.optim.Adam(model.parameters(), lr=learning_rate)"
   ]
  },
  {
   "cell_type": "code",
   "execution_count": 22,
   "metadata": {
    "scrolled": true,
    "pycharm": {
     "name": "#%%\n"
    }
   },
   "outputs": [
    {
     "name": "stdout",
     "output_type": "stream",
     "text": [
      "Epoch:   0 Training loss: 1.24 Validation loss: 1.00\n",
      "Epoch:   1 Training loss: 1.03 Validation loss: 0.95\n",
      "Epoch:   2 Training loss: 1.00 Validation loss: 0.96\n",
      "Epoch:   3 Training loss: 1.01 Validation loss: 0.96\n",
      "Epoch:   4 Training loss: 0.97 Validation loss: 0.86\n",
      "Epoch:   5 Training loss: 0.91 Validation loss: 0.85\n",
      "Epoch:   6 Training loss: 0.84 Validation loss: 0.81\n",
      "Epoch:   7 Training loss: 0.82 Validation loss: 0.76\n",
      "Epoch:   8 Training loss: 0.81 Validation loss: 0.76\n",
      "Epoch:   9 Training loss: 0.78 Validation loss: 0.76\n",
      "Epoch:  10 Training loss: 0.77 Validation loss: 0.79\n",
      "Epoch:  11 Training loss: 0.77 Validation loss: 0.71\n",
      "Epoch:  12 Training loss: 0.76 Validation loss: 0.75\n",
      "Epoch:  13 Training loss: 0.75 Validation loss: 0.68\n",
      "Epoch:  14 Training loss: 0.75 Validation loss: 0.73\n",
      "Epoch:  15 Training loss: 0.72 Validation loss: 0.72\n",
      "Epoch:  16 Training loss: 0.74 Validation loss: 0.65\n",
      "Epoch:  17 Training loss: 0.72 Validation loss: 0.70\n",
      "Epoch:  18 Training loss: 0.71 Validation loss: 0.70\n",
      "Epoch:  19 Training loss: 0.71 Validation loss: 0.64\n",
      "Epoch:  20 Training loss: 0.69 Validation loss: 0.65\n",
      "Epoch:  21 Training loss: 0.70 Validation loss: 0.67\n",
      "Epoch:  22 Training loss: 0.69 Validation loss: 0.68\n",
      "Epoch:  23 Training loss: 0.69 Validation loss: 0.68\n",
      "Epoch:  24 Training loss: 0.70 Validation loss: 0.71\n",
      "Epoch:  25 Training loss: 0.68 Validation loss: 0.63\n",
      "Epoch:  26 Training loss: 0.68 Validation loss: 0.66\n",
      "Epoch:  27 Training loss: 0.68 Validation loss: 0.64\n",
      "Epoch:  28 Training loss: 0.67 Validation loss: 0.64\n",
      "Epoch:  29 Training loss: 0.67 Validation loss: 0.68\n",
      "Epoch:  30 Training loss: 0.67 Validation loss: 0.64\n",
      "Epoch:  31 Training loss: 0.66 Validation loss: 0.63\n",
      "Epoch:  32 Training loss: 0.65 Validation loss: 0.62\n",
      "Epoch:  33 Training loss: 0.67 Validation loss: 0.65\n",
      "Epoch:  34 Training loss: 0.65 Validation loss: 0.68\n",
      "Epoch:  35 Training loss: 0.66 Validation loss: 0.59\n",
      "Epoch:  36 Training loss: 0.64 Validation loss: 0.65\n",
      "Epoch:  37 Training loss: 0.65 Validation loss: 0.65\n",
      "Epoch:  38 Training loss: 0.66 Validation loss: 0.70\n",
      "Epoch:  39 Training loss: 0.64 Validation loss: 0.62\n",
      "Epoch:  40 Training loss: 0.66 Validation loss: 0.64\n",
      "Epoch:  41 Training loss: 0.65 Validation loss: 0.63\n",
      "Epoch:  42 Training loss: 0.64 Validation loss: 0.63\n",
      "Epoch:  43 Training loss: 0.63 Validation loss: 0.62\n",
      "Epoch:  44 Training loss: 0.64 Validation loss: 0.58\n",
      "Epoch:  45 Training loss: 0.64 Validation loss: 0.60\n",
      "Epoch:  46 Training loss: 0.63 Validation loss: 0.62\n",
      "Epoch:  47 Training loss: 0.64 Validation loss: 0.63\n",
      "Epoch:  48 Training loss: 0.63 Validation loss: 0.66\n",
      "Epoch:  49 Training loss: 0.63 Validation loss: 0.60\n",
      "Epoch:  50 Training loss: 0.62 Validation loss: 0.61\n",
      "Epoch:  51 Training loss: 0.62 Validation loss: 0.61\n",
      "Epoch:  52 Training loss: 0.61 Validation loss: 0.62\n",
      "Epoch:  53 Training loss: 0.61 Validation loss: 0.63\n",
      "Epoch:  54 Training loss: 0.63 Validation loss: 0.57\n",
      "Epoch:  55 Training loss: 0.62 Validation loss: 0.62\n",
      "Epoch:  56 Training loss: 0.62 Validation loss: 0.63\n",
      "Epoch:  57 Training loss: 0.61 Validation loss: 0.55\n",
      "Epoch:  58 Training loss: 0.62 Validation loss: 0.61\n",
      "Epoch:  59 Training loss: 0.62 Validation loss: 0.67\n",
      "Epoch:  60 Training loss: 0.61 Validation loss: 0.61\n",
      "Epoch:  61 Training loss: 0.61 Validation loss: 0.55\n",
      "Epoch:  62 Training loss: 0.61 Validation loss: 0.59\n",
      "Epoch:  63 Training loss: 0.60 Validation loss: 0.60\n",
      "Epoch:  64 Training loss: 0.60 Validation loss: 0.59\n",
      "Epoch:  65 Training loss: 0.60 Validation loss: 0.54\n",
      "Epoch:  66 Training loss: 0.59 Validation loss: 0.61\n",
      "Epoch:  67 Training loss: 0.59 Validation loss: 0.59\n",
      "Epoch:  68 Training loss: 0.62 Validation loss: 0.65\n",
      "Epoch:  69 Training loss: 0.59 Validation loss: 0.58\n",
      "Epoch:  70 Training loss: 0.61 Validation loss: 0.58\n",
      "Epoch:  71 Training loss: 0.60 Validation loss: 0.58\n",
      "Epoch:  72 Training loss: 0.60 Validation loss: 0.56\n",
      "Epoch:  73 Training loss: 0.60 Validation loss: 0.57\n",
      "Epoch:  74 Training loss: 0.60 Validation loss: 0.57\n",
      "Epoch:  75 Training loss: 0.58 Validation loss: 0.63\n",
      "Epoch:  76 Training loss: 0.61 Validation loss: 0.56\n",
      "Epoch:  77 Training loss: 0.60 Validation loss: 0.57\n",
      "Epoch:  78 Training loss: 0.58 Validation loss: 0.60\n",
      "Epoch:  79 Training loss: 0.59 Validation loss: 0.62\n",
      "Epoch:  80 Training loss: 0.60 Validation loss: 0.53\n",
      "Epoch:  81 Training loss: 0.58 Validation loss: 0.53\n",
      "Epoch:  82 Training loss: 0.59 Validation loss: 0.58\n",
      "Epoch:  83 Training loss: 0.59 Validation loss: 0.59\n",
      "Epoch:  84 Training loss: 0.57 Validation loss: 0.57\n",
      "Epoch:  85 Training loss: 0.58 Validation loss: 0.60\n",
      "Epoch:  86 Training loss: 0.58 Validation loss: 0.60\n",
      "Epoch:  87 Training loss: 0.58 Validation loss: 0.54\n",
      "Epoch:  88 Training loss: 0.58 Validation loss: 0.62\n",
      "Epoch:  89 Training loss: 0.58 Validation loss: 0.57\n",
      "Epoch:  90 Training loss: 0.57 Validation loss: 0.57\n",
      "Epoch:  91 Training loss: 0.58 Validation loss: 0.58\n",
      "Epoch:  92 Training loss: 0.56 Validation loss: 0.58\n",
      "Epoch:  93 Training loss: 0.57 Validation loss: 0.56\n",
      "Epoch:  94 Training loss: 0.58 Validation loss: 0.53\n",
      "Epoch:  95 Training loss: 0.58 Validation loss: 0.52\n",
      "Epoch:  96 Training loss: 0.57 Validation loss: 0.56\n",
      "Epoch:  97 Training loss: 0.57 Validation loss: 0.56\n",
      "Epoch:  98 Training loss: 0.57 Validation loss: 0.56\n",
      "Epoch:  99 Training loss: 0.57 Validation loss: 0.56\n",
      "Epoch: 100 Training loss: 0.58 Validation loss: 0.57\n",
      "Epoch: 101 Training loss: 0.57 Validation loss: 0.61\n",
      "Epoch: 102 Training loss: 0.56 Validation loss: 0.58\n",
      "Epoch: 103 Training loss: 0.56 Validation loss: 0.56\n",
      "Epoch: 104 Training loss: 0.56 Validation loss: 0.54\n",
      "Epoch: 105 Training loss: 0.56 Validation loss: 0.54\n",
      "Epoch: 106 Training loss: 0.57 Validation loss: 0.52\n",
      "Epoch: 107 Training loss: 0.56 Validation loss: 0.56\n",
      "Epoch: 108 Training loss: 0.56 Validation loss: 0.55\n",
      "Epoch: 109 Training loss: 0.57 Validation loss: 0.58\n",
      "Epoch: 110 Training loss: 0.57 Validation loss: 0.54\n",
      "Epoch: 111 Training loss: 0.56 Validation loss: 0.53\n",
      "Epoch: 112 Training loss: 0.56 Validation loss: 0.53\n",
      "Epoch: 113 Training loss: 0.55 Validation loss: 0.51\n",
      "Epoch: 114 Training loss: 0.55 Validation loss: 0.51\n",
      "Epoch: 115 Training loss: 0.55 Validation loss: 0.61\n",
      "Epoch: 116 Training loss: 0.56 Validation loss: 0.60\n",
      "Epoch: 117 Training loss: 0.55 Validation loss: 0.55\n",
      "Epoch: 118 Training loss: 0.57 Validation loss: 0.57\n",
      "Epoch: 119 Training loss: 0.55 Validation loss: 0.54\n",
      "Epoch: 120 Training loss: 0.56 Validation loss: 0.59\n",
      "Epoch: 121 Training loss: 0.55 Validation loss: 0.56\n",
      "Epoch: 122 Training loss: 0.56 Validation loss: 0.49\n",
      "Epoch: 123 Training loss: 0.54 Validation loss: 0.53\n",
      "Epoch: 124 Training loss: 0.55 Validation loss: 0.55\n",
      "Epoch: 125 Training loss: 0.55 Validation loss: 0.55\n",
      "Epoch: 126 Training loss: 0.55 Validation loss: 0.55\n",
      "Epoch: 127 Training loss: 0.55 Validation loss: 0.52\n",
      "Epoch: 128 Training loss: 0.55 Validation loss: 0.51\n",
      "Epoch: 129 Training loss: 0.56 Validation loss: 0.50\n",
      "Epoch: 130 Training loss: 0.55 Validation loss: 0.54\n",
      "Epoch: 131 Training loss: 0.54 Validation loss: 0.54\n",
      "Epoch: 132 Training loss: 0.54 Validation loss: 0.51\n",
      "Epoch: 133 Training loss: 0.55 Validation loss: 0.52\n",
      "Epoch: 134 Training loss: 0.55 Validation loss: 0.54\n",
      "Epoch: 135 Training loss: 0.56 Validation loss: 0.57\n",
      "Epoch: 136 Training loss: 0.55 Validation loss: 0.52\n",
      "Epoch: 137 Training loss: 0.55 Validation loss: 0.52\n",
      "Epoch: 138 Training loss: 0.54 Validation loss: 0.57\n",
      "Epoch: 139 Training loss: 0.54 Validation loss: 0.53\n",
      "Epoch: 140 Training loss: 0.55 Validation loss: 0.52\n",
      "Epoch: 141 Training loss: 0.54 Validation loss: 0.55\n",
      "Epoch: 142 Training loss: 0.55 Validation loss: 0.52\n",
      "Epoch: 143 Training loss: 0.55 Validation loss: 0.53\n",
      "Epoch: 144 Training loss: 0.55 Validation loss: 0.51\n",
      "Epoch: 145 Training loss: 0.54 Validation loss: 0.54\n",
      "Epoch: 146 Training loss: 0.54 Validation loss: 0.55\n",
      "Epoch: 147 Training loss: 0.53 Validation loss: 0.55\n",
      "Epoch: 148 Training loss: 0.55 Validation loss: 0.53\n",
      "Epoch: 149 Training loss: 0.54 Validation loss: 0.53\n",
      "Epoch: 150 Training loss: 0.54 Validation loss: 0.53\n",
      "Epoch: 151 Training loss: 0.55 Validation loss: 0.49\n",
      "Epoch: 152 Training loss: 0.53 Validation loss: 0.47\n",
      "Epoch: 153 Training loss: 0.54 Validation loss: 0.51\n",
      "Epoch: 154 Training loss: 0.54 Validation loss: 0.51\n"
     ]
    },
    {
     "name": "stdout",
     "output_type": "stream",
     "text": [
      "Epoch: 155 Training loss: 0.53 Validation loss: 0.51\n",
      "Epoch: 156 Training loss: 0.53 Validation loss: 0.55\n",
      "Epoch: 157 Training loss: 0.54 Validation loss: 0.51\n",
      "Epoch: 158 Training loss: 0.53 Validation loss: 0.54\n",
      "Epoch: 159 Training loss: 0.54 Validation loss: 0.59\n",
      "Epoch: 160 Training loss: 0.54 Validation loss: 0.52\n",
      "Epoch: 161 Training loss: 0.53 Validation loss: 0.53\n",
      "Epoch: 162 Training loss: 0.53 Validation loss: 0.47\n",
      "Epoch: 163 Training loss: 0.53 Validation loss: 0.55\n",
      "Epoch: 164 Training loss: 0.54 Validation loss: 0.47\n",
      "Epoch: 165 Training loss: 0.53 Validation loss: 0.51\n",
      "Epoch: 166 Training loss: 0.53 Validation loss: 0.51\n",
      "Epoch: 167 Training loss: 0.54 Validation loss: 0.52\n",
      "Epoch: 168 Training loss: 0.53 Validation loss: 0.51\n",
      "Epoch: 169 Training loss: 0.54 Validation loss: 0.51\n",
      "Epoch: 170 Training loss: 0.53 Validation loss: 0.54\n",
      "Epoch: 171 Training loss: 0.52 Validation loss: 0.49\n",
      "Epoch: 172 Training loss: 0.53 Validation loss: 0.53\n",
      "Epoch: 173 Training loss: 0.53 Validation loss: 0.53\n",
      "Epoch: 174 Training loss: 0.53 Validation loss: 0.45\n",
      "Epoch: 175 Training loss: 0.52 Validation loss: 0.53\n",
      "Epoch: 176 Training loss: 0.53 Validation loss: 0.59\n",
      "Epoch: 177 Training loss: 0.53 Validation loss: 0.54\n",
      "Epoch: 178 Training loss: 0.52 Validation loss: 0.52\n",
      "Epoch: 179 Training loss: 0.53 Validation loss: 0.54\n",
      "Epoch: 180 Training loss: 0.53 Validation loss: 0.50\n",
      "Epoch: 181 Training loss: 0.52 Validation loss: 0.52\n",
      "Epoch: 182 Training loss: 0.53 Validation loss: 0.51\n",
      "Epoch: 183 Training loss: 0.52 Validation loss: 0.55\n",
      "Epoch: 184 Training loss: 0.54 Validation loss: 0.54\n",
      "Epoch: 185 Training loss: 0.53 Validation loss: 0.52\n",
      "Epoch: 186 Training loss: 0.52 Validation loss: 0.55\n",
      "Epoch: 187 Training loss: 0.52 Validation loss: 0.52\n",
      "Epoch: 188 Training loss: 0.53 Validation loss: 0.50\n",
      "Epoch: 189 Training loss: 0.52 Validation loss: 0.55\n",
      "Epoch: 190 Training loss: 0.52 Validation loss: 0.51\n",
      "Epoch: 191 Training loss: 0.52 Validation loss: 0.50\n",
      "Epoch: 192 Training loss: 0.51 Validation loss: 0.53\n",
      "Epoch: 193 Training loss: 0.53 Validation loss: 0.51\n",
      "Epoch: 194 Training loss: 0.53 Validation loss: 0.53\n",
      "Epoch: 195 Training loss: 0.52 Validation loss: 0.51\n",
      "Epoch: 196 Training loss: 0.52 Validation loss: 0.51\n",
      "Epoch: 197 Training loss: 0.50 Validation loss: 0.54\n",
      "Epoch: 198 Training loss: 0.51 Validation loss: 0.51\n",
      "Epoch: 199 Training loss: 0.52 Validation loss: 0.50\n"
     ]
    }
   ],
   "source": [
    "model.train()\n",
    "\n",
    "train_losses = []\n",
    "validation_losses = []\n",
    "\n",
    "for e in range(epochs):\n",
    "    running_loss = 0\n",
    "    for fps, labels in train_loader:\n",
    "        optimizer.zero_grad()\n",
    "        output = model(fps)\n",
    "        loss = criterion(output, labels)\n",
    "        loss.backward()\n",
    "        optimizer.step()\n",
    "         \n",
    "        running_loss += loss.item()\n",
    "    else:\n",
    "        validation_loss = torch.mean(( y_validation - model(X_validation) )**2).item()\n",
    "        print(\"Epoch: %3i Training loss: %0.2F Validation loss: %0.2F\"%(e,\n",
    "                                                                        (running_loss/len(train_loader)), \n",
    "                                                                        validation_loss))\n",
    "        train_losses.append(running_loss/len(train_loader))\n",
    "        validation_losses.append(validation_loss)"
   ]
  },
  {
   "cell_type": "code",
   "execution_count": 23,
   "metadata": {
    "pycharm": {
     "name": "#%%\n"
    }
   },
   "outputs": [
    {
     "data": {
      "image/png": "[encoded data removed]",
      "text/plain": [
       "<Figure size 432x288 with 1 Axes>"
      ]
     },
     "metadata": {
      "needs_background": "light"
     },
     "output_type": "display_data"
    }
   ],
   "source": [
    "plt.plot(train_losses, label=\"Train\")\n",
    "plt.plot(validation_losses, label=\"Validation\")\n",
    "plt.legend()\n",
    "plt.show()"
   ]
  },
  {
   "cell_type": "code",
   "execution_count": 24,
   "metadata": {
    "pycharm": {
     "name": "#%%\n"
    }
   },
   "outputs": [],
   "source": [
    "model.eval()\n",
    "\n",
    "y_pred_train = model(X_train)\n",
    "y_pred_validation = model(X_validation)\n",
    "y_pred_test = model(X_test)"
   ]
  },
  {
   "cell_type": "code",
   "execution_count": 25,
   "metadata": {
    "pycharm": {
     "name": "#%%\n"
    }
   },
   "outputs": [],
   "source": [
    "def flatten(tensor):\n",
    "    return tensor.cpu().detach().numpy().flatten()\n",
    "\n",
    "y_true=flatten(y_test)\n",
    "y_pred=flatten(y_pred_test)"
   ]
  },
  {
   "cell_type": "code",
   "execution_count": 26,
   "metadata": {
    "pycharm": {
     "name": "#%%\n"
    }
   },
   "outputs": [
    {
     "data": {
      "image/png": "[encoded data removed]",
      "text/plain": [
       "<Figure size 504x504 with 1 Axes>"
      ]
     },
     "metadata": {
      "needs_background": "light"
     },
     "output_type": "display_data"
    }
   ],
   "source": [
    "plt.scatter(flatten(y_pred_test), flatten(y_test), alpha=0.5, label=\"Test\")\n",
    "plt.scatter(flatten(y_pred_train), flatten(y_train), alpha=0.1, label=\"Train\")\n",
    "plt.legend()\n",
    "plt.plot([-3, 8], [-3,8], c=\"b\")\n",
    "plt.xlabel('Predicted', fontsize=18)\n",
    "plt.ylabel('True', fontsize=18)\n",
    "\n",
    "plt.axis('square')\n",
    "fig = plt.gcf()\n",
    "fig.set_size_inches(7, 7)"
   ]
  },
  {
   "cell_type": "code",
   "execution_count": null,
   "metadata": {
    "pycharm": {
     "name": "#%%\n"
    }
   },
   "outputs": [],
   "source": []
  },
  {
   "cell_type": "markdown",
   "metadata": {
    "pycharm": {
     "name": "#%% md\n"
    }
   },
   "source": [
    "# Make prediction for a single molecule"
   ]
  },
  {
   "cell_type": "code",
   "execution_count": 27,
   "metadata": {
    "pycharm": {
     "name": "#%%\n"
    }
   },
   "outputs": [],
   "source": [
    "def predict_smiles(smiles):\n",
    "    fp = morgan_fp(Chem.MolFromSmiles(smiles)).reshape(1, -1)\n",
    "    fp_filtered = feature_select.transform(fp)\n",
    "    fp_tensor = torch.tensor(fp_filtered, device=device).float()\n",
    "    prediction = model(fp_tensor)\n",
    "    ld50 = scaler.inverse_transform(prediction.cpu().detach().numpy())\n",
    "    return ld50[0][0]"
   ]
  },
  {
   "cell_type": "code",
   "execution_count": 28,
   "metadata": {
    "pycharm": {
     "name": "#%%\n"
    }
   },
   "outputs": [
    {
     "data": {
      "text/plain": [
       "2.6658561"
      ]
     },
     "execution_count": 28,
     "metadata": {},
     "output_type": "execute_result"
    }
   ],
   "source": [
    "predict_smiles('CC1=CC(=C2C(=O)c3ccccc3C2=O)C=CN1CCN1CCCCC1')\n",
    "# should be about ~2.9"
   ]
  },
  {
   "cell_type": "markdown",
   "metadata": {
    "pycharm": {
     "name": "#%% md\n"
    }
   },
   "source": [
    "# Model assessment"
   ]
  },
  {
   "cell_type": "code",
   "execution_count": 29,
   "metadata": {
    "pycharm": {
     "name": "#%%\n"
    }
   },
   "outputs": [],
   "source": [
    "def assess_model(y_true, y_pred, X_train, y_train):\n",
    "\n",
    "    def calc_metrics(y_pred):\n",
    "        score1 = max_error(y_true, y_pred)\n",
    "        score2 = mean_absolute_error(y_true, y_pred)\n",
    "        score3 = mean_squared_error(y_true, y_pred)\n",
    "        score4 = explained_variance_score(y_true, y_pred)\n",
    "        score5 = r2_score(y_true, y_pred)\n",
    "        return score1,score2,score3,score4,score5\n",
    "\n",
    "    dummy1 = DummyRegressor(strategy=\"mean\")\n",
    "    dummy1.fit(X_train, y_train)\n",
    "    dummy_mean = dummy1.predict(X_test)\n",
    "\n",
    "    dummy2 = DummyRegressor(strategy=\"median\")\n",
    "    dummy2.fit(X_train, y_train)\n",
    "    dummy_median = dummy2.predict(X_test)\n",
    "\n",
    "    dummy3 = DummyRegressor(strategy=\"quantile\", quantile=0.0)\n",
    "    dummy3.fit(X_train, y_train)\n",
    "    dummy_quantile00 = dummy3.predict(X_test)\n",
    "\n",
    "    dummy4 = DummyRegressor(strategy=\"quantile\", quantile=0.5)\n",
    "    dummy4.fit(X_train, y_train)\n",
    "    dummy_quantile05 = dummy4.predict(X_test)\n",
    "\n",
    "    dummy5 = DummyRegressor(strategy=\"quantile\", quantile=1.0)\n",
    "    dummy5.fit(X_train, y_train)\n",
    "    dummy_quantile10 = dummy5.predict(X_test)\n",
    "    \n",
    "    results = [\n",
    "        calc_metrics(y_pred),\n",
    "        calc_metrics(dummy_mean),\n",
    "        calc_metrics(dummy_median),\n",
    "        calc_metrics(dummy_quantile00),\n",
    "        calc_metrics(dummy_quantile05),\n",
    "        calc_metrics(dummy_quantile10)\n",
    "    ]\n",
    "\n",
    "    df = pd.DataFrame(results).T \n",
    "\n",
    "    df.columns = ['Model', 'dummy(Mean)', 'dummy(Median)', \n",
    "                  'dummy(Min Quantile)', 'dummy(Median Quantile)', \n",
    "                  'dummy(Max Quantile)']\n",
    "\n",
    "    df = df.rename(index={0: \"max error\", 1: \"MAE\", 2: \"MSE\", 3:\"explained\", 4:\"r2\"})\n",
    "    pd.set_option('display.float_format', lambda x: '%.3f' % x)\n",
    "    df = df.T\n",
    "\n",
    "    def highlight_max(data, color='lightgreen'):\n",
    "        attr = 'background-color: {}'.format(color)\n",
    "        if data.ndim == 1:  \n",
    "            is_max = data == data.max()\n",
    "            return [attr if v else '' for v in is_max]\n",
    "\n",
    "    def highlight_min(data, color='lightgreen'):\n",
    "        attr = 'background-color: {}'.format(color)\n",
    "        if data.ndim == 1:  \n",
    "            is_min = data == data.min()\n",
    "            return [attr if v else '' for v in is_min]\n",
    "\n",
    "\n",
    "    return df.style.apply(highlight_min, subset=['max error', 'MAE', 'MSE']).\\\n",
    "             apply(highlight_max, subset=['explained', 'r2'])"
   ]
  },
  {
   "cell_type": "code",
   "execution_count": 30,
   "metadata": {
    "pycharm": {
     "name": "#%%\n"
    }
   },
   "outputs": [
    {
     "name": "stdout",
     "output_type": "stream",
     "text": [
      "\n",
      "Morgan FP\n",
      "VarianceThreshold(0.05)\n",
      "FeedForwardNN(epochs=200, hidden_size=512, dropout=0.70, lr=0.001)\n"
     ]
    },
    {
     "data": {
      "text/html": [
       "<style  type=\"text/css\" >\n",
       "#T_ccd3d_row0_col0,#T_ccd3d_row0_col1,#T_ccd3d_row0_col2,#T_ccd3d_row0_col3,#T_ccd3d_row0_col4{\n",
       "            background-color:  lightgreen;\n",
       "        }</style><table id=\"T_ccd3d_\" ><thead>    <tr>        <th class=\"blank level0\" ></th>        <th class=\"col_heading level0 col0\" >max error</th>        <th class=\"col_heading level0 col1\" >MAE</th>        <th class=\"col_heading level0 col2\" >MSE</th>        <th class=\"col_heading level0 col3\" >explained</th>        <th class=\"col_heading level0 col4\" >r2</th>    </tr></thead><tbody>\n",
       "                <tr>\n",
       "                        <th id=\"T_ccd3d_level0_row0\" class=\"row_heading level0 row0\" >Model</th>\n",
       "                        <td id=\"T_ccd3d_row0_col0\" class=\"data row0 col0\" >3.781245</td>\n",
       "                        <td id=\"T_ccd3d_row0_col1\" class=\"data row0 col1\" >0.498380</td>\n",
       "                        <td id=\"T_ccd3d_row0_col2\" class=\"data row0 col2\" >0.438224</td>\n",
       "                        <td id=\"T_ccd3d_row0_col3\" class=\"data row0 col3\" >0.503418</td>\n",
       "                        <td id=\"T_ccd3d_row0_col4\" class=\"data row0 col4\" >0.503213</td>\n",
       "            </tr>\n",
       "            <tr>\n",
       "                        <th id=\"T_ccd3d_level0_row1\" class=\"row_heading level0 row1\" >dummy(Mean)</th>\n",
       "                        <td id=\"T_ccd3d_row1_col0\" class=\"data row1 col0\" >3.923546</td>\n",
       "                        <td id=\"T_ccd3d_row1_col1\" class=\"data row1 col1\" >0.741133</td>\n",
       "                        <td id=\"T_ccd3d_row1_col2\" class=\"data row1 col2\" >0.883702</td>\n",
       "                        <td id=\"T_ccd3d_row1_col3\" class=\"data row1 col3\" >0.000000</td>\n",
       "                        <td id=\"T_ccd3d_row1_col4\" class=\"data row1 col4\" >-0.001798</td>\n",
       "            </tr>\n",
       "            <tr>\n",
       "                        <th id=\"T_ccd3d_level0_row2\" class=\"row_heading level0 row2\" >dummy(Median)</th>\n",
       "                        <td id=\"T_ccd3d_row2_col0\" class=\"data row2 col0\" >4.106296</td>\n",
       "                        <td id=\"T_ccd3d_row2_col1\" class=\"data row2 col1\" >0.717601</td>\n",
       "                        <td id=\"T_ccd3d_row2_col2\" class=\"data row2 col2\" >0.902543</td>\n",
       "                        <td id=\"T_ccd3d_row2_col3\" class=\"data row2 col3\" >0.000000</td>\n",
       "                        <td id=\"T_ccd3d_row2_col4\" class=\"data row2 col4\" >-0.023156</td>\n",
       "            </tr>\n",
       "            <tr>\n",
       "                        <th id=\"T_ccd3d_level0_row3\" class=\"row_heading level0 row3\" >dummy(Min Quantile)</th>\n",
       "                        <td id=\"T_ccd3d_row3_col0\" class=\"data row3 col0\" >6.916358</td>\n",
       "                        <td id=\"T_ccd3d_row3_col1\" class=\"data row3 col1\" >2.952983</td>\n",
       "                        <td id=\"T_ccd3d_row3_col2\" class=\"data row3 col2\" >9.602224</td>\n",
       "                        <td id=\"T_ccd3d_row3_col3\" class=\"data row3 col3\" >-0.000000</td>\n",
       "                        <td id=\"T_ccd3d_row3_col4\" class=\"data row3 col4\" >-9.885442</td>\n",
       "            </tr>\n",
       "            <tr>\n",
       "                        <th id=\"T_ccd3d_level0_row4\" class=\"row_heading level0 row4\" >dummy(Median Quantile)</th>\n",
       "                        <td id=\"T_ccd3d_row4_col0\" class=\"data row4 col0\" >4.106296</td>\n",
       "                        <td id=\"T_ccd3d_row4_col1\" class=\"data row4 col1\" >0.717601</td>\n",
       "                        <td id=\"T_ccd3d_row4_col2\" class=\"data row4 col2\" >0.902543</td>\n",
       "                        <td id=\"T_ccd3d_row4_col3\" class=\"data row4 col3\" >-0.000000</td>\n",
       "                        <td id=\"T_ccd3d_row4_col4\" class=\"data row4 col4\" >-0.023156</td>\n",
       "            </tr>\n",
       "            <tr>\n",
       "                        <th id=\"T_ccd3d_level0_row5\" class=\"row_heading level0 row5\" >dummy(Max Quantile)</th>\n",
       "                        <td id=\"T_ccd3d_row5_col0\" class=\"data row5 col0\" >9.860083</td>\n",
       "                        <td id=\"T_ccd3d_row5_col1\" class=\"data row5 col1\" >7.978488</td>\n",
       "                        <td id=\"T_ccd3d_row5_col2\" class=\"data row5 col2\" >64.538391</td>\n",
       "                        <td id=\"T_ccd3d_row5_col3\" class=\"data row5 col3\" >-0.000000</td>\n",
       "                        <td id=\"T_ccd3d_row5_col4\" class=\"data row5 col4\" >-72.163150</td>\n",
       "            </tr>\n",
       "    </tbody></table>"
      ],
      "text/plain": [
       "<pandas.io.formats.style.Styler at 0x23019dbef48>"
      ]
     },
     "execution_count": 30,
     "metadata": {},
     "output_type": "execute_result"
    }
   ],
   "source": [
    "print(\"\\n\"+\"Morgan FP\")\n",
    "print(\"VarianceThreshold(0.05)\")\n",
    "print(\"FeedForwardNN(epochs=200, hidden_size=512, dropout=0.70, lr=0.001)\")\n",
    "assess_model(y_true, y_pred, X_train, y_train)"
   ]
  },
  {
   "cell_type": "markdown",
   "source": [
    "# Well, this model certainly gives better predictions than any dummy model"
   ],
   "metadata": {
    "collapsed": false,
    "pycharm": {
     "name": "#%% md\n"
    }
   }
  }
 ],
 "metadata": {
  "kernelspec": {
   "display_name": "Python 3.8.8 ('base')",
   "language": "python",
   "name": "python3"
  },
  "language_info": {
   "codemirror_mode": {
    "name": "ipython",
    "version": 3
   },
   "file_extension": ".py",
   "mimetype": "text/x-python",
   "name": "python",
   "nbconvert_exporter": "python",
   "pygments_lexer": "ipython3",
   "version": "3.8.8"
  },
  "vscode": {
   "interpreter": {
    "hash": "f8b224611d42a3ae487a9cb1341da43f84e2a6cb9140c3fbcf64110fe3528075"
   }
  }
 },
 "nbformat": 4,
 "nbformat_minor": 4
}